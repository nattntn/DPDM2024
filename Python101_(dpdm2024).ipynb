{
  "nbformat": 4,
  "nbformat_minor": 0,
  "metadata": {
    "colab": {
      "provenance": [],
      "toc_visible": true,
      "include_colab_link": true
    },
    "kernelspec": {
      "name": "python3",
      "display_name": "Python 3"
    },
    "language_info": {
      "name": "python"
    }
  },
  "cells": [
    {
      "cell_type": "markdown",
      "metadata": {
        "id": "view-in-github",
        "colab_type": "text"
      },
      "source": [
        "<a href=\"https://colab.research.google.com/github/nattntn/DPDM2024/blob/main/Python101_(dpdm2024).ipynb\" target=\"_parent\"><img src=\"https://colab.research.google.com/assets/colab-badge.svg\" alt=\"Open In Colab\"/></a>"
      ]
    },
    {
      "cell_type": "markdown",
      "source": [
        "# markdown\n",
        "\n",
        "# ใช้  header เพื่อจัดการ เอกสารและการ index\n",
        "\n",
        "# header1\n",
        "\n",
        "## header2"
      ],
      "metadata": {
        "id": "fXwXAncl0fSn"
      }
    },
    {
      "cell_type": "markdown",
      "source": [
        "# start 19 June 2024"
      ],
      "metadata": {
        "id": "W292sT2ZGtit"
      }
    },
    {
      "cell_type": "markdown",
      "source": [
        "# Python101"
      ],
      "metadata": {
        "id": "VmGtCcGmO4nt"
      }
    },
    {
      "cell_type": "markdown",
      "source": [
        "พฐ python  เหมาะกับการทำ data science"
      ],
      "metadata": {
        "id": "g1cpZJUHkGuB"
      }
    },
    {
      "cell_type": "markdown",
      "source": [
        "## Python example (ตัวอย่าง Python)"
      ],
      "metadata": {
        "id": "JUIWH8idYBIF"
      }
    },
    {
      "cell_type": "markdown",
      "source": [
        "1. for loop  used indentation คือการเว้นเข้าไป เพื่อบอกว่าโค้ด for loop ที่ย่อเข้าไป เป็นส่วนหนึ่งของ line หลัก\n",
        "\n",
        "2. ภาษา python  ให้ความสำคัญกับวงเล็บ  [ระบุ set ของข้อมูล], <ระบุ set ของข้อมูล> , (ส่วนหนึ่งของ func)"
      ],
      "metadata": {
        "id": "Xc78JC3LkVjO"
      }
    },
    {
      "cell_type": "code",
      "source": [
        "for i in ['a','b','c'] :\n",
        "  print(i,end=' ')\n",
        "  print('/')\n",
        "  for j in range(10):\n",
        "    ccc=10"
      ],
      "metadata": {
        "colab": {
          "base_uri": "https://localhost:8080/"
        },
        "id": "dyfOsfVnX8zV",
        "outputId": "7538d6c0-a1f2-4d54-c666-12c2f7e3b2e1"
      },
      "execution_count": null,
      "outputs": [
        {
          "output_type": "stream",
          "name": "stdout",
          "text": [
            "a /\n",
            "b /\n",
            "c /\n"
          ]
        }
      ]
    },
    {
      "cell_type": "code",
      "execution_count": null,
      "metadata": {
        "colab": {
          "base_uri": "https://localhost:8080/"
        },
        "id": "UkqSZC68X4cg",
        "outputId": "8af4f1ca-3849-47b2-cf74-97df16cd969b"
      },
      "outputs": [
        {
          "output_type": "stream",
          "name": "stdout",
          "text": [
            "a /\n",
            "10\n",
            "10\n",
            "10\n",
            "10\n",
            "10\n",
            "10\n",
            "10\n",
            "10\n",
            "10\n",
            "10\n",
            "b /\n",
            "10\n",
            "10\n",
            "10\n",
            "10\n",
            "10\n",
            "10\n",
            "10\n",
            "10\n",
            "10\n",
            "10\n",
            "c /\n",
            "10\n",
            "10\n",
            "10\n",
            "10\n",
            "10\n",
            "10\n",
            "10\n",
            "10\n",
            "10\n",
            "10\n"
          ]
        }
      ],
      "source": [
        "for i in ['a','b','c']:\n",
        "    print(i,end=' ')\n",
        "    print('/')\n",
        "    for j in range (10):\n",
        "        ccc=10\n",
        "        print(ccc)"
      ]
    },
    {
      "cell_type": "markdown",
      "source": [
        "# Intro to string and print statement\n",
        "\n",
        "การจัดการข้อมูลประเภท String"
      ],
      "metadata": {
        "id": "sUmW9DZPX9dY"
      }
    },
    {
      "cell_type": "markdown",
      "source": [
        "วิธีการ define ตัวแปร\n",
        "\n",
        "```\n",
        "variable_a = ข้อมูลที่เราต้องการ\n",
        "```\n",
        "\n",
        "ซึ่งเราไม่ต้องกำหนดชนิดตัวแปรเองมันจะกำหนดให้เราเลย แต่เราก็ต้องเข้าใจชนิดของมันเองว่ามันคืออะไร เพื่อให้นำไปใช้งานได้ถูกต้อง\n",
        "\n",
        "ตัวแปรเก็บข้อมูลได้แค่ 1 อย่าง ต่างจากโครงสร้างข้อมูล"
      ],
      "metadata": {
        "id": "W6BdTRMjlgx6"
      }
    },
    {
      "cell_type": "markdown",
      "source": [
        "## String(text) ข้อมูลประเภท String"
      ],
      "metadata": {
        "id": "mgTqdqC-YbVr"
      }
    },
    {
      "cell_type": "markdown",
      "source": [
        "บอกว่าเป็น text ด้วย  \" \", ' '    \n",
        "\n",
        "มี 2 ประเภท เพราะเอาไว้ใช้ในกรณีที่ text ซ้อน text"
      ],
      "metadata": {
        "id": "0N6h7u1dmYNX"
      }
    },
    {
      "cell_type": "code",
      "source": [
        "text1 = \"Stat\""
      ],
      "metadata": {
        "id": "Aki52LSMYeGR"
      },
      "execution_count": null,
      "outputs": []
    },
    {
      "cell_type": "code",
      "source": [
        "text2 = 'ม.ขอนแก่น'"
      ],
      "metadata": {
        "id": "DXqpcfVVYhNf"
      },
      "execution_count": null,
      "outputs": []
    },
    {
      "cell_type": "code",
      "source": [
        "text3 = '123456'"
      ],
      "metadata": {
        "id": "DN3jMbBYqa_m"
      },
      "execution_count": null,
      "outputs": []
    },
    {
      "cell_type": "code",
      "source": [
        "print(text1) # เป็น func()"
      ],
      "metadata": {
        "colab": {
          "base_uri": "https://localhost:8080/"
        },
        "id": "gYbLncc1Yhwy",
        "outputId": "e1a8321e-bde9-4e1d-9af1-a2fa54fedeec"
      },
      "execution_count": null,
      "outputs": [
        {
          "output_type": "stream",
          "name": "stdout",
          "text": [
            "Stat\n"
          ]
        }
      ]
    },
    {
      "cell_type": "markdown",
      "source": [
        "เราสามารถนำ String + String ได้"
      ],
      "metadata": {
        "id": "w78M592zPNl3"
      }
    },
    {
      "cell_type": "code",
      "source": [
        "print(text1+text2)"
      ],
      "metadata": {
        "colab": {
          "base_uri": "https://localhost:8080/"
        },
        "id": "mZZ3M0wbYkru",
        "outputId": "428fb953-2a6e-4328-d886-1f85ac3a603f"
      },
      "execution_count": null,
      "outputs": [
        {
          "output_type": "stream",
          "name": "stdout",
          "text": [
            "Statม.ขอนแก่น\n"
          ]
        }
      ]
    },
    {
      "cell_type": "code",
      "source": [
        "int1 = 5"
      ],
      "metadata": {
        "id": "1_H0mkGmoqwC"
      },
      "execution_count": null,
      "outputs": []
    },
    {
      "cell_type": "markdown",
      "source": [
        "แต่ไม่สามารถ + ตัวเลขได้"
      ],
      "metadata": {
        "id": "z_z8I5lTPRyK"
      }
    },
    {
      "cell_type": "code",
      "source": [
        "print(text1 + int1) # ทำใน func ก่อน error ก็ต่าง // concatenate ไม่ได้"
      ],
      "metadata": {
        "colab": {
          "base_uri": "https://localhost:8080/",
          "height": 146
        },
        "id": "XbzhKsNqovQo",
        "outputId": "b30f75a1-d023-4cfd-a6ff-0819e3d6f292"
      },
      "execution_count": null,
      "outputs": [
        {
          "output_type": "error",
          "ename": "TypeError",
          "evalue": "can only concatenate str (not \"int\") to str",
          "traceback": [
            "\u001b[0;31m---------------------------------------------------------------------------\u001b[0m",
            "\u001b[0;31mTypeError\u001b[0m                                 Traceback (most recent call last)",
            "\u001b[0;32m<ipython-input-11-1e39db73f82c>\u001b[0m in \u001b[0;36m<cell line: 1>\u001b[0;34m()\u001b[0m\n\u001b[0;32m----> 1\u001b[0;31m \u001b[0mprint\u001b[0m\u001b[0;34m(\u001b[0m\u001b[0mtext1\u001b[0m \u001b[0;34m+\u001b[0m \u001b[0mint1\u001b[0m\u001b[0;34m)\u001b[0m\u001b[0;34m\u001b[0m\u001b[0;34m\u001b[0m\u001b[0m\n\u001b[0m",
            "\u001b[0;31mTypeError\u001b[0m: can only concatenate str (not \"int\") to str"
          ]
        }
      ]
    },
    {
      "cell_type": "code",
      "source": [
        "print(text1 + 5)"
      ],
      "metadata": {
        "colab": {
          "base_uri": "https://localhost:8080/",
          "height": 146
        },
        "id": "zRL7x7KpYquR",
        "outputId": "5f0bd100-74e8-420e-9c7c-b2ab2684f873"
      },
      "execution_count": null,
      "outputs": [
        {
          "output_type": "error",
          "ename": "TypeError",
          "evalue": "can only concatenate str (not \"int\") to str",
          "traceback": [
            "\u001b[0;31m---------------------------------------------------------------------------\u001b[0m",
            "\u001b[0;31mTypeError\u001b[0m                                 Traceback (most recent call last)",
            "\u001b[0;32m<ipython-input-10-bc6446dfb353>\u001b[0m in \u001b[0;36m<cell line: 1>\u001b[0;34m()\u001b[0m\n\u001b[0;32m----> 1\u001b[0;31m \u001b[0mprint\u001b[0m\u001b[0;34m(\u001b[0m\u001b[0mtext1\u001b[0m \u001b[0;34m+\u001b[0m \u001b[0;36m5\u001b[0m\u001b[0;34m)\u001b[0m\u001b[0;34m\u001b[0m\u001b[0;34m\u001b[0m\u001b[0m\n\u001b[0m",
            "\u001b[0;31mTypeError\u001b[0m: can only concatenate str (not \"int\") to str"
          ]
        }
      ]
    },
    {
      "cell_type": "code",
      "source": [
        "print(int1 + text1) # operand  เอาไป +-*/ ไม่ได้"
      ],
      "metadata": {
        "colab": {
          "base_uri": "https://localhost:8080/",
          "height": 146
        },
        "id": "-llIefCzYtaH",
        "outputId": "70bc2dec-98e2-4152-f6df-d1a9e99bfc9c"
      },
      "execution_count": null,
      "outputs": [
        {
          "output_type": "error",
          "ename": "TypeError",
          "evalue": "unsupported operand type(s) for +: 'int' and 'str'",
          "traceback": [
            "\u001b[0;31m---------------------------------------------------------------------------\u001b[0m",
            "\u001b[0;31mTypeError\u001b[0m                                 Traceback (most recent call last)",
            "\u001b[0;32m<ipython-input-12-7d561b838d8e>\u001b[0m in \u001b[0;36m<cell line: 1>\u001b[0;34m()\u001b[0m\n\u001b[0;32m----> 1\u001b[0;31m \u001b[0mprint\u001b[0m\u001b[0;34m(\u001b[0m\u001b[0mint1\u001b[0m \u001b[0;34m+\u001b[0m \u001b[0mtext1\u001b[0m\u001b[0;34m)\u001b[0m\u001b[0;34m\u001b[0m\u001b[0;34m\u001b[0m\u001b[0m\n\u001b[0m",
            "\u001b[0;31mTypeError\u001b[0m: unsupported operand type(s) for +: 'int' and 'str'"
          ]
        }
      ]
    },
    {
      "cell_type": "code",
      "source": [
        "print(int1 + text3) # operand  เอาไป +-*/ ไม่ได้"
      ],
      "metadata": {
        "colab": {
          "base_uri": "https://localhost:8080/",
          "height": 146
        },
        "id": "G8LX92Ewqh8o",
        "outputId": "f9a3b68a-13dd-456c-c42b-65199c9ff85c"
      },
      "execution_count": null,
      "outputs": [
        {
          "output_type": "error",
          "ename": "TypeError",
          "evalue": "unsupported operand type(s) for +: 'int' and 'str'",
          "traceback": [
            "\u001b[0;31m---------------------------------------------------------------------------\u001b[0m",
            "\u001b[0;31mTypeError\u001b[0m                                 Traceback (most recent call last)",
            "\u001b[0;32m<ipython-input-14-16b2c18e6c96>\u001b[0m in \u001b[0;36m<cell line: 1>\u001b[0;34m()\u001b[0m\n\u001b[0;32m----> 1\u001b[0;31m \u001b[0mprint\u001b[0m\u001b[0;34m(\u001b[0m\u001b[0mint1\u001b[0m \u001b[0;34m+\u001b[0m \u001b[0mtext3\u001b[0m\u001b[0;34m)\u001b[0m \u001b[0;31m# operand  เอาไป +-*/ ไม่ได้\u001b[0m\u001b[0;34m\u001b[0m\u001b[0;34m\u001b[0m\u001b[0m\n\u001b[0m",
            "\u001b[0;31mTypeError\u001b[0m: unsupported operand type(s) for +: 'int' and 'str'"
          ]
        }
      ]
    },
    {
      "cell_type": "markdown",
      "source": [
        "## การใช้ generative ai ช่วยในการเขียน code"
      ],
      "metadata": {
        "id": "sA41w8-jZpHF"
      }
    },
    {
      "cell_type": "code",
      "source": [
        "# prompt: สุ่มตัวเลข 10 ตัว ใส่ตัวแปร x\n",
        "\n",
        "import random\n",
        "\n",
        "x = [random.randint(0, 9) for _ in range(10)]\n"
      ],
      "metadata": {
        "colab": {
          "base_uri": "https://localhost:8080/"
        },
        "id": "GahWUv35rKgx",
        "outputId": "a04e1bdb-4a55-46a3-ee24-3c1ce332f348"
      },
      "execution_count": null,
      "outputs": [
        {
          "output_type": "stream",
          "name": "stdout",
          "text": [
            "7\n",
            "0\n",
            "0\n",
            "0\n",
            "2\n",
            "3\n",
            "9\n",
            "1\n",
            "3\n",
            "1\n"
          ]
        }
      ]
    },
    {
      "cell_type": "markdown",
      "source": [
        "## เราสามารถจัดการ text  แบบพิเศษ (ใช้ตัวแปร หรือ run code ใน text) ได้โดยใช้\n",
        "\n",
        "```\n",
        "f'ข้อความ {ส่วนของ code1} ข้อความ2 {ส่วนของ code2}'\n",
        "```"
      ],
      "metadata": {
        "id": "UYg3jp91upkR"
      }
    },
    {
      "cell_type": "markdown",
      "source": [
        "python จัดการ text ได้ดีมากกกกกกกกกกกกกกกกกกก"
      ],
      "metadata": {
        "id": "VupwP0v3ui1q"
      }
    },
    {
      "cell_type": "code",
      "source": [
        "print(f'six plus five = {6+5}')"
      ],
      "metadata": {
        "colab": {
          "base_uri": "https://localhost:8080/"
        },
        "id": "C5A30Uq5ZmAB",
        "outputId": "ccb3b9c3-b911-427a-cfab-073d0a071eac"
      },
      "execution_count": null,
      "outputs": [
        {
          "output_type": "stream",
          "name": "stdout",
          "text": [
            "six plus five = 11\n"
          ]
        }
      ]
    },
    {
      "cell_type": "code",
      "source": [
        "print(f'six plus five = {6+5:.2f}') # : .2f หมายถึงทำเป็นทศนิยม 2 ตำแหน่ง"
      ],
      "metadata": {
        "colab": {
          "base_uri": "https://localhost:8080/"
        },
        "id": "7uE5avqdZ4Lo",
        "outputId": "fedb847a-0c3a-434e-bc14-c987dbf8dfce"
      },
      "execution_count": null,
      "outputs": [
        {
          "output_type": "stream",
          "name": "stdout",
          "text": [
            "six plus five = 11.00\n"
          ]
        }
      ]
    },
    {
      "cell_type": "code",
      "source": [
        "print(f'six plus five = {6+5:.2f}%') # % หมายถึงเป็น %"
      ],
      "metadata": {
        "colab": {
          "base_uri": "https://localhost:8080/"
        },
        "id": "0bZygJghZnsP",
        "outputId": "6940a62b-cfc3-4edf-ee7b-2014562329cb"
      },
      "execution_count": null,
      "outputs": [
        {
          "output_type": "stream",
          "name": "stdout",
          "text": [
            "six plus five = 11.00%\n"
          ]
        }
      ]
    },
    {
      "cell_type": "code",
      "source": [
        "print(f'six plus five = {6+5.7:.0f}%') # .0f หมายถึง ไม่เอาทศนิยม"
      ],
      "metadata": {
        "colab": {
          "base_uri": "https://localhost:8080/"
        },
        "id": "YovMbr3zZo4p",
        "outputId": "aa5bd7e8-4fe2-402d-f3db-bb39076b32b9"
      },
      "execution_count": null,
      "outputs": [
        {
          "output_type": "stream",
          "name": "stdout",
          "text": [
            "six plus five = 12%\n"
          ]
        }
      ]
    },
    {
      "cell_type": "code",
      "source": [
        "print(f'six plus five = {6+5:03d}') # 3d แสดงผลลัพธ์ 3 หลัก 0 คือถ้าไม่มีหลักไหนให้เติม 0 เข้าไป"
      ],
      "metadata": {
        "colab": {
          "base_uri": "https://localhost:8080/"
        },
        "id": "ZqEvgTlFZqTi",
        "outputId": "7444b9b3-79b3-4aed-bf25-c979b7891909"
      },
      "execution_count": null,
      "outputs": [
        {
          "output_type": "stream",
          "name": "stdout",
          "text": [
            "six plus five = 011\n"
          ]
        }
      ]
    },
    {
      "cell_type": "code",
      "source": [
        "st1 = f'six plus five = {6+5:03d}' #เก็บข้อมูลใน st1"
      ],
      "metadata": {
        "id": "Xk6sLHDoZ-5l"
      },
      "execution_count": null,
      "outputs": []
    },
    {
      "cell_type": "code",
      "source": [
        "st1 #แสดงผลออกมา"
      ],
      "metadata": {
        "colab": {
          "base_uri": "https://localhost:8080/",
          "height": 36
        },
        "id": "07IuSmjnaAbw",
        "outputId": "0a383c07-11e4-4786-99f2-384f7d0b374e"
      },
      "execution_count": null,
      "outputs": [
        {
          "output_type": "execute_result",
          "data": {
            "text/plain": [
              "'six plus five = 011'"
            ],
            "application/vnd.google.colaboratory.intrinsic+json": {
              "type": "string"
            }
          },
          "metadata": {},
          "execution_count": 28
        }
      ]
    },
    {
      "cell_type": "code",
      "source": [
        "f'six plus five = {'six'+'five'}' #การใช้งาน quote และ double quote # มันจะจับ '' แรกก่อน แล้ว text ที่เหลือมันเลยมั่ว"
      ],
      "metadata": {
        "colab": {
          "base_uri": "https://localhost:8080/",
          "height": 110
        },
        "id": "3U1_jg4bwRp2",
        "outputId": "019c7cc1-9b29-40fb-d9aa-d2679bdfdbc7"
      },
      "execution_count": null,
      "outputs": [
        {
          "output_type": "error",
          "ename": "SyntaxError",
          "evalue": "f-string: expecting '}' (<ipython-input-30-5e58c589662b>, line 1)",
          "traceback": [
            "\u001b[0;36m  File \u001b[0;32m\"<ipython-input-30-5e58c589662b>\"\u001b[0;36m, line \u001b[0;32m1\u001b[0m\n\u001b[0;31m    f'six plus five = {'six'+'five'}' #การใช้งาน quote และ double quote\u001b[0m\n\u001b[0m                        ^\u001b[0m\n\u001b[0;31mSyntaxError\u001b[0m\u001b[0;31m:\u001b[0m f-string: expecting '}'\n"
          ]
        }
      ]
    },
    {
      "cell_type": "code",
      "source": [
        "f\"six plus five = {'six'+'five'}\" #การใช้งาน quote และ double quote"
      ],
      "metadata": {
        "colab": {
          "base_uri": "https://localhost:8080/",
          "height": 36
        },
        "id": "SuupgxJ7w6uR",
        "outputId": "03993eb0-41db-4f76-8c70-f868487dfaa8"
      },
      "execution_count": null,
      "outputs": [
        {
          "output_type": "execute_result",
          "data": {
            "text/plain": [
              "'six plus five = sixfive'"
            ],
            "application/vnd.google.colaboratory.intrinsic+json": {
              "type": "string"
            }
          },
          "metadata": {},
          "execution_count": 31
        }
      ]
    },
    {
      "cell_type": "markdown",
      "source": [
        "## Advanced printing\n",
        "\n",
        "(การแสดงผลแบบ Advance)"
      ],
      "metadata": {
        "id": "MEflkU7kZRHh"
      }
    },
    {
      "cell_type": "markdown",
      "source": [
        "## Print"
      ],
      "metadata": {
        "id": "DnuoY9TgiBLy"
      }
    },
    {
      "cell_type": "markdown",
      "source": [
        "func() in python มี input ได้หลายตัว\n",
        "\n",
        "ex.\n",
        "```\n",
        "print(object(s), sep=separator, end=end, file=file, flush=flush)\n",
        "\n",
        "```\n",
        "\n",
        "![image.png](data:image/png;base64,iVBORw0KGgoAAAANSUhEUgAABOAAAAIOCAYAAAARJXK4AAAAAXNSR0IArs4c6QAAAARnQU1BAACxjwv8YQUAAAAJcEhZcwAAEnQAABJ0Ad5mH3gAAPseSURBVHhe7P0PcFX1nf/xv/itO+JsvxX319JkV1njqNtQaAnoliDUIRF3vIgz3BTnR1I7xdD9omHrn+A/oDpioP4hWFuifFsindokM7IJMyrX2WLiuGBClz9hC0tccYiLbpNN/S5o7RCmfuf+Pufcz7n33L+5N8lNAj4fMyc599xzzz3ncz6fz/mc9z3ncyaFDQEAAAAAAADIi/+P/Q8AAAAAAAAgDwjAAQAAAAAAAHlEAA4AAAAAAADIIwJwAAAAAAAAQB4RgAMAAAAAAADyiAAcAAAAAAAAkEcE4AAAAAAAAIA8IgAHAAAAAAAA5NHwAnCfnVHPm81qeHClym+ep6smTdIkbyicbqZVaPUzzep454z9AAAAAAAAAPD5NCls2PEsnFHXT9do/aZGdfTbSUMoevqwTj5QYl8BAAAAAAAAny/ZXwH3aZc2lhVr3g+yD745egcH7dh57KMedbTUa3WgXl12EgAAAAAAAJCNLANwvWq+O6j1b3qRtwIVL9+s1u6TOv2HsJyL6Lzh7Ok+He9q1da7Aiqyc5/XPmxWxZenq7xyjRpevwCCiQAAAAAAABhTWQXgzuzaqKqXvOBbqWpe6dTx5loFZxVpyhfsZGvylAIVzw2q5vndOtnXrrrLJ9t3AAAAAAAAgM+fLAJw/Qq1NNpxqeCROm1ekuW1bQVlWreC/t8AAAAAAADw+ZVFAK5XvTvtqFG1cJ64pg0AAAAAAADITvYPYQAAAAAAAACQsywCcJOdZy5Edezv1vAeRdCt+pJJmjQpMize0WunZ+OM2u6MfXblrjN2uqNfzbfH3qto8T2i9aNutT2zWhWlV0XfL5xZrpUPZn6Sa9cTseVNuqJKbXa6tF7zvOnRYWOGJ6MOqv9ImxofNetw8zxd5fvcVaWR9Qi949+WeIN71qgw+pl5qj9i38igf2dV7DMl69X1qX0DAAAAAAAA4yKLAFyxSlfEInDdj9aqfv9wQnAlKquM9QcX2tmhrENw77WqcYcdV7UCC6bY8XQG1dOyWvO+PFsVDzaobX/sm/qPdajxmZUqL7xKK3f0DDOYOBTz/bs2quKaS1RYUqGVT5h12NMVt729+yPrsbj4Ms37QShlWkxetF6Nd3lp36U1axszp9mnHdr8g2ZFYoslWvfT9SpNeEgGAAAAAAAAxlZWV8CV3d2gymgMrkvrS8u0uiX34FXJ0hoF7Lheb1bHe3Z8CL172xSy4wWPVCrwJfsipbPqbalWWWWDe2VawYwyla2oVe0K83+G71I+9arxzjKteTX5CrTJU8y8i+ywsNh3AWCRSr3p0WFKij7xutUWXK823/a567GoWrVP16rafK7YtypdP12sqie6UqTnFAU2NKrGm/f19apPsb4Rg+p6do3q7ZV9JT9s0Pr59NYHAAAAAAAw7sJZOvlKTbjUzO58xBsKFtaGm7pP2zmycTrcuiL2+ZIth+30TE6Gty/yPlMS3txtJ0f1hZuWxZYZvCuynu66HU1et9Ndm8OBgtj8mrU5nHEtPmgKB715VRfutJMz6wzXOfNfHQzXNXeGT/7BTvb70+lw55ZAuCC67EB4+wn7XoK+lytj880y63DWvuHXvTm2f2atC3em+k4AAAAAAACMuawfwlC0ZKtCBzYr4Ltyq//NelWVXKarAmvUuD9Dp2pRU1S2pNqOS92/7FC3HU/rSJsa9tjxRTUKzrLjabS90KCuuXVqe2WzKmck36o6ZW6tWneuU/Rm2COb1frmaN+IOllTfrhbfT2tWre8VEWpbgO9aIpK72tU/TL7WiE1vJo6NQqW1an+DpvwR9ar7qXEG1F71bxpje2LrkC1T3PrKQAAAAAAwESR01NQp1xXq909x9V0X5n/uQzqfb1eK0sL3UBc87H0DxVwTLmlUuu8Dx9pUscQDxbo3tMUDdIFlpepyI6nV6rNL6zLGICaPL9aNbfYF+pX6EiPHR8tJarZEFDBRfZlWgUK3FFjx822dvfa/tsSFalyQ72C9lXo0XqFPrIvjDOv1qt2Z2S84IEm1S3i1lMAAAAAAICJIqcAnGtKsSq3tKvnxG5tXu7vHy0SiKuaeZmuurNRPenicJPLVHG/d/1Zt5r2ZLgGbrBDrVu896tVvWTo8JuWrVbVEFfJOQGt2YtiD4ToPtGnzGHD/Jny5UI7ZgxmuBLvykpt/pntQa+/Qet/YvuM+7RDdf/QEAncFdSq6dGyFH3SAQAAAAAAYLzkHoCzplwdUG3z8dSBuB0rNb24So3vpA4olSyqit4C2r0lZG+dTDbY1aFGe0nY0A9fiChbVBq3LukUXl5sx4yPzuT8QIlcDZ45ozPvd6vjzTY1PlOv9XdXqPzmebqqdL2dY2hF39+q7fbKve4natVwZFDdP11vH7xQoNpf1qmMW08BAAAAAAAmlGEH4DxxgbhlvivU+pu1cuFibdyfIrQ1Kxi7BbR/qzr22/E4Z9Sxc6O9JbNEa27P7squKV+4xI5lVnDFdDuWP2feC6nh7sWaXjhJl1x2mS4rmq3ysgqtfHCNNr7Qpo49XUrszS2zIlVv2qxSd7xLm+9frJq1tuc3bj0FAAAAAACYkEYcgPO4gbiXj+t4c40NEBn9HVp/X726k2JwRar4vvcwhn5tfaUj+Qq0jzrU9oIdn1WlsiFvK51APutV2w/m6bJrFmv1CyH1JHXsVqDihWUqW1GrzXfZ20qzNatGDZsiKdz/Zkfk6kFuPQUAAAAAAJiwRi0AFzFZxcu3qqm5MnYb6P71ang9uYe1KQuD8h4/0L+jQ50JEbgze0NqtOOBHwRjTy2d8PrVduc8VfzUu7G2wKRJrba3tetw72md/kNY4XCfjne0q/3Fzar97jw7X7ZMGl83L/422ysLdRm3ngIAAAAAAExIoxyAiyhaXq/6ZfaF0binM/khB1PKFHzEhpH6Nyq01x+B61Xrz73wW5YPX5ggBt/cqpqXvI7rKrX9aI+ON29W9dIylVw5RVNGGij7KKQ1362Pf1rq/jWqeTbDwywAAAAAAAAwbvISgHOv+ir1XbOW8iEHk1V2+5rolW31ezpj87zXobbX7fgD2T18YWIYVOfrXr91UmBTnapnTLGv0vjsrB3JRr/a7q9Wg/sFparraFedvTW36/4a1R+JjAMAAAAAAGDiyFMALkvOwxgW2fFn2tRhL5PrfrVBIXesQOtumXce9W12Rv3v21FjXvHQV+719qR7Bmyy3pba6NV1BQ/UqXZhmWo21NjbUbu05q56cR0cAAAAAADAxJKnAFyvDu+JhYIKZhbF91kWVaSy5d5DCBoU2utE4LrV8Uv72VlrVLFwIoXfcrlaLQufdqnx+Q77YgjvN2v9/c2Rq+sKatT4YOShC1OWrFfDHTZ1uRUVAAAAAABgwhk6APdhmzY+E1LPR/Z1FnpfWq/13i2kKlD1/PSPUChaUi3veagNr3fqzP6QNttbKSfEwxcumuy7Aq9Lx9+zo2lM9sULW/dmCoadUdeztdqY1W2jvWp+sErNkeibKn+y3ndbboGCj9bJC2NyKyoAAAAAAMDEksUVcIM6/OBiTf9yoaZXrlFDS0jd75/RmcRO3QbPqPdImxr+oVzzvmuv1DIK7mjQ6kxXsX0poMoH7PgLHWrY02o/G1TVognw8IWCIs22/axJHVq/pS35gRJRBSpZ6IXCpO4Ha7S6pSd5/o+61XjnbM17tEuBW2Lzp9P789Wq2mlfLKtX3bKE6wmvrlbdllL7gltRAQAAAAAAJpIcbkHtV09LvVZXLtbsost02SWTNGmSb7jkMl1VUqHVP++IBd+WbFbo+WCa2089kzXvlnV2nnqtf9SGjlZUKXB5ZHR8lSj4g1iQrP+FCl12zTyV31weGUrr5e/FrWjZetXNtS/MOw2V0xPmv0qTvjxbK3f0quCOJm1dO8/Om8aRelX9Q6RHPCmg7ZsqlSosWXJXffSBDNyKCgAAAAAAMHEMHYCLuwUzSwXFqny6Uz2v1KrkC3ZaBpMXVmhN9CozR4HW3RHQEM8PHTNFy+u0dYkvjPhelzr2dESG/QmXAn6hVOtadqsmGoQz4ubvdScVrdiujucrVXSR+zK1wW5tvGtNNMBXuqlOVVfbF4kml6r26dposJNbUQEAAAAAACaGoQNwBUE1nT2t412t2v70OtUsK1PZotL4q7AKis20oGp+uFVNHcd1+oPjanqgNIcAWvxVZhPu4QuTS1TT1q3O5jpVLyyOBrkKZpSp+oGS5Cv8rgxo694+M/9mk16+tHLSaUWdmrr6dPLFahVnDE4OquuZGq3fb1/OWqf6fyzJGAydvGi9Gu+KhuC4FRUAAAAAAGACmBQ27Pi46n5mtmY/GAkXlWw5rMP3jfvjFwAAAAAAAIARy6EPuDwa7FDrFu9arYBqlhB8AwAAAAAAwIVhQgTg+nc1aKP35IYV1apI188ZAAAAAAAAcJ6ZAAG4bjU93WbHJ9bDFwAAAAAAAICRGvcAXO9LdVrjPa3zFuchBxPo4QsAAAAAAADACI1jAG5QvbtWq+q73tVvparbUBX/dFUAAAAAAADgPDemT0Htb1mp4I5eXWLGz/Z2qOu9yHTn1tOyp0Pa/UCJuP4NAAAAAAAAF5IxDsBVqLDSu+LNU6DAlpBa7yP4BgAAAAAAgAvP2N6C+oVCFRfY8atLFbxrq3af6NFugm8AAAAAAAC4QI3pFXAAAAAAAADA5824PwUVAAAAAAAAuJARgAMAAAAAAADyiAAcAAAAAAAAkEcE4AAAAAAAAIA8IgAHAAAAAAAA5BEBOAAAAAAAACCPCMABAAAAAAAAeUQADgAAAAAAAMgjAnAAAAAAAABAHhGAAwAAAAAAAPKIABwAAAAAAACQRwTgAAAAAAAAgDwiAAcAAAAAAADkEQE4AAAAAAAAII8IwAEAAAAAAAB5RAAOAAAAAAAAyCMCcAAAAAAAAEAeEYADAAAAAAAA8ogAHAAAAAAAAJBHBOAAAAAAAACAPCIABwAAAAAAAOQRATgAAAAAAAAgjwjAAQAAAAAAAHlEAA4AAAAAAADIo0lhw44nOXTokB0DAAAAAAAAMBxDBuDmzJljXwEAAAAAAADIhRNf4xZUAAAAAAAAII8IwAEAAAAAAAB5RAAOAAAAAAAAyCMCcAAAAAAAAEAeEYADAAAAAAAA8ogAHAAAAAAAAJBHBOAAAAAAAACAPCIABwAAAAAAAOQRATgAAAAAAAAgjwjAAQAAAAAAAHlEAA4AAAAAAADIIwJwAAAAAAAAQB4RgAMAAAAAAADyiAAcAAAAAAAAkEcE4AAAAAAAAIA8IgA3KvrVfPskVbT029dI1N9SoUm3N5uUGr6uJyZp4377AgAAnP8+bFbFCNsHAAAA54PzOAAXCXpNmjTegS9nPQpVtbNOa5YX2Gm56tLG4WyH02g1n5s0qULNH9ppE5ATfCusbFPd/ZUabgo5adTxqLS+dKMZAzAcThB70qTzoQzZ+n2MTsrdHwjcutQbUtSp+zfa99KkX7Q+zrCMsRRd33Trk+Ux1C5nwv/4kbS9/nWOHGNTv5dfY1XmIt/jG+LKztiWp5js2jb9e1vVtrNKhQThAADABY4r4KJsA/2JXJrJseBbZ3idSu3UnO3v0Hrzb3bRcMNTs1V0uR3NtxxPxqLBt66w1s21E4elVOs+aFLQpNS8nPYRLnSR4MnEDkIjV73q3Wn+zSwaQdA+O/46Khz2hlZV5lqnXl6pVvv5vuagnTg+3DJRun7k22R07XGOTnUqG1H9nWfOcclsb7C5z7e9/mOOOX5407vq7LQLRSS4Nu9Rpx0S2/bwy74fvD7sUKspT8GlZXkvT3GybNsULG+N7JedVarhTgIAAHABO48DcAWqfDnS0Gwd9pVnI9P1hBN8C6rpgxEE34z+3sPmbzD3IFr0hG9k35+LyLpmeTJmToqcE1vnpGhkwTfLbO+aDeb/ox15v5oA54/e99qkZRUqG6sgNPLvw165teLVRZHXedOvjl1O/mlS9VB11Nx1NrgxdvXtsHzYrBpT72pD5xD1bjbH0H71HjX/lhUp33tiJLwg4fCvQj9/9bfUmHaI2fquDPnSlCeTI0bwI9/w5NS2MeWr0xzf2ypr+DEFAABcsLgCbrj2b9S8R51G7/CuKvBzAwhjeRXbsHknq9mcjHVpY6k5KTIngaMZIC1d5Fy9sF4d9AUHV+TW5LG4UgpjyA0YBFWxIN97deyutBszNu2aVoxGmPB8SJ/zI0iYL5EfIDIHkIf9I98I5dq2Kf1hp+pM7q3awU9sAADgwpTnAJyv/4+E/lmSbmF034/cRpbYH0/8vNn25ZLdd8f6TZnn3iqhR+fFzZu6zxQbXBryqolYHzvRIen2SXvysKFMpQnblmq7kvp5yXA7ZvbzZk7T2HKcK/7MBKevFv/8KdKo6wknPYc+Ccxle1xzy0wDXVq/Z6wa6Nnmt+R9ndzvTXZ5clhy6H9qqDSPlL9In0XxZTHNMpO+2w7+fGG3193OhG1Ptc+T1tEOkXTyp3Wacpu0zCzKot0Od/8kbtNY9E2UmC4p+o1y08Vdl4R8mabcJKaj86PBiA2Z13z5PKv1TLFvnPp1gvwokXg8Gp28kE19MTyRq8HSp118nhiib7JcrkTMoQ6asPx1gJ+//vLLoszGJOzzNGU2N9n9AJFNICxWt/jZdU6R55Pq6BR1brRtk5A30uf1UpVxlTsAALiAjckVcG2VheaEStH+SZz+cdaXpgo6tKnqikkq3FWhPjuvc0vC+lJ/Qz63vlxSf3dseaU/tMsKO7+8Ghs67Ws7+PtRsfpbNkeCS1syPFTAbXAWqmqmb3lOH2ZOoMDfUPX6ZlGHmX+zij6IzJu83ZEGb8ciuywzuP0MPbo5xUlO5KR33tGmaDqm/G4jcnI5T4fj+s7plLbEGtzRNHL7YDPrmtDPTlIamW3fbE4Kgs0NGa4OjDTs49bRGRaZdBilE9ERc/fhPK2PyxN9KtqSeJLlpLfZ14pPbzl5L8VJVvblIUvOSeAVVZod199Tg3R/qvXMLl84Okx+i5XFPjUtM+Xz/vgTMTf/mO9WQv5xy1LSSWFQh7eYE7CEbY/Pw3YdE/ozcuczn4+cQMZunfPqgPi+rszwQ1/gN9uy6NlVY7apVRW2LHp9EzUOd/9kwU3HhD67Ojes17xUQQw3AD7PJJWd125LfLmx6aj4+sypV0bC29/+vNa5wam3fetpgzazE+q0yL6eF5/PvX3jLzvuMs17ebuiKZI2kWDA0AFct38qd72cMmAnjkhu9UVuMl8N5uy/6DHEyTdm6zdnqG/dzvHN/6FuXcwqX4wqfzDLpGWWPwyNplRlNvxBkTan2ofLDmuzWc/e+735UpXZYcgqQGqDdBnLU7pAXuQKyPi+47I8dnttm6ObTd7o1Ro7X+Q200bzjalxlTsAALigmQZRWgcPHrRjw9UZNk2psDk9NmN+fWFzIhPWBt/UrjozX8I0h51uGrnJMr2X7rs/aAqb08BwsNk0HePY+RO/P4ld92VNZiyd9Msyjc/4dfK2W8Fw0wd2miPjtkWYE9rkz6VdvxTTs/iOOO78id+XLPV6JbD7Ievvjsp2P42CLNMnsr2JeTzV9GzLgzdfuiE+bd08lTE/OrLPF5E8mjxv0vakK0sp0i3yWWe58duemFeSyocr3bqnWKckY1MWRyayjunqJP90b9/Er0u6fZicLonTY/slzeBPt3TpkDg963S0+yZpv6bfZ6Mvl+9Knw8TJeZrv3R5Nml6NB3TDNH1sNuQaUi1zmmPhTHp8lGcbPNF3mS/X1yZ1iuHOi2rtDGyLbNZl8Wh8oUZ4tY/i/2cy3Z78w65X6PrGZ9GmcqGK5v1BQAAOA858bWx6QPOvb3Sr0BFM82/o71Jv1DXLYqf0+v4etid+Cd99whl8TSx6BVyWfTBE+mbxSwv49ViqaW8rWR/Y6RD5vvjr0rzOmqOrXe/mrdkcxttzFC3NkV4/cRl1yl+4lV+E8rlRe4Vf5mvTrPbmyKfFRTNNn9T/JI/ZHnwXeWZckjR76Bz9Uemq2dyyBfuFTRO/k24wjOS32K6dlSpLUXH56n6G/I+m9hReOTqIrs90SsnqxPSJ10/VEP3STgqZXGkddBQ3CcFpurvzGzXMqltV4fNF56hHoLiv609s9jVXWmG6JWE6eqLrsjt+KnWacOaFHWaL1/YJyQm5smcbns87+RQX0Qf+pBmiF557Ksv3KvanDw8xFXKDrevuExXt2W+mi5iGPniAlF0tXt00LyhbuN1DZ0OWZdFX77os1cGN3lX69ohrt/VIfezkWaeTH3HDXXsjtWn8fX5kLfDmuOuUxLa3uuNvAYAALiAjO9DGHaaE2s7et7I4qRlyACU74Qm0hjNLogRL/XJUSRIFgkaRW/FMUNhpdxGeqxhnurWkkyyORlzZNlpt/MEV/dkMXLbcda3DI3lybn7lNnI7ZT+9IwPxtntTbyFzRncE9AcDLM8OLcIdzq37PnWITFgmGu+SB088bO3LCUFEmz+jzvB8vLOEB2Fu7e7pQhE2UBN8j4fKq+NTlnMt0hZ95WD6GBvrcuZTZfRZH94SLrNL3qLdiyw6tVdiUHPxAB+5HVyYCLb2x7PT6NYX6SQtgylENlPmQJDQ5UvI4d8caFxA2buLfBOEM7b7myCcaMli/rNGLotkS4vpKrLjSyP3anr02zbEQAAABemcQrAfQ4aYSlPWhL7WUkXxPAar5muNstwcrQsoW8Wd0i4asoGsrKXxclYrtwAl10/289W4RBBuFxOMEeH/2q0WDAu1teNycNOv1CJfQf6hqGvnEosD/4+qlINyVcexPoyjPRTlfKqvRzyRXKwKyGvppvPOyGPK9vZ5Z10ed4LHiYFZLINxmZVFsevTopc+ZR8FUt0SHX10ihx+7FKmcfskHBVZZ2/vytv8Pe3Z7j7MSkokJi+6dLbO+nPHDA4f5ntzba+SOrgP2FIG/TIdNzweMGbDPk9hx87sskXFyT/VYrRYNzwrurOtSyOtF6NSZMXvLo81ZW0Qx67bflO+mw2Qd3s8x0AAMD5ZpwCcJFGWPZXX52HUtxem3Q7XNogRrpb8XzsZ5Nu2XXk48rCfDeKzYmMexVXxnXP7hf/6NPZRtyheSInGBcJwsVuj7G3j47oqW2J5WEYt6BGFahyS+Q2tMO9CTkwm3xh9nOqAGd2t3L2q/l+57ZUw3+ClSmvDmX/RvvkzhQBGXddUwTmEmVTFodTJ7kPEHDy2ghvo3ZvdW5T697EtRwuG+RJ3G5br/hlfwtqRFKeSpIY2PRkl77eLdHpAgbRIEU2V8tOSDnUF1nfgurJJYgc2R9DBUKyKl/G0PnCL/YDQ/pb+ycW70eAjJz95Qbh2tQ7jPog17KY3TE5mzyRKi/46vKhpDp2e111JLVtsjgW5JDvAAAAzjfjEIAzDbvbnSfPjf2tXpl5j79P9VTRXBSobGnQ/UXY/9RE58SxsLJNdV2+4EmqhqZzUn+Fafhu6IzvxyWBdyVY4kmq9wSxTE+2c11epgqnf6nKmvjt3b8x9ZPZvH5Zkvqjyp2TFkknXlkEHb2T86Q+o+LYEw7HCPels55JaeH1W+U7gShd4QS81mvesIICIykP5kQ2xXem6pst23yReJugw8u7cX2jefknmh+c7XCeNFrnBij9J17p8mqipKffOVcAlR5W3QYnnJgiIOP10bcnXSgjh7Jo92tOJ322/Don3FU7RhDsvbxSa9wnAxaOUkCiQJX3m7T0b7dbr7RqtpuWwxCtL9I/vdCVLihgp8fS19s3reqwZTSyX2ab/W1epAkYRK7mMRL26flkZPVFJlkE1dJygmKpb5+MC645ZdK/3tnmCz+bFxzrfU/bnhCS6jWTMk84T2W2L6Kc+i458J7utuq8SNV+SCfuxxdn3f3Bz8SAfYa6PNtjd5p1y+ZYMKZpCAAAMNbCGYzeU1AThlRPnMv0ZDK/jE8A8z9ZK83T7YZ4wpb3xLLokPRkteyempf0RLOUT2izT0Lzz2eGIdPAiKxnmiewpUmjVMtN2t5M22XTzj9/+mVmfjpc0vemWVZMDk8rjG5/hietZSl5PdMtM/W+jN/vOZSHbKXYJ6nzmjFkvkizDen2ZcJ3u2XKTvPvy2zygyc+vSOfcadlvU3J+yebsjjkk/lS8qXXSPahJ4tymzotk5+o6Ijf7shnItOy2xfJssjjdhsSy3Lq9E1YnrscOy1devryXOb6IltD1StpttkbfJ9LymdxQ5p9ljhfunyejRRlL5P4spY678fPY4aU6ZT7tkSXO5LtjbLfn2lZacpWZEjc9oR62tnmlGmboj5PsQ65lNlcZF2WE+rplPs6IX3S1eWOpDyRYp7U5T1dWvjlcJwHAAA4zzjxtbEJwF1gjamhG5H5ZhvvEzVd05yED593gpdtmnsnRuO5j1KZ6OWBk59ceUGXdAF9jDavLkgdMPo8Sxf0mJC8gA91zTCNPIA3EUXaVpRtAABwYXLia+P7FNTzVNa3eebL/sbIrZjD6VNrLMwtc29dGa3bi7qecJ4G6XRSn90T9SL9e5n06bpwn8CXF+luH0QaXWqsbJM5CVbDhLqd/gJm676426FhZNc/5sTQr+YtkdsMOz8PD2rIB6+PtQupH13b3ydlGwAAXMgIwA2H7XQ4qf+0PHAfKODvc8fpy6nUnLxs6Mzi6ZrjpVTr7JPRakYYpIz0v+ME3zI9eCDC6Z/G6djb6UeqM5zN00cRx+23ZyyfMHu+8jqRn6fDzX15fUopLKfvMSfNSw+7T4vN1D/m51F2/WOOt0jfY5MmOf2LOU+B5QeS4THp6D4gYaL1ozsCvnYNZRsAAFzICMANU+kPI0/DzDf3e3ZWqdA+NW7SFVWSc9I/0a8c8J6MNhJu587ZBd8csafIcWI3HKkewIBUYk+p5WRxjESfCJpdXfD5EHuaaGGl3MDkxP7RoUCVL0fKzYQ/fk1EXhDaCWCqSX0X0HHOfTjDMrNN5AsAAHCBm2Qaw05fLCkdOnRIc+bMsa8AAAAAAAAA5MKJr3EFHAAAAAAAAJBHBOAAAAAAAACAPCIABwAAAAAAAOQRATgAAAAAAAAgjwjAAQAAAAAAAHlEAA4AAAAAAADIIwJwAAAAAAAAQB4RgAMAAAAAAADyiAAcAAAAAAAAkEcE4AAAAAAAAIA8IgAHAAAAAAAA5BEBOAAAAAAAACCPCMABAAAAAAAAeTQpbNjxJIcOHbJjAAAAAAAAAIYjYwAOAAAAAAAAwMhwCyoAAAAAAACQRwTgAAAAAAAAgDwiAAcAAAAAAADkEQE4AAAAAAAAII8IwAEAAAAAAAB5RAAOAAAAAAAAyCMCcAAAAAAAAEAeEYADAAAAAAAA8ogAHAAAAAAAAJBHBOAAAAAAAACAPCIABwAAAAAAAOQRATgAAAAAAAAgjwjAAQAAAAAAAHlEAA4AAAAAAADIIwJwAAAAAAAAQB4RgAMAAAAAAADyiAAcAAAAAAAAkEcE4AAAAAAAAIA8IgAHAAAAAAAA5BEBOAAAAAAAACCPCMABAAAAAAAAeUQADgAAAAAAAMgjAnAAAAAAAABAHhGAAwAAAAAAAPKIABwAAAAAAACQRwTgAAAAAAAAgDwiAAcAAAAAAADkEQE4AAAAAAAAII8IwAEAAAAAAAB5RAAOAAAAAAAAyCMCcAAAAAAAAEAeEYADAAAAAAAA8ogAHAAAAAAAAJBHBOAAAAAAAACAPCIABwAAAAAAAOQRATjgvNev5tsnadKkyFDR0m+nAwAAAACAiYAAHAAAAAAAAJBHWQbg4q+wSTtcM0/lN6/Ump82q+vDQftZ4PzS/czsWJ4uXK+OkWbl/RtVGC0ni9X4np0OAAAAAAA+F0b3Crj3utSxp1H1P6jSvCsu0VW316vrI/secJ4oWVqjMjuu/kZ1dI0kAjeojle2KnpT6LIqLb7ajgMAAAAAgM+FvN6C2rtzjebNrFLjO1wNd8H5qEcdLfVaHahXl510wbi6TJW32HH1a+PrnRp2Dh7sVMeOWJ9s1csDKrDjAAAAAADg82FYAbi6rrDC4eTh7Ok+He/YrtpbiuycRn+zVi5cr45P7Wuc/z5sVsWXp6u8co0aXr8Qg6tFKlsWsOPGMyF1DnMzB/eGtDEaf6tRcOEUOw4AAAAAAD4vRvUKuMlTClS8sFqbQ8d1/GeVsSt9+uu15oVu+wKY+IoWVSlox6V6te05Y8dzcUYdu+rtuFTwSFBlxN8AAAAAAPjcydMtqJNV/P0GNd4Vu9muu7lDhOBw3rg8oKoVdtxoeL1TOYfgPupQ2wt2XAWqXjTPlAwAAAAAAPB5k8c+4KYoUFltx40jner50I4DE94UlS2tsePGC23qyPGBImf2htRoxzVrjSoWEn4DAAAAAODzKK8PYdCV03238bWplwAcziNTFgVVa8elRoX25nINXL9CLdHwm0oqy1RixwEAAAAAwOdLfgNwWTrzToeaf7pGK28u1/TCSZo0KTIUzixXxd31at7fn8VTKPvVfHvssxUtsSdP9r/ZoNW3TVeh+95VmvfTNDfDuk/2bNCaO8tVPrMwuqxJhdNVfvtq1bd0qT+Lzvj7Wypin7292ayZdaZXoZ+uVkWZty6TdFXpSm10lvuZnSfOGfW+btb9dl+6OOty5xo1vt6b+y2Rg/3qcp5c6l/epEJNL6vQ6mea1RVLsiRdT3jzm+GKKrXZ6dJ6zfOmR4eNQz4Z9cw7ITU+uFLlpVfFPnfNvBy2bRT291Amz1Pgkdht1I0todi+HMp7u9W0046rTDVL04TfRinPZWX/xtjy/fkyoy5t9D4zqULN2QbRR5DXknx2Rj2vN2r93RXJaXTzSq35abM63r8QHwYCAAAAALhghLPSF25aprAzuzPUddnJQzmxPVxmPyMFw029drp1eu/WcPXCguhyMw0FSzaHD//BfjCl+HUMNveZaWfDnRtK45bjDhs6Ix/x/L4zvPX7ZeGCxPlSDQWB8Obus/aDqfU1B2PzL2sya2a29dfrwmUFvuUkDnNrwrv96dO7O1w7RNoUrdgePp4xTTxnw8ebazN/vzsUhYM/ORw+bT/l17kh1fzphrpwQgrHmLTevKwoxWfih4KFteHWhPwSbwT7Oxdddb58YfLwB3b6EE6+GIh9/y3bwyft9KhRzXOp0iIFsy3RZdp8ObTOcJ33may2f+R5ze/03s3h4NWpPp8wjGQfAwAAAACQZ3m9Aq7/QEgddlwFs1V0pR139Sv0k9VqfNN3KczVpSpbFFTND9epZlmZSq+2043+V9cocHezeu3roZ1Vb0u1go8OdS2WWfaezVr98w7fFUFFKl1UpuBd67TurqDK5hbZ6UZ/SGtuqVbz+/Z1Fk7v36jAzRvVYb6gaG6Zqh+oVbVZfnHs4ippf4MWL9+obudCnvebVVW6WPVu2jjrUq3aH9YouKjUvIrp3bFSZRs6hrg6cFBdT5RpemW9+/2ugmKTzmaZTyeuR6/afjBbgSe6kpY5eUqZ+YwdFhbHnnBr0yr6njtMSf2wAWe7Zs7Tmp2xveikR6p07n+zXhWlVTmkc/b7OydzA1ozy46rTU17ssmBvepoCdlxKXjH4rj95sh3nhsfo5PXPP27Vmr2gjVqe89OcJcVqx+cvBZXhgAAAAAAmKhsIG4Iw7gC7g+d4XWzYp8peKQ9HH8Nj11mQVm4+ie7w8d/n+oKn7Phk2014VK7DHMGHl7Xke5KoISrgH62PbzOuQrn6mB4c8fJ8Nk/ReY6+/vD4e1thyMvrMgVawXhsu9vDe/uOZ2wnhFnT7SGa+bGlp+8PTFxV8AtCoQDznrMrQm3nkj8xOnw8Z9Vxl0FFfhZe3Q73CvcEi8ROn083PSP/qu8SsKbu+17KZz8me9KLJPWtc3HU1x1ZNajOT6da17JcG3SB03hYHTeDFe7+f2hPVzruyqqaNnmcHuqS7D62sN1S3xX/s3dHI7fW57h7+9cHX66JLY+qa5mS9S9OVziza/qcOvv7XSf0c1zE+MKuFHNa7/fHa6J5peCcGBTe7jP7tNEZ3sPh1u7htwrAAAAAACMm/wE4E4fD2+/w3/7ZKoT975w69MpAkxJnNsKfQGQu3anOKl3xK9jySzzmYLKpNteU+lr2xzefnTIFQmf7arzBVZqwrvTfCQuAOcMBTXh1rTRDrN9P/Rtnx0K7mhKH+g52xmu8wU3S7akCTB1b44FOkxabO9JFzKMONnsCwbOShf4MnIOwJ0O774rlh9KH2lPsw+tP5jt8wWeqttSzT38/Z2zuIBaWXj7CTs9jbiAXZr8Orp5bgIE4EY5r51+pcZ+pxlWtGbOLwAAAAAATHCjdwvq4Bmdeb9bbT9dqfLi6Vr5UvQeNFU2b1bl5fZlVIGCD1SreIp9mdZklS6pij1Bcld3Vrehdh/pU83PGlQZd9tragVLa1U9Y8gV0eS5AVVFb0dsVbd3a9wQqp+vUzDtrXJm+75bo4B9FRFQ3aOVSbctRk0uVeXdZfaF2daunhQd6p9R6Gebow9DCD5dp+qvprwxNKpoeZ3qbrEvjjSp44gdH6kjjap7wa7hrHWqX1umjKn9hVLVbloXvc21cU/nkA9lyGV/52xWUDVeuqhDzW9myoHd6mj2HvpQoHXLUm9rvvPc2Br9vDb4aZ8dM4oKM+cXAAAAAAAmuGEF4NaXek819A2XXKbLimar4geNsf6fVKTqFzvUuDxtKCk7XyqMBaPMsrN63mHBalUtGe3T9kIVXmNHnRVJ+eTSRDUKLhxiPa6erbJokMVYUa0KX/93qRTNjAXgtLM3OSh5plMhL+hVUKc1d2SzD4o0e5EX6uxW59FsQp1D636zKRaceXC1Sr9gX2QwuWSeKuy4XuhUjx1NKy/721OksmWxEGnH820mddLYH9JmL5hUUK2y0syBqKENJ8+NsXzktYt86dbWmT69AQAAAAA4D+TtIQwFC2vVdPSwtq8oTt0hfyqfntGZ/h51vRlS80/rVf/gSpXfXK7p11epzc6StTtKY1fN5eqzQZ0506+e/R0KtTSo/pk1WmnWo3xmiap22nmytXReFlf5+YMsUnBhydBX/BQUKWhHUxk80KEGO55LWhSa5Xra3rdBlRHp1eHXvfBJmQLXp70UMN6Uy0yqeHrU+6EdTWck+zsLRYuqYumd9urAQXW8sjV6NWLJ/RUqyzbzj2aeG2P5yGsFpYt96b1GFXc2qvsj+xoAAAAAgPPMqAXgCmY4TyWsVu1PmtTec1p9HZtVmcUtdurvUvMTKzXvmkma9L8u02WF0zWvbLGqfrBGa55pVMeeDvUMIw4UnFmUfeDP8Vm/ulo2amXpVZr055fosssKNb20XIsrV2vNg/VqNOvRcWwYK3KRdIkdzVbhlMvsWAZmuZmc+ch3RdEz5bok8YrFNENhpS/UeaIvxa2tuepX/x47qg6tdPZziu9NHuZpvf2U1KneIVYk5/2dq8sDqlphx9Wtpj0prska7FTHDm9FS1QVvcIrjXzluTGWl7x2eaU2N1dGb0N2nvg7+8tXafHdDQq9cya7q2ABAAAAAJgghhWAq+tyH94QN/QdbVf7r7dr8z9Wquyr2dwKeEbdzy5WYeE8VT3aqK4UfVsVzS1T2bIarXukMvermy7KPux15mC9Fl9RqHmV69W4P8Vtl1eXqmxRUDU/XKdK/62ieVL45ZHfStn7Xs7XDCYbHIUwx4e9OmxHh69/6Fsvc9jfwzNFZUtr7LjU3dyRdFvk4N6QNnpRpEU1CmbIKxMtz41EvvJa0fImdbbVqix60WSvQi+s1uLiy3TJNYu1+qcd6icSBwAAAAA4D+TtFtTMBtX9o4Bm3x+KXvVSdEuNNjfvVmdPn06fPusG9U52tav95a2qu3txrA+4UTZ4cKMC169RyFuRqwOqebpJu7uOq+/0aZ11AownOtX+61Zt3WBO/n23ip433GCOc4VijsPlIw8ExitQ8cIU35PFMGWIK/7GwpRFQdXacR3ZrNB+O+46o1BLvR2XAsvL0ubZCzrPjXJeK1q6We29fWr/SY0C/n4R3wup4QflKiwq15pdKQKYAAAAAABMJOGs9IWblinszO4MdV128nCd2B4O2GVJpeF1oT77RhofNIWD0fnrwp12crz4dQw2D7FM18nw9ltinyl9ZHe470/2rZSyS4e+5mB0Hi1rMp8ayjDSd4g0OflL3zpsSJ1iw5bV/vB0htdF5w2Gmz6wk0dsOPt7pM6G2x8piH5nwSPtZor1+9ZwtZ2eeTvzkeeyTIuuuug82eVLR2e4zvtMmu3Ka16LczZ8umd3eOtdgXBRdJ2coSAcePG4nQcAAAAAgIlnXK6A632zWSE7XvBIndbfMkTH/Pl68uN7HWp+3Y4XrFPdowEVZLzS6mz+1mWUXTYl9ggD9Z3WGTs69ibrsugtlL3qO6870p+seYuqo/2S9e/oUKe9BbJ/T5MaI6PSiioFLrfjiSZKnjtz1lny0AbP6rQdTWfs8tpkTflqQDXP79bJ33dq85LonlDozjVqTHEbOwAAAAAAE8G4BOD6+zvsmDRv5vQhO88fPHE496egZuOjfkXXZMF0TR9yRXp1eJcdn+CmFJeozI7rhQ4dHre+sopVssiOqluhA+f37YKTF1ZojRdQ7G9UR5eTsL3a/VIsh9YsLUv/FNvxzHOTJ8f6UtzTo95s8sQ73bH1TWNc8tqXSlX7Skib59rXCpm85d3TCwAAAADAxDJOfcDloldtP4/1rTWeenc2aGKsSRaunq1A9MqzetW/lK/A11DXUU3W7AWxhxd0PNqgjk/ti/NSicoqvTBWvza+3qnB9zrU5ruqLbho9PrOG9U8d2Wx5tlRqckGDzMZVEfz5qSHTSQZs7yWqETzAnbU6Hy/z44BAAAAADCxjEsAbvJFsVtO2/Z0Zrxlrfel9ardaV+MtosUvZ1QOzvUmen2yPebtf7BvFyHlyclqnowaMel0D9UaeP+7C5NOrNvoxoP2hepXDTZd9Vil44PcevflEVVqoteNVavqrublVWI5tMeNf809qCOiaLEbE/0SrKXuhQ6EIrdUn33YpVluqptPPPclNmat8yOO8HDF9oy7ocz++q1/plsUn/081rv/g71D3nr7aDO/sGOGmVX+26FBQAAAABgAhmXAFzx3Fg/WtpRo6ofpTjZHuxX6NFyzftus3RLIHaL22iaUarq6Io0qubOjepIijcMqv/19SovrVKzAgpEb6ec+AqWr/fdotel9aXTVfGMSeuUsZFBnXknpPrK6SpesD5z8KOgSLOjVzx1aP2Wtsz9fk0uVc2GmljfaS9VaV7ZGjUfSfOpT3vVtWONFpdMV9Xe8eu9Lq1ZQdXcYsf7O9SwwwuSlWjNklI7nsa45rkCBZZX23FjZ5WqftCsnqQkPqOeltUKmHzQZcqe7yKztEY7r/XvKVdhcYXqX+/RmTTL6N21RuufsS8V1OLSaMICAAAAADChjM8VcAurVX9HNByj0Fpzsn3FdJXfXB4Zyqar8JJCLX7CnMDPrVPblqr0fWqNxOQyVW+pjAWGXl2v8sJCTS+z62GG6YWXqDDgBElKVbdrs6rysiL5UqLalt2qiQZGetX2oElrk7b+bfS287LixVrT0pPFFWclCv4gFpbpf6FCl10zL7a80np12fc8U5ZsVmhLIJbWb9arquQyTfJ/zv3sVZr0v67SvDvrFZqwneoXqWyZt/0d6thjR2dVqSwamExjnPPclKXr1BS9Ck7q+mmVpl+W+P2XaXplg7oKKtX0/HrfbauZ5CGvvdemNYHpuizNMq4KmnV0ZyxQZfNmVaZ78AUAAAAAAOPNPg11CH1hc9IedmZ3hrouO3kk/nA4vHlJQXSZqYaChevC7b83837QFA5Gp9eFOyNLSBC/jsHmPjt9KGfDh7cEwgXR5acYCsrC63592sybXTr0NQdjn13WZD41lGGkb1ZpYp0+HN66rCi6/MxDUTj4dHu470/2s+mcNctMu//Sr8/JttpwWUGqzyQPBQtrw01HnXRPZbj7e5TEpX9kCLx40r45lNHOczmmRRZlT1dXh7f3nDUzd4brotOD4aYPIotIa5Ty2uGns1yGSafatmzTHQAAAACA8TF+D2H4QolqX+nRydB21a4oU7F3SZCKVLqsRltDJ9XTUaeyL9nJeTNZJfftVs+J3dr+QLXKZkRXREVzg6r5yW6d7GlX3Sh2rD/mppSo5uWTOu1s4w9rFFxYHL0Cy1E0t0zBu9Zpe9th9Z09qdYHylRwkX0znclmmW3d6myuU7VveQUzylT9QEnc8v2Klm5W+wd95nNb3f1eerV9w1FQrLJF1ar9SZPae06rr2OzKmdM0HS/PKCqFXbcFVBwQZEdH8o457mEshfbBwUqXlituuZO9fVsV/VXh3pEawqjlNdKHjDLMGnQ9LRZxqJSUyvERJcROq7TH7Rr89Js0x0AAAAAgPExyYnC2XEAAAAAAAAAo2z8roADAAAAAAAAPgcIwAEAAAAAAAB5RAAOAAAAAAAAyCMCcAAAAAAAAEAeEYADAAAAAAAA8ogAHAAAAAAAAJBHBOAAAAAAAACAPCIABwAAAAAAAOQRATgAAAAAAAAgjwjAAQAAAAAAAHlEAA4AAAAAAADIIwJwAAAAAAAAQB4RgAMAAAAAAADyiAAcAAAAAAAAkEcE4AAAAAAAAIA8IgAHAAAAAAAA5BEBOAAAAAAAACCPCMABAAAAAAAAeUQADgAAAAAAAMgjAnAAAAAAAABAHhGAAwAAAAAAAPKIABwAAAAAAACQRwTgAAAAAAAAgDwiAAcAAAAAAADkEQE4AAAAAAAAII8IwAEAAAAAAAB5RAAOAAAAAAAAyCMCcAAAAAAAAEAeEYADAAAAAAAA8ogAHAAAAAAAAJBHBOAAAAAAAACAPCIABwAAAAAAAOQRATgAAAAAAAAgjwjAAQAAAAAAAHlEAA4AAAAAAADIIwJwAAAAAAAAQB4RgAMAAAAAAADyiAAcAAAAAAAAkEeTwoYdT3Lo0CE7BgAAAAAAAGA4hgzAzZkzx74CAAAAAAAAkAsnvsYtqAAAAAAAAEAeEYADAAAAAAAA8ogAHAAAAAAAAJBHBOAAAAAAAACAPCIABwAAAAAAAOQRATgAAAAAAAAgjwjAAQAAAAAAAHlEAA4AAAAAAADIIwJwAAAAAAAAQB4RgAMAAAAAAADyiAAcAAAAAAAAkEcE4AAAAAAAAIA8IgAHAAAAAAAA5BEBOAAAAAAAACCPCMABAAAAAAAAeUQADgDidGnjpEmaZIeKln47PV/G+vsAAAAAAGNtHAJw/Wq+PXaymTRcM0/ld25U835OQtPav9GXZhVq/tBOB/IlLs8lDG6ZXaOGli71f2bnRwzlFQAAAAA+9ybeFXDvdaljx3pVlRZq3hNdGrSTAUxQbpmt1+rKeSosrlDDwTP2DQAAAAAA4JjQt6B2PRpU3ZuE4IDzxnttWn19QBv3n8/ltlTrwmGF7dC6vMBOz5ex/j4AAAAAwFgb/wDcsib1eSeffzqrk6F15nTU06/G/T3R8Y6frtfq28tVPrMwdktX4XSV37xSG1Pc/tb1hHfblxlub1bvmR61PbFS865xpm1UlzPThx1qeHS1Km4u1/TC2PyFM833pLwVNv4WWre/pv4O1d85T1c508z6VD3TJe8aoDPH2rSxcroKnfeumaeVvvfifNavrpaNWllm5zWDsw4rH2xUh28V3G0qXW9fOdpUdUVkfmfYuN9OdmS5TEd/S0V0GW7amM92/HS1FrtpzW1ziFfXFQsYne07rt1PB1Vk33P6NFt/V726EmNwOeRH15lehUwerPDN75X3NTs61J+4fGf+HWtSLj/0ni11HzarwluWGZzy0v9mg1bfFvlMpP+19H2yxZeT9Qo55fvOWN1xVelK1b8Zmz+78jp0H3D9+5vjvsdNhzvXqNH3XZ7M9Z5dx31cpQgAAAAAY8qcQKd18OBBOzaa+sJNyxR2vtodljWZKX4nw01Lfe9v6LTTO8N13rQ0Q8EdTebTMZ0bfO/PKguXXe17rTqzRKOrzjct1VAQrmz2LzV+/UsWloWL4ua303+4O9y+JRAuSPFe6ZbDdllW7+5wzdzk+aJDQSC8tfusO2vcNqUY6rrc2XJapqOvOeh7vzRctrDA9zoYbvrAzojPp4RyEs1nPiebK+Pye80rp+07Ro75MdzbFK4sSDFfdIjPk2e7N4cDmeb36pkPmsJB3/RSU3796xxsduaKr2si0yLiy0m6wdQZL0c+k115Tf99ZsvMMkrjPpM4lP7j7hzqPW8oDdcd8KU3AAAAACBvnPjaxLoFdfCMenY1ausu+9oIXh27rkYzKlXX3KmTf0h9xVz/S7VqTHfL6pdLtW7P2ehVO+Fw7HPFy+vU1HVSZ/9k3/vDSe1+JLpUNd/fqI50d9R9tVqtv4987uQvK+XdPNb9xGLVf1qr7rPOe2d1/PmAfUfqejoUufrO1avGuxerwb0SxqxjqE/mtNh85rSO/8wurz+k1WubzJxmjh+a97rM6XpUUE0fRL7fGdbNdabltsxk01X5fI/9jDO0qvJy+xaQRtHyNVozy74wGo54V6/mmh+d+avUbC/uKrirVX1uOTLD2dM62dWkumWXRd50fBTSmlvWKOTNf8d2HbZl8uwH7apb4pXKZNPv2Koeb9lmyO32z6C2dp+263VSTXd4nzV1xg+2unVGduU1vf6d1Qo+amuLgkptPxr5vrMnmlRpv67rp4u1ekfqkmxqN1XvtOt4+rA232InO1cpvtxJH5sAAAAAMEbGPwC3syp2e9kll2l60N4a6iioUfUi76TWnLgfbdK65aUq+oKddNFkFd2yWquX2dfmxLenP82tVVOma/qVk+0Ln7nrdLx5nSrnFmnyRXbaF4oUuHu1OVW2+nvU/5EdT1C0oEwlX7LjCxdrXmTUNW9RmQrcr5ys4kVBlblTjf7D6rW3dA6+2aj1r0fGddd6rbmlwMztmKLiO6pV5Y4br4fU9b4dH8LIl1mk6V+dYj8DZKtQhdfYUcfRXlMih5Mf+9XvzW8UfsnkRa9sTp6iormVWvfy9mhQuPfVBjVE78SsVsOW6miZnHx5mdY1t6kuTVytqLhYU4ad0Wdr9qwpkdHJRaq8f41KIq/MJjSq65gdH7Ze7f55s5uGjhKz/OoZke+bfHWl6jZEaxSFftKmbjse55p5KvPWcUqJgktjn9H7/alvhwcAAAAAjLqJ+xCGgjLV7dqsgD2R9px5J6TGZ9Zo5c3lKnf7eipU1U775nB9dkY9rzeq/sGVKneW6/R7dkWV2uzbWbu8yJySpzH5EtnT4Dg9R0LRE2y9sFiXecFINyBZrnr7ltN3VG90xszysUxguHLPj5M12XclXfcT5brszws1vczpz61BzW/2+gJH/ep+M2THjTsCmpdQZ+gLpVr3k9jVqXlzZbEvAN+vwydGWLj6u9Wxx44b877quxrYKCqO9ZapI53qyaKfxku+kKoWAgAAAADk24QLwBXMKFP1hlYd72nXurm+S1M+7VbD7VfpsuLF5iS8Xo17OtTxZk/sxH6YBo80qKL4Mk0PrNSaZxrNCa9Z7rGxi0oNmu0abflYJjC0PvWdsKNGQUmxG/TKPT+WqOaFOpXFRcz61fNmhxqfWa2qsqtUXFavbnv/5KD/PsprCvMfaEtnymUqtKOj4rPBuFtEC7+cEDy76BI74hjUWe4nBQAAAIAJa2I9BdUMfUfbtf2HQRUnnGt2v1Ct1TttP0cFAdWFjqvv9Gmd/VOfmqK3oOaqWw0rVqvtvcirgiV12t3Tp9Onzyr8QVPsFtQ8mnyRL1zwQLuv37XkYaj+ojz5WCYwlN6Wzdp8xL5QgarnFrtjw8mPk+euU3vPSe1+cZ1qlpWpOCGq1v/mGtXtigTKJ/tvIe07PX63VX7Yq8N21FH4hWHf2xpx0eS428D7fp9pyybrkhF+HQAAAAAgfybuLahx+tVzIHYVTfDprVp3S7EKpvj6hhqOD3vUGQ0YBFX/k3UKfLVAU4bfKVTOiq+L9oAlvRRS56d2PM4ZdT2xWs3eLWYFRRmDg8NaJjBMgx/1KPRMhcorY/2Vae4aVSyMlKOc8+OHzVr9RJfOTClSYEWdtr7cruN9YZ39fbvW+W5NbXvPCcgXqGSBr1+zXR06nLT8XjWu9a1bngz2HPbdth5QifcrwhDlNa2CEpUtsuNG5zvxD1roPdphx4xZ81TMg1IAAAAAYMI6TwJwkzXF169TZ1e3+j+LjJ850qFO321vOfnCFN8tY53qPGBP0T87o+43O+0TGfNr8qIqbfauQuuvV1XlRnW8H7uXzOnzrv722Zr3aJ+dYkz2XxnTptY98Ws6rGUCOVhfGuvH7ZIvT9fiB9ti5aWgTJt/WhN9IMFw8mPfo/NUXLZGjft7NWjLenxYvEA110WusCtaWqsa7wo5s/yVP2hUt/fQlI+61XhnuVbaq1xH11mdtes2+GFIdY/GerMruKtGFVfbF0OU1/SKtPj7vicrb9msxmORq+AG32vW+kdjAbjAD4KxB0AAAAAAACac8yQAN0Vl362T1+V4/wsVKvzzyMn/ZSVVaohexZajKWWq2hBdqhpuL4wEFf78Ms3+bkPqpwqOuhLVtuxWjQ1Q9L+6XuVFl0SDG06fd2u8W289BWa974rdk9d251XR+Tfud6YMY5nAaLg6qK2v71btdf5w2fDyY/+b9VpZepUusWV90pfLtdGW9dJ/bFTtLfYKsy8FtHlXrM+43h0rNfvL3mdma+WOfOX1jSq363bJFYtt2TPm1qnt6UDsoStDltf0CpY1qs2ro/qbtXLmZZHvu6ZKzfb3gtJ/3K2tK+If0AAAAAAAmFjOkwCc3D6hQns3q3qu70TTnOxv7ujU9mH3ATdZpT8MqfPpapV6V6sYRcs2q71r+5j0Aee6MqCte/vU2bw5qb+rorllqn5gu3b3NKoyeovZFAWe7lDrhvj1dh5gMcW7JTfnZQLD4+S7shW12trcqb6eVtXMir9WzZVLfry8Ug3drdr+QLXK4sp7qfs92zvMcn4SkD/kFOszrlbVCyMPf3CZzwTv2qrdmwKxaaOmWnU/qVFghl2y+S73ATKvr1PpFyKTIrIor2k5dZRJ164m1a3wpVtBcdq0AAAAAABMPJPCTs/naRw6dEhz5syxrwDg862/pUKFlV5Pb3XqDK+LXpkLAAAAAEAqTnztvLkCDgAAAAAAADgfEYADAAAAAAAA8ogAHAAAAAAAAJBHBOAAIEsFy1vldJsZGej/DQAAAACQHQJwAAAAAAAAQB4RgAMAAAAAAADyiAAcAAAAAAAAkEcE4AAAAAAAAIA8IgAHAAAAAAAA5BEBOAAAAAAAACCPCMABAAAAAAAAeUQADgAAAAAAAMgjAnAAAAAAAABAHhGAAwAAAAAAAPKIABwAAAAAAACQRwTgAAAAAAAAgDyaFDbseJKTJ0/aMQAAAAAAAADDkTEAd+jQIf31FX9jXwEAAAAAAADIxX998J/cggoAAAAAAADkEwE4AAAAAAAAII8IwAEAAAAAAAB5RAAOAAAAAAAAyCMCcAAAAAAAAEAeEYADAAAAAAAA8ogAHAAAAAAAAJBHBOAAAAAAAACAPCIABwAAAAAAAOQRATgAAAAAAAAgjwjAAQAAAAAAAHlEAA4AAAAAAADIIwJwAAAAAAAAQB4RgAMAAAAAAADyiAAcAAAAAAAAkEfnTwBu4DXVfOXLWvR/jtoJQ/vk1w+r0Hxm2a9O2Snj7ZTaVn9NhTOXa9uRj+207J079KyWmO1ZkkMaAEhnQG3f/7KpI57VQTsFefC7VlWbeqtwywE7AZgYBnatcNsIzx2yE9Kxebh614CdcCE7oOec8vr9VlNDelJNy8C0VZx0/Xyk1+fHwS3O8XKF2n5nJ2Ds5b1sfayDDfdqyVxnX5thbkA7jti3MCFQDoHz33kTgDvXc0Bt5n/5rJmRCVk41fOq+3/ONdPc/3nzm03ugerxt87ZCak4wbdbVPPWAjWEWrRq1qV2evYunnO3HqqZqoNbX9W+TF8F5NUpNd9uG2e3N5lXny+Rxk8WJ+0jlHVwAMDosSe4EzVg7NULKdsbH7+htc66z0z9o0Lks1/Tc94J9QTfVmRrIv6YlGPQNq9Glj5embvwA8rndOy55VqyoUkHe+2k3gP65P/Z8Quaza8jKkP8qAsgO+dNAO7EO3vN32pd/9XI62zMuOff1fffv9fD37QT8uTUCaeqrdD1xRdHJiQ5Z07aV6lm59f1WMtzCl5hJ+fsYs0P1mjGwLPa1Z77FXTAqDj2mna8JU2dOlV6q1GhY3Y6ACCvps66SfPN/33vvBuZ4PfOv2qH839gr971TqCjzundo6+Z/9/WnOLIFACIOvevat10QLrtSe3p+b17/uQM98yx7wMARsV5EoAb0LsHj0o3ztQ1uV84lmcDOrZ/r1m3BZox1U5KcO439Xrkqf9UcNtTWjUjXZAuSzMWqGKG1BzaOwF+VcTn0bG3/knHVKUf/WKtynVUrW99vm6Jvu5+GqXABWvOfZETz/uvtxMmmKKva75paxxr/23S1cfHjrzhtkXma6/ajyS2EH6rQzvNv+8t0Ne9ZshE31ZgApi6dIdbThqXpmnkXyj+74BbpwQCSzTjLyOTPj+u1z1OXfjf9+k6OwUA8mV8A3ADe7XjoeX61kznkt0v65uBe/Vc6F0l3Vhx7j909BVzEJx7rab0vqFt9wb0TedS4Zk36Dsb3ohvhNrbQb0hVZ9xA283au337TK+8jV9647H1HYi9T2d537nrOOKaH8I37gxqNotr+mEcwHakWf1DfP5aqdR+9a9dnnOEFSz9+vzH/fqyZXPauB7z+lHS1PdCvuxTrUnrE/wXj3eslcDn9lZ4szUdTebfzuTG99A/h3VvjZTppbfpPlzFihQbk762vYq1UVw/lsoP3mnVY/fcYMpLyaPm3Jbs8WU22j+Pqd9m75m5r1Xof+xk+KcUnOl+Vz58ym/J5VP3nlNz3n1hFvGH9aOtzOErD8b0L7tD+s7tpw7ddG238RfZerdehoZUvW/8bFOhJ5VbWCOnWeOltz7vPal+drkeuhhbdt1wC33znd9Y5VztYr0ZMD/vSO7teGTQ8+r9vZgtM51hm8GVmjt9gP6xM7jyX7/+Xz8rto2eHV6pC577tXfJi07o48PmDo+qGU3OnnCrufcgKofatTBFPkjsq9j2xSpo1t18HfZ3Kfvu2XErHtoS6zvG38eiM9Pzn5t1LHEi5BzWW9/Pz7mOBg9ppllf+ehprhln3t7k5vutaHEL4w41bLcfK5M27IoHKdeeVjVt3vf5Qx2H6U67toyUe3Pz9835aj9XX2Sat/79TbpO+YzixpSB+dTb1NC+XGO7ybtksuPvVUo1W2To9HfYE59LHn9ugZNOYlPQbd8e2XGLd+mnfFO6n2Ym2s1Z5n599bRSDskKvJD5Yzyu7X8Nil09D/i92nvu25azp95rb5oJ+W/P6nBSNlZFas7vrOhVSf+aN+Ok1v9mZYtx9FyaMpg7YYmtffGp322x4js60HbNUPa49RRbSs37yfekpnQDv7Gjcv1+C5TxuzbEf5b28656VTjbd+WX5ry8DXVmDaytMntJziSfs57/nKQ6/HJHCu8eW099vZ/2TeH4pbDgJ50xl9ZZctAZIjLa95x17+vvPZ1DuKPpd4x7Q2dcOtdp77InD7+fXzuhC+/2uOt//2oHOrwGLMPdj0W3V73WNXQqm3Dum1xlMuWsz0lqxQyo6FVdn84gz8PpTlnSzq++9Pmfw64n4mkTXy7aaR1pH+/xC3LyUcNiW0a/y3RH+ugr70XyZOpbpn2l7vEfbdKz7X7z8KGzmcRY1gOAUxY4xaAO/XKvfqmabSu/YU5SNqK59ShJj254gZ9OzFo1nPQ7f9NL6/SgrmmcdJyIBJ8GnhX7Q3LVeOb/9SpE3YsYv5Xr7VjxmemsXzvHH0jaBpar9hlmAr2xK+fV03wHoXiTqhNI6flXn2rxFnH16L9IQy8s1fNT63Qj98a0MCp//BV1H4zNe2vImPHfvUjbRu4VY/dc1Os0Rt1SqF7y/TNyoT1ebvJPZF70X+w95l61a3m7wmdogNOjLVDb+gFc3axIrDA5OdpummZyYvHGtSeJq863tgY1ALTWNn263cj5cWU27anlqv6JwfsCeLFuv7GKk1Vk5r/OUVY2bnltd2U5RW3aoadlInzsJKqG1foSa+ecMu4aZwFF2rZc953+u3R47d9TcvWNZqTtMgUpy56/LblSSfV6UXK8rdWbFLzIW8bTulgy2NaVr5KbR/YSa5zOvhcUIuS6qFGPb4qoJZ/cyfkxeCpA2p+a2+0znWcOmTSd11ACx56I2WgbOj9Z33Qqpr55qS0wavTI3XZk4+axqU7Q5b+eEoHWvZq3zu+lew9oNAvHtaSGx9Wuy+YFdvXsW2K1NGrtOSx1yLrm5XtqjbrXv1UrO8bLw9Ur3K235+fnP36sBatSTiRzmG9PadeWuUeB6PHNPO3/Rf3xi374usWaPlUqflXr9l5/I4qZE40dWO1AlkUjoH3GhV6y/suh91HScdd51hpyospEyF/fn7FlKPKG7RjqDxaZIPz21L1V/qx2nc+a775bi0t9y5pd7ppMCd2/vLjHN9N2i0rTw5uTQxe1xJ/o4d/0aJ75niXlfnKt1dmnHR22hk35lKnpHOxvj632vxv1L4jvmV9/Fuzf5w2zwJdd+MCaedB00qIGThq8qZpm5TPynOfuD6nfm7abE7Z2RWrO9obVunbD7Um5OVc6s8MPnhNtX8fKcfRcmjKYHPDvfrOpjfsvvDXG9keI7KpB6dp/tKb0h8P7bGz0szjXUflrIeTv/3t4IF33tC2VTeoypy0J6/Hb9Vy7zw3ndr89cyQcjw+bQmYdvJjsXltPfbkryIvR0esjmn37yvTvv7W39+rUJb7/NSuVQnHUjPNPaaZ+uQXuQXif/uSafPP9+XXLGRTh0fYfbDq+ej2useqDav0uBu0yc3Yly1zfE/Iq94526J7Ux2bpE/aN2nZjQH3M/Hvj24d+cYPnfzqW5aTjzYEUpehj/foqeA8LfG194YW+Uz8vmvVk5Xfy3FdJ2I5BDAexiUA5zQ6ar7fpFNzqtXQ/p7edy/7/VD/EXpcps2ug4/+U1yj/dSJ37qV6uSrbtVDoUN6/78it4D9R9ta91Lhg1vfiP7iOG1Z5FLxPRuchzXcqplXeY1i0+hfd4tq2q/VPTs69G8nI8vo+68P9S9bKzR1oFU7OmKHiIFX7tG3701cx9/r/Z639atHKzRz2lRNvW2b/m2bEwxboPr9dnnu8LjmO197bq9e23pAMx66W4ttQM7vk/bn9UjLKZU/1KbfeOvjpMPBkOr/d7WuTfEZx+SL7Agwps5p3z9vN2WxWuXfjJw4T/3mrQqYKS/+897kho510JwFBn8c0r+diuTx97tbtGqGOU95qlX77I+dF9+wRHeZae3bX0u4esB85ysNZtpNWnpDFieOpsw9+71NOjh1ge5p/vdouf2P9m1aMWdA+zY9ph1Jlyf8pyYXP6lf7YvVRf/W7NyGcEBP1v9TtOHo3Xr66kN2gs/AK5tMWR5U+dqEstz+YwVlGq71r0WDW+cOmXK/aa8GbN0Smdeky9FI3XLxn0W+K1K3SA+HvOU5w8huj/BupfEP7x90ggdmG37RpDdSBPWz2X9O/RqqNw3IgaluGnjz9p16T795+T63z6qs/VWFGn3r5w4nD+lX91xvVrJRzW/Z1r/Jd7u3Ofu6Wo0HP4ybd8+OJ1VZmMvt/maZ19wdq+v/6z3tfMi5Lc80eHf9h67939u0p8d+x7sdesw5UL1i0svfgM96vWOOvf2fmvFoi/7F62+np0ObbjNvmDzf5uXTixfo1lXmeNae3N/iubdfdU/qy5cuMKf/Q/PycGyweXRq5DgavQLjUKse3zmg8g0h/Ye3L51597Wp4aFbNXTKTtOt36ky252iv9Le19TcYvLiPTfperugc2/Xq/qpA5p6w336VbdNZ7MP9myr1nUDe/XkDxvTXFU0XpyTo6Va8pQpn6/4g2/mnSPP63FTvqet9OUZM0TKmalTHhz5tnyx+HpT7yb0A/feUe02dfP8WRdrWvEC06bZq99G8+c5vXuk1fy/Sddl8yvGKDn2P1/RndtCsTrR5O/6ZVM1sPNRNb8dO2LkUn+mN6C2DSvU3JuiDgr9WKuu8DLbcI4R2dWD0/6+SpUpj4f22Dn1vljQ+dxRbfvhJu27Ir6N6dUZB596KMV6vKY3Tt2q+lBsvfvu/67u+e9/V4NTb2itXvWmu+9Fbi3OKX2PNeoRUxaV4vhU/x07z1DcujCkh51xp53srY8ZvNs4T7U8pBpTx0xb/uNYf2On/l07196kqb1NesTUR0Pv8wPa9WirBsof16v+smba6Tu3rVXA3eXOrYWZ08cTaj+lgG8fZ3O8zaoONz75daS9P/Xmtdrp1XFunbrDzUe5GvWy5dyO3r3NrVcC2yL9Z7uDm0an1PyQc3yfpsofd+g/7DnY+91tevjmqe6+3Pbr5CvX9u3cqy+u8qXNf+9Q0JzXjHYdedCkxWPNb0ePVU7ZdNo0B5/aotbEINtbprz+f2vc9p73vUPfWnxA7+rbvnJn2ogv3a0ZOqonX95r8+nQ+WzMyyGACWscAnBHtcM0Og5OrVDD/3lSwRmX2sb8xfrinLt17/3O+CkN/F93ovGxThx8TZrxuBqbH1flnGm62AagvnhDlVY4lZ05rxmMTLIGdOroUfOZ63WtfeDBubcbdP8vvq5601h+ODBTU/8iMl0XXaxrllZpuRndN/DfkWmmgfbiOnNQn3GfXt3pX0ezln95rcprtmnVLOeV7dTYNOSuLXLfjvNJe6ueG5ipipuvT3nC8u6/NZo1XaDyJebkyVsfJx2uuF6VG8z3DvthDUAenPtX7Wsxha1mseZ7F6781U2qMIVnoGWvDqSJwN2zvU2PLb9eU20huNj5zO1OgPxfdSL6i99MBVZGrh54zdd41P/s0a7nzHcur9KtKcpYok/e2m3KnEwD58d6uHxqtNx9cUaFNj39uGkwHdAL7Ym3xa3UQ/XVKr8mVhdNLa/VQzVmtP0NHRzyF+JTeuNXpr5Y+Zwa70koyzOq9NBDC6SWA/qtu1nndGD3JjegWN8QqVs8F0/11y1j5+IrbtKd33eCfa/pg77INL+s9p8XVDHr76SBN68uvlTTrvnbFFf/5ugvpqn8e9XuyUGo9z8j0/TfGjhp/k2dpmneybXDzDsjUK36DbdGrzQZ2n1qbHs8VtdfdKnmL4t8nzlwaOeGCs34S/sdl85U0LnyU3v1+xRXtcVJud4xga271Fhzk67x+tv5S3O8MN/rHCdP/S52QuNsj9Pf4guv+E/svSvJzEn/3w/3qqZIHl2xwowO/DZ6VfUn/9ekrfn/lSuu1RejSWvmvWaBgvebE8Ys+j/8YnmF7jE7IPHKvWOhRrWb8n7XbQsiaW22Y98rznbcZMrhWpX/lf1Csw9mLH1SP3rU5LVDDWr3ntw5AZzadY+qn/pvVf58m+6xP0ZEmPJtTrIO3viktmz05RnDKWf3PXS3SYA3fIGxYTL75Xon+OPrB+5Uz14NeP3kXj1Ti03+PBa9l+9dHXvL/Pve38l3T0DeBR56SvcsvT5WJ5r8XVm7VvPN3n5u32/txFzqzwx696jllTR10JwqPfZopD4Y3jEiy3rwL017zjkePvdG/PHQHDvbzZdOXb4gFnTe/0968tACbXouvo3p1hm1j2iVKe/tR/wlx3GfGl522sGx9R5abscn7wevVMena//avhgxe+Xu1PtU/1RVrL+xi6dq/j3b9CMnDX/xT0Pffvzxx/pvZx5zDLjWX9ZMO33+UlOn18QH2IZyz7b4fZyN7OrwU3rtF6a9P/VuNWy7T/O9Os7ZB9f8nWZeZV/mYEzLlr0LYeo9P9am5TP1RXsOdvFfLdA9zz3lBp13mGNT4u4K/DghbVyjX0c+3GCOSeWxY5VTNt3l6A21H0woQ4Efa+fP73bbe9mLtA9i5c60EW/+ttsftw6+G62DM5uI5RDAeBn7AJxzGf4hp/GzNmWAKXJ7pZ9pODqdEjgNy8iELPynfuv0yxb9jHei8oZq7T3/ccNfB/WcmWvqn012544EzmQOZjW6LlpJpvJupFPjwMwUjdqPdeCtJnPm9G3NT/Pr1tTCm8zfvVp7xwo9t+sNHfvgY9/JVXoDA86J3DRN/f9GXgNj4dz+N0y5mKp7yv/ONkIcl2r+zZErXdr3p869l6S4YnPq1L8xf4/qnO8j3tUDz+3cE/0V8NQ/N6nZnDbds2xRVkGcUz2vmr8LFJibIiAx43o5tcvAsWxuL7lY1860QakhTwLsye325boysW4xwzdrnSc4ez8q2HlvvFXzswgo5sO53x1Q2/ZNWvv9oJbZ/sC8/uZSyWb/fXLCnCya/8Eb/XljBM4N6OCuRj350AqzjsFIv2y2f5qYmZp/uznBOvaYqoL36smW17Tv2Cl9kk0lmuQS+99n6tTIVWV/7r6KM3Xa1+1YgqzW2+eiyDHH74v/36+4///7j74NKbpVle6JfWvsVtbolWQVKs+hw+xPTryh5obH3L4AlwUjfeY4V3L5ffG6m7TCCZ6tKFP1hka1tR/QiYEcEzbVlXvOVeHbjpoGgP+W2VP2GJ+6TMyYu8T8HTAnZEOX2vwbdLvPWLZqr+Zv26X62xLrGVu+33pY3/LVAd5w5e3PmzezCNwOaaauW2x2ULQfOJPv3tqrqTd8PZJnL/26rrtN2rH/t5E2Re9v1W72QWDu10ceDB+pomsjV8S+Z+pE539O9Wd6Th3k3Oo+VB003GNEdsexS1W+7D5zxHpeobdiAXSnTbktLujsPdnftP/mJ29z4bSgmd/3o3DUJbnfAZHr8andbHm+j0+mDXvUqROWxQKSMZfqOvP9UqvvB7o0Lr1e5d8z5aBlhRZ9/zHtMO3ogycGdG6oPirTuCS5Oh5aNnW4sw+cA+Sym3R9xnOKEcpT2Ro4+Vv3irTgDSnK1l/+nW5wLoTYecIsKcHkVAlq1ynPdeTF13w98sPXBwllyOyv3HdzivaBvmLOV82/Y+cSLgBJYyKWQwDjZswDcO6vtOkaP8bASedE8Cu61DtI2Y6Dg7P+NkWjalCDThsnMC3+SodjB9yTwUDx30Q+c+63OmBOVIYyv8g5aJ7Tbw82mf/mpOa6IX4h+eBd/dasW+C6a5MbteY79/3C/L/5+rT9Vk1bvk2vPlqha/74mp5ctVyLrrvaVMxzVJ3Ueajfx/rvk+YE5sZrNS05QYA8+Vjtu5yG0YCeC14e13D42xVOeZG27YoFzoblL0298D3zv6VJr7m/ftpfyWfU6NYbssvsg//PaXZeqsljWTb+aMqkHR3aoM45LdlLh9MIHKlIvyt/VxJQzbpn3V+s98X1BzZ8g3+MpMCUL4w84d1+ka77mpaseljP/eI1s457o/2yJZrxv1vcOvTSE0167t4VWlY+R3877WtuXy2pHtiQk4sna4odzUYu6527SzU/4FxVEesnMflKsqE4/c+Y9Jm/XLUbnnf7Atz3dppg9F/epMfatmlVuTmBaXhYNZUBfWumKfdOH6y7UjywIY0ZN37bvU3Hu3Iv+uPWd2713TJrTl/cYjseZSI3Tp9GbvcZ+htdOy1ykh3Plu8xMHPOt81f2w+cfVBVcJb3U+BUXXvdzEiAzryKBKdm6vpr4lpKE0NO9Wd62dZB+T5GeH027gh5t6Z9rH2/Tv4xdvCPyVfZ5cVEPD59ZoMWX5icZd2VzqUqf3SXGmpukl55XmtNO3rJ/K/pyr+ek+GBBOPA2wcj3t4cjVLZ0v+L1PijcXwfyzpyQjlv2okAxsKYB+AGBpwof7rGz1Ed/LX5V25vozC8huPMq1I0HHv3KvSWNL/8el9j3vu1Zqq+fo2dah+trYdC0fvoUw0Ntznf8bEG3F/d/ta5ACKjT3oOKOT/Hr8B+zjva51fSNO5VNfVbNO/HP1Q/3GwQ7/a9rgqbxhUaENAd7ekOy1+171awHkibOoQJpAH/7NX7UMFsVve0L4RBT0u1fzbnKsH3jAnL0dj/VutzO7hC47JfxYpw4PZRggyGHR/RTfL+zP3ZXoXXRxpJGWsXyJ9n5g1dBepjwcjJyBjyelTxO17rkqbdnToN+++p/+w/ZB4/c0N259FKvSzw7zyIOaodjy4SfsGrlflxh3ac9Cs47u2jxjbP008Xx169G29uuPHWrV0ij7e9ZiWrHYCJWMl1/XO3RdvXOze0un2k/jHVFeSZeb0QVTt9kF0nxra3ta/Ofvf9pmTql/Di6+p0GPNh9R38j39xhT+hked22CdDuKX6ln/beKZzLhVK8rN4dC9cu+UXvtVk8n/vn6wXONYJnK0b+cp3dTcooedfoq+d0+KDszttiT0e5U4OP0TjdTFxdcraP67/cC5D6qq0PXFsYbVjOuWaOqxA3rXrOO73Y1mvZaMaf9vmZx1/lxs1zWn+jMDWwed+TRz3hzNY0RK3pWfLa2RPjV/94ZazbEz8TgWWY9b1dCdanvtkNBH2bAM5/hk6vG8lkVvnT4dzDqYn9ZfXKvgoy36zX/F2tFOneM+kOC59H3Tjos/2f95NJ5lKzs2j+W7jvx/kX/enU3jbiKWQwDjZlwewpCu8XNq5xY9bk64/b+Ouw3HlB0Hn1Jb/Sa1mwbM8rL4UNSpHqez4SWakXjp7v/N7hbPiFh/OOlEbmX4O13hVJSJBk65tx1N+8ts+hm4WF+8YqbKl96t+qfudzt9PToQu30hzqF9enFgqu68cRQaZkCWBt5qdW8FjX8gQGx4v80JnDWpNUVH87nwHsZwbJvTZ2Pu/VtNK3ZuV9ur0NspQi/mZNS5vnbqjGvdtk1mAzr4a2fuFPVIoql/o5lO/bR7nw4OWcE4/ZOZf2+9pn1DXB116V9GtnvkQa2IgRMH3NtI7nnsx1oRmKlpl16qL47S7TBTp/2tm6btB0d4Vcfv3tUBZyXvf1z1zgnrFWYdL40FFdIzdejUa3VdoEqPbevQlpVmUvteHRtZdszesNc7B96J/bEGvfDQiymuJMvs3WPOsfRWPbZprYI3mDLg7P9sVvEvLtW0GTcpWPOkfvXSk24fQy0HfZ3/Z2QfxuBcuffoJrcfoRmrlkQeUhSVuUwc2+8cZ6fq60UJpfboqeQAqz3pypf5T/1Y95TfpHv+z7ZIp9n/+1kdjDtU2215xWxLvp9SPvXruuFGkz7tv1XomNP/2wLN8CeR2w/cazrYszfyw+ay6+T0WDbezpk2jHOHwoyZfxOph3OqP9ObetXX3QBX21v/mrGdN3rHiPQiV36+ZtbF5NG3/sm0BZOPY5H1eE27fzMaldSlmup26eKGX+LllL5f0TUmTylk6s4R3yb9FX3ZWVaqIIK3Tjvf0IGkq9Q+1kFTFzh3oVyTSz/IF8Xa0ZuaW7TJfPdAi/ck4AzpMxb+6lp93clQv44cg/NlXMrW//yr3nae4rrsmiyPRWNTR0bKnbS4OPv248hNxHIIYCIa8wDctCLnSou9eqq+KVax/PGU9jWs0LLV5qBbbhq4AS9oZa+Im3HOnDzGgmdOH0Y77l3qPkGpvP7xhF9vTuld5xHwgeujV9E5Bz+nw2Jtf0hrtx/QqegB/5w+cR7d3fKYan/hnThONQ0j59D1mh7f5FvHz5x1eEM7HnrMPh59wJzQOA2n/9S7vWmCZUa6S7YPPuf0+2bW5eNYTXzu41Nq39mqg2Ydll+Xqqvkj9X+8nYNzKhR+Sj8gg5k55Te2GnKZoZ85912E9q5Z4RXHdmHMQy0qs1p1H3vVs3PoX+r6FVCtav0ZPtAtM745Fir1j74mGn8Xq+7yhNPQ3+rg4dOxfqNMfVR+1Or9LjTofc9vgdOpOU9QGKTqlc+q3ZfXWUKtU4datVzq563De/YVX61NQ+r7Vis7jjn1EUNq7TNdjZ/8RciN0C2tL2mgVRBuI/f0Fr3NuB7FcqikTb5LyK3zL399t5YP2nu+jXphZf+1U4YplnzdadJ92MbHvKlu6lfTZ257bFN6ftAS/QXl5qmp/HWPu37n+hK6pMPDqh5W1PsKZ2uA9r2/WfV5txG6TuJO2dOCI51m5GpQ1/FPGpyWu/hizyMYUBtTnlUtQI3ZPMDT8Tkv3Dy/b+qff+7vrw+oBPtz+uFl+1ra+AVc0x0rrTz90tqjoEnjjhPg5OuS3n7ZWrewxicY9sxU1Yqbkwsf/4ysUntv7Pf+NnHOrbrYT2ywRyb55i6J/pwkr/RFU6fQ6FG7Xrblh+zbqfefl7VyzL0tzcKvnipvSn5igpt+cVaXXdok5Ysf1YHo/nP25bXVLPyYTX76xV/G8J34nlwi72df8sBOyVb0/R1py57y5Tf5r3JV8V7/cC1vOgGhwMzU3XjkV+njv6rTvjLw7EmrTX72OlcfMXNXj7Ipf7MwLva0tSh1c/tVbTLQlvHPb7B1KPm5fCOETmy69K+a4vbv6+W35R0HPPWI7Tqe1rb4m+XmlV2jgXbH9bjoWyDcxdr8hec/03muJn4mVzSd6quK3fa6E165NH4NvpB005+aod9nZXJmuxUT6F/UuhIYhvZO84/r5qHfN9zbkD7nlulR5y+Lb/3bc0fqv7+nWmn1zp9TMb3/XnuhDl36DEjc73uaTKlz1i4VnOcBtKxBj35fw7oE1snnPsf55j/kJ5y2jo5Gq+ydf+vjsbW/3d79dw9D7k/zq64bYFN66HkXkcOxXnoXrT8OMcCp6uA2shDPgI3Zn+MHLmJWA4BTERjHoCbGrhfD5uT+IGd92pRsW14XjVHy0zj6NSc+7Rza1WsEel11HrMNKznO/2jRea/siRgGiyndN1DIT3/nYRfN2xHl1Nn+RujM1W5ttq8PqXmdQF98yr7vV+5XH878wZ9597n9cWiWMDruv/fUwqaI0ncOv715frG/OVa+4sp9heOSzXV/UX+qJ4LXm2XV6ZtCUey355KdbA/pXffdvp9M+tybaw/rSuvnaPvPHfAbNcvdF+qPq/MAfbHvxhQZW1V1rfkASPm3OrtXLkSXJA+3138d5rvNDDbXxvyyq6hTLvx2/aWvam6xzTqcuo0/OIFus85MdYBPVf5tWid8bflq7Tj0FTNX/u4ViRthGnEB+boyr+2Zd3UR9/Z4tyqudZ9WlU2J63Tlj+lxuXTNPDrTfqOr64qnHa1vhkwJ3q7Yh31XnxDrRoful461Kiacq/uMOXfqYs2tOqcdxXPjOvcE7SBX6zQN7x1+4o52bdvnzuyV047LNtO+L94Y5Vb9x58Kqi/neZfv005NXZTu17LN1aYPeZPd1O/mjrzhaPOnszSpQtMXe2kzSYtK/bqRrOc6wJ66tfJTxE994ppaDsPEojW6SYdi4N60uzr4IYK92riMZHjeg9b0SIFneCTkV1wOGbGkvvNcW1Abatv8OX1r+lblY3JJ2D/zzlWrrD9ktp5zTHwW6tb3XJx181Z71G3TN7kPNHBkeaW2ViZeFbfKbHp99dXa9GqRh2cukAPP1Htq3um6qZl1W5ee9I79pp1+2bwMR37qwx11Ci72LRXml6+zw3CVT/UGv3hwd2WteZk1JTvWn+9Em1DnBq124pmzDIndCYdDh6SgnMSHwxi+4ELvaaQ87T1WTnss1FyrGGFvuUvD+X3qrnXlM1tT6nSd2VxLvVnetNU+dQ2N4+3bwrqG3F13L3a9oE93R3WMSJX00weNSfQbzWp+a00DxGy6zF/qvODsr9dao8F6xp1yhdUGsrMbzpBjQHt+P7Xosvxgrq5pG+6NvqSe00bPacrpqfqujInf76hx/8+dpyr3hVpEzvr1LDMrLH/e6Z9Tcs2vaGBoir9aPVNWRz7z+nUrx5Wtdv3p12GGa6cv0ptA9fr4VWxJ2FnSp/8u1jzv+ecV5i8+WhAf2vrhCuLnWP+v2pwGEVzvMpWW21ZbP1LzLH21wPud6y6OfuD0WjXkc0PlcXKj3MsqHTaSWb//6I24Wrr/Jt45RDARDT2t6BePFP3tLztdprq9Qc8bc6tWrGxTf/2immM+E4kz/UcUJupysq/U63yr3pHqKm65uZqbWr7d716//XJB+j3jmq3+Zd42fEXy5/Unrd26OHlC6Lfq6LrFfje42oI/bsevtFXS//VrWpodx5HHpt36ldv0opHt+nV7rvtSZ05oK76hR5b6t2qME3X3bhE13mPai2c5gYRTiU9xcoxTbc+1aJN37tV13kHyqnXav7yu1Vvtyv5mHFKbc89poNxVwgC+Xfq7Va3s/fkK1f8THn4+5WmLLyhXalu7cnFX12v8pvN/xwevuDnnhi7Zd3rG9KrM97UzntSlK2pptztWKvKObbOMGUx+NAO/UuLObnOuqFjyvuPO/Sb5ie14rZYn5RTv7pAlTU/1q/23ekLBl2s6+7fFZn3Zq/+sOvY/LZWfMOdYGYzJ2hOR/jReUwdc9tUeaX/6KF/Mn9z6ITfqXt/FTL1mrd+ZnnL16rxrU7tfOjv3CkjMfW2bdrjPqrfprpTZ5p6fc9O52Q3Wxdrxj3OgxWqonXjtDlVenjH29qbtJzrtWJfi+prqjQ/enxw0sik4yudaljq7YWxkMt6j4R3UpvLwxcsc1zb4s9PJp+Xf+9J7Tx6SA23u3NETQ08pVedvpQS87JTLnbmUi4irvumcxtqpltmnTLRon9JKIfu+plj8T1z4rf0izc/rn/adne0XeCl9Z7nfD/gjYEv3rhWDdsqpJ2rVGNOsiLxErMt95h8H9qWpr3xlBYP1edStr76d1rhjtyqmdck5wa3HzhnZOoCfd13Uj5WAhu2mXaOr61XHqmHk8tmLvVnBldUqOGtDjU8FCuHTrpXPmTabo/HgjE5HyOGYeqNFap0R0z9dF3qJTrrsbM95K5vYh322LaQfhTwpg3NCWr4y4Sb36Z6R4sc0jepje4dJ0y6JtQTQ4k8aCy2L5zvuyZ63/s0BX9s0nujr33v7itTx/zzjxXI5vZTU6f9yJSzx5La0mZ99+2Kqzcyp88YiJ5X+I+/j5v693U9Nte8nGH7CMvSuJQts/5x3+nVuz/OviuEiNGtIytNWsTKss2vCft/rEzEcghg4pkUNux4kkOHDumvr8j0EIGJ51hDmRZtmKL6/W1xvwKNvaPaVl6mx6/apn/7uXNlyMic2rVKS1ad0l2msbZqrH7iB8bDsee1qPwxfeXHh/Sr5bk168bCwae+rCVbnM6zs+i8OG9Gt37B+cLu96/82DTixzbYNHwfK3Tv1apuv087D64d8ysSAGDisnX6dS36j6eyueoPnoFdK/SNVa+5fROPxoNtAGAs/NcH/zleD2HIj0/efjbSX0x5heaPa/DNMVPzgzOlV/bqYBb9M2Vy7tCzqlm1V/O3bSP4hgvcOe17pUHHcnz4wlg519uqHb8yI1O/rmvHLfhm9P5W7cem6p7vxa7qwIXPezJwLg9fGHe9r6m5RSkevgAAn2NO/9fPbYrU6TemuKMHAHBBOu8DcM7VKN599n8b3OT2F7Np7cS4MiDSYXaTXtg5/CcDnnP6v/veJumhX2jLmN5SBYyD/9mjXc8NZN2v2Zg49Gy0jrlyrtO3jHTd6pvGtR/GgSNvaN8wb9HF+epjte98VgNT79PS8vOnG4JjoUa1Ox2DB0bYsT0AnLcO6DnbjogOTv/Xm96QbnjS1I/nT50OABiZ8zwAd0qnBhLu+29rGYUOdEdJ0be1qmaqDj66RW3uk1Nz88lbm/Sd5Y/p49ta1JCyXzjgwnLqn5vUPJz+rfLpz74Y65/H6aNmY4ea/vf4BhOmLt2hvva7eRjL58n5eCXZub16bdtRaXmVbh33q9IBYLx8RVcsX+Dr68/pQy3S//Wel/0PmQEAXOguuD7gAAAAAAAAgInigusDDgAAAAAAAJhoCMABAAAAAAAAeUQADgAAAAAAAMgjAnAAAAAAAABAHhGAAwAAAAAAAPKIABwAAAAAAACQRwTgAAAAAAAAgDwiAAcAAAAAAADkEQE4AAAAAAAAII8IwAEAAAAAAAB5RAAOAAAAAAAAyCMCcAAAAAAAAEAeTQobdjzJyZMn7RgAAAAAAACA4cgYgDt06JDmzJljXwEAAAAAAADIhRNf4xZUAAAAAAAAII8IwAEAAAAAAAB5RAAOAAAAAAAAyCMCcAAAAAAAAEAeEYADAAAAAAAA8ogAHAAAAAAAAJBHBOAAAAAAAACAPCIABwAAAAAAAOQRATgAAAAAAAAgjwjAAQAAAAAAAHlEAA4AAAAAAADIIwJwAAAAAAAAQB4RgAMAAAAAAADyiAAcAAAAAAAAkEcE4AAAAAAAAIA8IgCXsy5tnDRJkyZtNGMYW6Q9JrJ+Nd9O/kzp0x41P7hY0wud9JmkwpmrFeq3741Qf0uFu8yN++0EYAI4H/IlZSc3g+80a81t01XotkMKNf3ukKn1h2n/RjftK1pGqSLEBcC2cW9vHn6+woRyZl+9VpZe5Zb1SZOu0ryfdtt38mTC1ys5nsd92KwKygQuQATgclakomXm3zLzPzIBVu9LTmO+XI3v2QmjjrSfCPrfbNSaO8ujwZRJhdNVfudGNe8fjcNj5iCWd8L4eTlp6d/frI3+tHZO+srKtfLBBpPevRr8zM44IXj7rkLNH9pJrn613V2mqmdC6rG7rf9Yn85MqHUfY5x859lYnMh+Pk+Wx6oOHr/gYJoTxA/bVL2wSvWv9tj93a+ej864Y+lc8AFOW49NeoKfnLJF0Hv8dT3hlO+EwWnH3rxSa3aYdspHdsYRGjy4UYEFa9Ro2moRveo6M2jHx9Bw2xt5Kd85nsddXqTZzv+ZRSpwJwAXBgJwGCWD6j3aJhWUafbVdhIuLJ/1qvnOq1RYtlL1OzqiwRT196hjx3pVlRZq3g9CpomBkRtU14/KVVJapfX+tHZO+t7sUOMzq016X6X6g3byRPbebjW81K+SB3ar72xY4bAztKrycvs+AExwva83qLm/RLWv9OmsW4eZ4eVKTgqBC4HTjt3TqPo7F2v6l6/Syh09phU2EoPqfHm9uhTU1u7Ttt1jhh+W2vcBfJ4RgMtZgYq+av59lWh8vB51vWT+3VGq4siEPCDtx8+gOtbOU9WOXunqoDZ3nNTZP9kGxdnTOh7arODVUtdPF6vqia4RNlzSK1je6n5n6/ILOwcMvlmn4NoO9c+tUVO3OeHz0toMZ0/36XhXq7beFdBkO//EUKDKl511TAiufdSvDvOvIhhQwcRaYQA5uvDr4FKtc+vadWYspr/frcVUsaRggtW742juushxiaACzjtBNX0Qa1eF/3RWp3s71bQhqCL1qvHOMlW3jOTn5DPqf9/8W2bqjFlTIpPON3kp37mex5n5l5q9dSVnfbiwjE8A7jNzQvbT1arw3xd/+2o1vN6TfFuSafQ03O3vO2ix1rSY+ezbEb7b1uyyF88sdOe/qnSl6vdlvk0gZ39uh0RnehXyb5d7a94aNb6Z4rJfd7sqNO+a+O1KDFxEbutcrIY3E+evUsORhLkHu9X84EqV3zxPVznfH12HjWp7Jzkk0vvzcjNPhZrNQaL/TV8/BebE3+FMW317ucptWjrDVaUVWv3Trrj0799ZZd6brfXOZj5Trku87560Rh3Rrz2jnl0bY99h1mvx3Q3qSnGpd8b1Spf2yK8jDVrzjNnBBbXafaBVtQuLNPki+97kKSq+pVate5pUaY6RXY/Wqcl3G7L/lov+Nxu02utD55p5WvmMPy85t/4UqmqnM75e89w8ZAd7CXz62zdS56+OpKLnu23MqSueWRktU1cFVqvxYHJd0bvTlGl/mXJvA12pjbtG+gtpet37Nrq3Oa17ZqsqZ5kTPi+tjclTClQ8N6ia53erdq6daGSfzj5netT2RCwNIvN2mLSx78exaVzm9YFk6m2nfnu91y47+fZhd51K17vj60vtd5ihouVf1Rgw4yX1StkjymCH1jt1/p1tqdc7jTPHfH00mTxQ9URIvam2JeE44W73E23q8X+ZWYc1znsPdsTvZzu90NRHcdPPhLTaTJ/9bOY+Xvxp0lYZq1uTbt1NOPY5xzInz+WSHt7+jdbh9njg3C6elHezOtbGyk9vXN4xZeK2NWpOOs70qs0ct8q9culbh+Rjkv+WzjPqcvaPzZeRW2eyXJbbZ8w8U4MY5tgUyav+5Vg55f0E2X6HlXW+HMk6+Zw51qaNd3p1lrNvTPsqVTvEx60zAjZtU9QZXv3iDUPWwW79UJ+iDo5wv+/2+HWsb+lyt9W5Raywss2dz19vxN0Wmkvezok/Hzoi9dq8R51x/3Ep8Vb7eFltg8eUvfro/rrKHLsa1Z2moMfV7V65O5Yws/+Ws4+63HIdWXb8Ome1rEzS3NoWyX+xrhMKZ5ab+rVZXR9ms2d8x5GE8uBvz8fncSevNaROs2zqescYpFlOeSKr9skw69cs2z4ZDSddRzufj6aLJmvKlaWq/GGrjvdsN21Zkw8rTbqk6FJn6HVz0tq2ZeOOD3Y/n+ky6RB/buWkX4VpsyadE9n0S3XLcvr2cEzW7Y1U0pTvEde9OZ3HXWL2jfl3kfkPXEjCGRw8eNCOjaaT4aY7CsLOV6ca6rrsbMbZrrpwWUHq+Uo3dIbP2vnC4b5w0zJnemm4dG7yvM70uq7Y3HnR2xquvjrVdzvDunCnnc1xsrk6XJRyvoJw5ct9di7H6fDuu1LNZ4eCmvDu39tZHd2bwyWp5nMGZ97Tdj5XX7j1Due9QDi4rChu3uAvT5r3M3936U+ORxZjHN6UZn8u2m72tvGHznDdwjTzJG7DkOuF8XB4S4m7D6rb4jJRkpMvBtz5yn4W21d9zUF3Wunc0ui+9A+xsmzySYr33cHM4/CW5a8nTE0R7tyQetkqKEso+/Y7ZpWFy1KW12C46QM7q9W5IdV8kaF0y2E7l8Orh+riyvtweGVqqPT2yz6drQx1VsEdTZGyG3Uy3LoivjzGBi/NkrffW6fEIdjcZ/NKQXhdR3LdfLqt2p2v9tdD19vR7V5YFi7wfYc3lCRud6Zj0NXV4dZeO5tXF83aHPbv5bA5LrnfU5Cwnw9Epg+1zunSJC7v9TaFK9Mc+4pWtCbsmzScejfl8dAZ4vN59sdar/yYY22q+Qsqw03R9HNkKNPmuLy5287msvMuqgxXJxwvnPyS9bI+aAoHU87jLcfIKe+nkMV35JwvR7pOlrMvS1MswylrZZvivzOXOiMx38bXwRnqh6Q8YerrTanTxBmc5aavc22ZyyFv587ms2VNpgZwePVa4pD5e4bcBrOfnNclJn+kbA9Gv9+TKd0S2rh22WV3VCeUa2+dc1hWJvZ7ouXKSJ//zJC0Tal46V0QLkhZJ5WGg8vTrHvS8rOt640xSLMh84SX97Jun2RZJ7pyXXYmuadrXvL5MEX2Q+btPfmzSFu25Gn/0T/bdUu3X+x+znD8SDonsukXX99GeHVy3HsJZTKr9kY6Ccty5bXuBT4fnPja2AfgTIF2Kq/Als7w6Wg9ejZ8uqc93LQhGN7sVSRnD0cK+dyacFP3aTOH9YeT4d2POI3FEt/BJdZAKlq2Oby7x5v/bLgvtC7SGLjFBoNc6RpUqYdUFV+80+Hd/+gcjALhuo6T4bN/spPPng6f7Noerv3HWOP59Cs1ZvsLwoFHWsOH+2IHkrM99oTLC1q5TBq4DYGicHCDmf/3dv6zsYNffMAuhT8cj84bvx2d4XXu9hWEi5dvDrf3xtYlPbOfOmzjKuGg2bnB+Y7acHvSYrx1Ndu8qT188g92slmv1rsiQR1/sGZ464X88sqLObjGnUil4AWB79ptSkVEtAFwtSnfoePRcn/2g93hde6BPBDefiIyLfZdCcENK1WD42zHOrdOKVi4Lrz7A7vwP50OH26uieTVuf4ASqxh5NUVLmf+5yPLLokLqqViykH39kh5jQvCZF73XDgnMW46FpSFa19sDx/31RXp5JrOrU65LEiusw7/rNJNT3/wz1t2wZK6cLuXxk469HaGtz9QG251G11ptj9dA/L3reFqZ31XtEbzSsTJ8PZbnG1fl6I+SRbdbjetOsNeUjnbXTvLWZ/4Hx+8IHHRiu2mTrUTz/aF2zcFIvnIl3dP/qzMzBvfqHTrulklZv8UxG3TyV8661EZbh2iSnalathG2e039X71i4fDp+2+OftBe7huSaQurXklPsVSiaSLmfdl3/7909nwye7W8Nbve/vMyOlY65WfgnDZfdvDnV797JQfm28KHmmPLSMVXx4r2ODPKWnKZiZDLSvlCX9ueT+9TN+Ra74cpXU62x5e59ZLZeF1ob7ofjjd3RSuceuA+JPyaLleWB3eOmSdEeF9xp/3+1521jHhGO+vJ31lPFq32fzmOdt3PLz76crw5gOR16m+x5N13h6W1Ps1ctKeW92eaRu8OsBt3z29O3zcq4t+fzi81a1H/eXOpM+BSNur1LQno21B42yv3Vf+HwrSLdvKaVmZJNVj9hhQUBNu9bfdTF1yuG1ruPq+1pRlJZ53HHHyZW2sTjJ1THv0hzan/vGt++nD4c1unVkWl19zqevHKs0y5ol0dWAu7ZNc69ec2j4Ro5Kuo5HPhymbAFw0SLY0dv6W27rZfJzm+JAkerxNaBfY9EtfDya8l1QmjVTTspHic/mte4HPh3EJwDkBKKdAD9WYPPvrWjNfWXhrj53gZxqZtWYZscBNphPfs+H2B2xlGw0exA7w2QypD5R+9sC2aGs4dl1YCrZxHIgLOMW0P+J8n28bTmwPl5nlpqw0c6hQIyeG8Q0TL1BS5ruSLTs2QPaA/yTLnDAuMtNSHGgiAUdzwEr8td/Raw9w/kbCsNcL+WMat+4JY6oAawKv0eLLC5kanJFybvJx9OrGTGU51bK8KzWTTxQdh592grwF4Tp7Uhctq75GVdTp3eEa5z1/4zGD5EZc5nXPzdnw8RcTr5QtCBcvDIZrfrg93NqdXO5zSmdbt9SEUu1QW56jZdy+LjD7P3pynUqa7U/bgDR18yNOQClh39k6IP6X5/S87V63107wiVy56W/g27ycMrh3Oty6wll/XxDNrLtTf8Wuaot8vrqt002T2Dra40zcDygZZKq/7fanDGR5Qcs7hj6RTd721HI71qYOTkTYfJJwxXdqqZbjlc0s0zAqw7JSrWdOeT+TTGmRY74cpXXy2leBF1OkoJevNvlOEXOqmyOSP2PX7x93p1y/SBDbO3Z47bHU9bVfpnXLNm8PT+r9mq8AXKor+739GAu0e/VL6jamV4ajaeotO1U+yHVZmSTVY7Z+HVGQxDuOpKhHvDbjD5P3QnJa517Xj0WaZcwTXt4bcfskQ5044mUPM13zkc+HKasAnJde0TKf67rZfJzm+JCS1372nxPZ9EuVX1LmpaQyaaSalo0Un8tv3Qt8PjjxtTHvA25KaUA15oymMThbFQ82qPn1LvX0J9813nPM6YesQ6uLvfvVfcMl5ap33u1PuC89pcmaXmKqNLWpNzq711l4dsM6Xz9LqRWo4Bbzb89qLb59o9mmbvWmeNT0mdebtdGsQ+gffP01+IbyH5mZTNp4Hfye6ek2KVCiecVmYlYG1X+kTY3PrNHKm2P9C1z13cjTSaf7nk7a39OpbrPswIIMj0z4qEcdLQ1a7/QxEe0Da542mreCJdNjHRH3m/XcY6rk0uKETjX7FXqpQf0F61T3QGlyx8VXFiU9sCGr9cKYG8ymqA3D5OLZckvn+8P9gl517zL/FgVVluLpuyULKszffh0+kbD8i9yeJeJNuUyFzv+PziT1Y3HmnVCsXNk+0CJ9AuXLZBWv2K6Tvz+uzrbtWneX2b6Fl+n0m21qeGKlKkoKVXhbvbo/tbMPITGdI3WL1BC4JK4OigxXaaUpzzLzur2anOlRt/P6joDmfcGZMFomq+z2Naa0h9Swy+s3bVAdL282dYA5TiwtsdOyc4mvnzxPYYHzoPtuDXo7tL9Xh4+Y/3eUaV5ShTRF80w+kprV43Se7JhVqirzr+NYT+T1kQ41HTH74vpSzb6lRN3NHbYPu0gaFSycnd2j9TPoP3HYXWbVwnnJdeaX5qnMeYT/Sz0m52dWsrBKpWZJa24p18pHG9X2Zurj0ugda4s0fYHz36ybv2+Zz86o5/VG1bv9k3rHJdt/WioXXZJcNj25LiuFnPL+KMgmX47WOvUeazV/yxRckCIXzpontzbs7rF9m2WWdd3s1Q8/Xezr/zU2XPUPzpb1qt/t28jOm6a+zla2efu8kKJvoylfdo9E6vvU2yabbqaNOT1FGl9ys1tKbRr7TE5Vkoa5rKyUqOy7paaeXKNA2Uqt39GmjiO9Gt6uSbHuBQWR+jVF/1EFRbPtmJVrXe8Z8zRLIZf2Sc71a25tnyTDTdd85vMxMcrrZhrVXdHzq/JIf3xXVJkz1Yntgqp7gXE09g9h+FJAm99sUu0tpmH3zGpVBeZpeqFpdF4T6fDZK8aDn2buyHpiKVL1Lzu1eXmxzu5cb7Zptq66zNmmCt8DIAZ1uKvRjmewqDhyIDR6DjSYv2UqcZ4Yk2DwD6fd/8VXREJeg+80auU1l6iwpEIrH6xX454Oc9Loazibk9lYSGtQx7udaj71sk2LWh2Plqvwy9NVXrlaG18wjag9Xb4TvoSg4HuHzeFWClyfcMI8eFyHnU5IUx6ojfd7zSHNLO0L3ptDrRfGR6GK3BNrcxI11JnbR32RfPKlKcnBg7wwNYazTlMynLSPSK/a7rxKlxUvjpWrN7M7gR0VXypW6dJq1T3fqvaO4+oLn9Xpnt2qW1Kg/lfXqPqF4dWTg5/22bEsfHpG7tz/65LR36ezylQ1S+re0hp5YMtHITX/yKTuimpVjOAEPa3PBiPHmGy3ZfJ0zV5m1m9vJODVeyCk7mUVKrs80hAtOdJkTjDNG/akpOq6UfjhwKyj47L/NcLUnlWr0N7NqvzScTU6QduyyHHJeYCP/8FEeT3Wvt+mlcWXaXpgpdY802iOIwnHpVyM0rJyyvtjZLTWafAztzLUJWNT+UZ49UNWTPlzystI6+ss8/aFw6bbqBjNZSUruS+kzqcrdVlPozbeWaHyEnP8vKRQ0yvrUz50KyeTL9FldnRIudb1GeU3zYZtNOvXbI1quiaaQOn8oTmmO/+Xek/rHL11G9y/UeVFhZoXPb/qUFeKhz1MSJ+7uhfIj3F5Curkr1Zqc+ikwn84rZPdu9X0dI0CCqm+skx1b0ZOPiZf5FR5CY+JThyyfDTyWfcJYmZ50V+ivacsZTdkesJM1JdKVdtsTpDPettUrbJP27RmQZV9io59JLXq1JlqW7zhl0Fb2ffquPO9d8zT9KSj3KA632wy/2s0b4b592GbqheuVOOnZar+Sas6e/p0+vRpnXWW19eqSjNLWUmxaZZ77C85aZbd/aOAyp/o0CXL6tQUOqyTZlmn/xBZv8ObnLWLD5B1m5NSmW+ZnXjC/FF/JBiT5kB9prtDbWZrA7O8k9ZM64XxU6DiUie4ahoK6R5ZZfWafeqczsfntwzs0/0KLhruDjefc7LkmbM6G5kwqs68Wq+KHb0qWLJOTU4AzCkLZyNloXODnWlMTdaUrwa0bkudKYVO2csyGJiYzvZ/XZetd1INL1dG6iIzrzv3H85GGt6jqkTBHwRMlexcOXxGva82qtF867o7Atnln1zlvC0FKl1kUnrXYfUO9qpjV4fKFpVG0sUNHnYrdMDUcu6PEEHNLrbpOxJ235z+w8hTe8r8WjUd7dPZ03063tWq7Q+YE+OPmn3HpdE91upPzh+Txu6x9oxCT1eY7zF1/CNNavcfl8Kd5kiYi1FcVi55f6yM0jpF9uUZnR2Ngppt3eyVqQ2dqdfbHUw75HJnJjOnu4ojr6+zydsXDptuy5rUlzJ9I8PQd2s4RnNZqUxR6QNNOt53Vqf7Ildw1y6/TKdb1mjedxsjbcKx4OXLUTlu5TvNhmM069ccjGq6Jpo46dy/t9W9Gq1kQbG9qn201q1bDXetV0d/qXu+drjXtClPn418/oMm96rjie7zVfcC+TEuAbioL0xR0ayAKh/Yqt2vbjUnlP1q3B+51adohnOzRJta94701xxz0tTiVKMVKsnHFRWJJnvbtF1bH3VOWg6rPy5mYQ6S2dw2Zm/rLFtQ4tb5foP767X+R/0qeCSoMnOW2vtmk5pNMtW8uFvb/zGo0q8WaMoUewWSvTqttNh3S8r7Peo8knrZzsGhdW2XtMjsk5fXqfKWEhWZZU1xbz3rVc8B80VLZ6vIXbijX73dTshlugqTFxaR6kD9aZc2b2g0J7FrVLHQLizjemE8uVf7mP+Nd9cplC4G936z1q91grEm/y9McQtUCr17mtxGTsUMb/4pKrjS+Z/t6VmRSpaaf3va1JHiwN9tGlFOq2n2NcPLUT1HnKtQg6r/SZ3ZpmIVOGUhmvfH0UWXRAJUk7NbmcR0Lrhmtrs/W/d0Dd2ILijS7Fnm/0shdWZ5y2suipZUq9r8b/x5jdb/xOQff50w2jJuyxl1mnzk/JhQ7ObBiKKZZSYHNanr1S6FXi/z5e0SzQsWqGNnh9p6nDozoFI3yJCFLxW4AVR9lpzPvX3TtKczed981Gm+z/y/wzspyM7kKQUqnhtU9dNNOvxijZkSUkd35Ng6asfaTzvU+nPzf5Y5PrjFrUfdL5h/S+u1dVOlyvzHpZzluqwCFSwy/z5LrklyyvsZpf+OXI3WOkX2pcmPb6YIcxzplFsbliR2FZFavzmxiq+b0/DKVFuHuoZc+cz1td+UL0W+N/IDanqZ8vZ4y3YbhmbTbWerOvy3dw/LaC4rk8maUhC5gntz82E1/qOZ9HqHxmzXDKOuT2/00mz08sRo1q85GNV0TTRWeTMz546i2vud7QhqzTKnZnaM0rp9GDnP0Q/r3fO1kitNmzKLRuXhE8l1etZ5KEN7YyQmct0LTHRjHoDr37lGK3/apu73fX0NfDaongOdOm5G510ZuQFzyqKg1plWYltlUKt3dKnXV9EP9vco9NPVWrMrsaA7twH1atCrlD7tVWhtlVa+bo4ZNlgVMZp9wHVpo9Pv235/PxeDOvN+SE2/NCdlBdUqda5SM98ZuYqoQat/0KCu92Mt1cEz/W4fDmv+ocG9esiddrTTDZxNMe9Ft93p62HXei1eul5dBTVqvL/MPdj2v+8cKJzlxNJ08Eyvulo2quou57ZXe6WcdcYs2/lEXFDO82HktlB3G7zbBcz+6X8npIa7V2v9Lv8vQg4z/0vO/8M6ntjnw+XmQO209J9Zr7rX++26meUeadaa24LaeKRAtU/XuCcejozrhfE1q0abHzA7s79ei6+vUL05wYuWs0GnD5J6VSyqcgPBpZvqVJUi2O0EamN5eVC9r69X1T+ETNFYp+Air3BO1iX/y/nfqKad2RzIp6hs2TpTukJaecd6hT60JcCUle6W1ap50JSouWsUuC4yOVeTv+Dkzk7t3tvjq1ec8lqvzb+0r4cUu+K2oiWbbTLz37lYq0092fVOv874+9ewZXHjD2pNWSlQzTInOBQvq3SeFVTNLVL3o0FV/Cikno/89ZGtO571aiPvKrV6VVVuNI3PaC1j6rkuNT64Rm0jaZB+KaDKR8xWvN6sZtMwLfluWbROGH2+bbm7Ud1eHTfYr44fValmh0mmu6pU5k/Ur5aowuyT1k2b1TYrEHelb+mi1SrYs1Frnu5QwYLpvnpxCJMjAdS2FnMsTAxo233T/0yVqn/erTM23w1+2KGNd5p6P81+T9T1TIU2tnTE97FqymrnQefGmgJNt90XDOtYe+a4Dr/jO9581K3Gu6tUb2YL/MCcVLhTJ2uyc6LWtdvkY1/+cpb5zGazHbnIdVmX6BIngXc1qe1gQgLnlPczyfAduRqldfL2ZegfqrQ+esw1u8scc1fftca0L0q15pbk0nW4y7ffvTrDOQGNq5vTsWXqyHoFTVso5MsXTn7r3d+sjZX1tm3jr69Xm/IeS7fIvjR56GDk9eT/FbnZsLG5Tf0JJ5rZ5m3XmZBWu3czrFTbGPcdlWkbcuOlW5uqlq1Wo2lvRo9H0fZZtvXwaC4rUZfqnfaw002Dvx75qFPdB8xIQYYfakfdMOr6tEYvzUYvT4xm/ZqL0UzXRMNI5/0b3bbVpEkbTe4bAbP8M+93q83ULdOLV5q2rDlPbN5sr9x1jFIe+MKUSDdDzu3C0XretqW2NJrWZgJzHuX2xfl8s5k/Msk5t+0w61nu9O+djUztjRzlVPcCSC+cQT6eguo9tSXlMLcu3Ol7yp7zuHpTiaee1wyxJ7N4T01KMyQsd1TZp5el/F6Vhuu6fI8J+v3ucM3Vqeazg+8pZ5EnzaSYxxkKAuHN3bHlng5FnjSacl5nSHgy3+FNzpMHa8K7Uz7u6Hh4q/M47VTLsUPsiYCOk+Ht7uPf/UNs2X0vRx6HHv++MxSEK392PLq9jszrhXH3p5PhphVFCfsxfij9x91JT9jKWOYTy4hxtmNdcp6xT4VK/QSxs+HODZHHtycNBWUJy0/9hLuIFO990BquTFkHFYWL3LKczVNQY/VTdk+hGqI+s0NiWueazuHe1nB1pvrI/yQu801NdzjlM8V80TRIs/0ZnuIVZeaJ7POhn46YKHWeiEj9XoZtubo63Bp9WrYntj9KtiQ8288+2dp5L75eHEqqetOXl3qb0uQ7hYtWtCaVsVQiT3pLPRTcEf8kvOyPtd6T4VIPictNW/9fbcqP8z/VU/rSPDUut2WZFH4xkDRvdDtyyvvpZfqOnPPlKK2Tsy9LU33eHHPLNsU/jTznOsNIV6ZaMx4b/HVChvraDNHl+spWbIgsJ6e8/Wvn6YRpniqcUup8OJynoGbahoxPJkz5nkm3TWVp2lPO4Ks/Mi3blcOyMkn6nkz1g2nzNWdTc6U7jjrs8lOVBbsuw67rxyrNMuUJb/tS1oHJ741e/ZrpvVRGKV1TvpdjOttl5FI2M9UfkaEoXP1i/PlJRC7rZvNxUpqeNec6qeu/ArPf3GXH5W/nSf+p0rooXLYwcp4Yl+dTpukQ7Y10Uiwrl7oXQGrj8hTUgqUN6mzerJplpdGrBQpmlKl6Q6uO71mnUt9T9ibPXaf27k41bahW2QxTLbmKVLqsRpubO9Ww1JvmcS51r1P1XLvkq0tTLndUXV2h7aGtydvzwHa193Vq3VzfpcVfCmjrgeNqTbM9fRsiV7RJ/erp6pYWrdP2n9QomLg9PbtVOyu23Cm3bFboJ9UqtVdmFM0NqubpJnV+0K51zoS5/iszenX4zX6z7BIVp/xhu1g1LWb5S+xtKgXFKltRa7bxpA6/6PwOE9Tsa/yXSxepaovzUA37De7886LLLljWpO6OzbF94r5fp9ajPWr6frHdXsdQ64Vxd1GRKl88qb6O7apdUaboczjsPm3q6lPnTwK+vBav2uSTuhVeOTH53skHPR3xZcSYvHC9OpprFfDKiMn3wYJMmWKySn8Y0vE2X9k36xS4a6upP0wZSFh+Ti4PqtF5aIyvPLjL7Tuppu+6c+RBgSp/2afDbZF0jtUVRhZpnW0668qgth84qd3+OsZ8d/HCatW+uFvH7/L3+2X2/S97dNhfv9plN3U1KJjtrZfpXGfqNud/vh6+EMfJx91qN9vtz2Nu3Xpgu4JJt854Vy+XqGphwtVDk+ep7A5nJNf+3+yDe6L7yUn3Ynurv3FlpZpM3t16VyBazormVquu7bhbD6fa74lK7zqu3S/Wqtq5ddpOc48NP+lUzy8r45aR87HWHpu89CuYEUi53IJljXFlOTJfu/p6miL7Owe5LqtohTkGPh07LjrH5WLvVp+c8n56Gb8jV6O0Ts6+DB1t9dUBZhlLarS1w+T5R1I8jdy8X/uzhPmXO8foUA51Z5GCLx7WyTRtod09NYqtvVNfd0Tm9epVbx1Dx1XjXa08uUzr/XWvWWrpsgL3So5c8nb3fqe/3BKtud1rX42hDNuQO5Nuj7Sru8up333HX+f4eNfmHOvh0VyWX6lqTPt0+wPJ9cjWvabNt9y/Z8ZCrnV9JqOUZqOYJ0azfs3NaKZronzlzSE4batFtq79/UltX+E/P/GMxrpNVskjzoNK/OdskWN7z546zYtM8pmiwNMdanrAawuY/OK06Y4e1vbvZ1uehmhv5CCXuhdAepOcSJwdT3Lo0CHNmTPHvprInFu8ClW103nAwTpfQ+88NdihNZeUm5OhTvVl2/k1MEH1t1SosLLN7WB8bDsp/nw5n9P5zK6Vuiy4W+s6elWXr/7fMAq6tHHSPK13OqIe6wcVYELofalCV333fKlnulVfMltrriG/AgCA8efE18b3IQxI7ViXnN9sK6JPBwWAC1WvWn+e8EAWABPPRx1qft7pd2i4nayPsfcOK3SkQOvu8p4uDwAAML4IwE1AvT2H1a8ylXAvJoAL3ZE2Nbzu77wfwITxYbMq3E7OzfDlcq3frxF0sj62+g+E1EFgHwAATCAE4CacM+rpcp4+Vhb3tD0AuPAMquPlzepWtaqX0HsIMOFcNEVF/r41H2h1+588H34eLFjeqnB3LYF9AAAwYVwgfcABAAAAAAAAEw99wAEAAAAAAAB5RgAOAAAAAAAAyCMCcAAAAAAAAEAeEYADAAAAAAAA8ogAHAAAAAAAAJBHBOAAAAAAAACAPCIABwAAAAAAAOQRATgAAAAAAAAgjwjAAQAAAAAAAHlEAA4AAAAAAADIIwJwAAAAAAAAQB4RgAMAAAAAAADyaFLYsONJTp48accAAAAAAAAADEfGANyhQ4f011f8jX0FAAAAAAAAIBf/9cF/cgsqAAAAAAAAkE8E4AAAAAAAAIA8IgAHAAAAAAAA5BEBOAAAAAAAACCPCMABAAAAAAAAeUQADgAAAAAAAMgjAnAAAAAAAABAHhGAAwAAAAAAAPKIABwAAAAAAACQRwTgAAAAAAAAgDwiAAcAAAAAAADkEQE4AAAAAAAAII8IwAEAAAAAAAB5RAAOAAAAAAAAyCMCcAAAAAAAAEAefX4CcL9rVfVXvqzCLQfshJE6oOec5X3lWR20UyaCU78KmnVapdBRu73fb9WAfQ9APg2o7fsTr06YEP74rto2LNe3Zjrp82V948aH1T4hKiZbj1NPYiQOPevm6+pdn4NcNOptqbHxyW+eV21gjrufCr8yR0u2H7Xv5Ml5kCcObonUx88dshOOPa9FXynTtmP29SgY2LVi2OlwzqThEvPZb6xu1Sk77Xyps8c8v6UR2ccr1PY7O8E49cq9+qZZryWmDJ+z0wAAY4cr4Ibtb3TFbebfbdM0LTJhAvhYJ47ulWZ8XdNmTtPXnUnF0zTVfQ8YHQNvN+nxe4PRYErhzBu07N5n1XZoNJrDmYNYI2nMn48GDrXqOX9af+Vr+lYwqNoNjSa9T+ncZ3bGCcHbd/GNfWd66KGlqml4Qyfsbht457/18YRa93wY7oni+RgUHI0fpMZiu4cbJCe4nhc2SBU/eHVck9pPfGxnHJlzR55V1W2PqdnUmRGndPCTQTs+lkZYJ4xy/ptWdKv5e6uuKIy81owFqphxVC+8snfUAjNTp7ktUX19Wo4t0T/u1ZPf26SDcx5X09aKIdrZ+Umf4Zo4+S21abf9WI0brtfBpx7Ss78hBAcAY40A3AXlXR34hfl38/WaEZkAjJ7PTqnt3jn6RvBebWvZGw2maOBd7WvZpJrA17Rk3Ru+X6oxfOd08LmgFgVW6Ul/WpvTthNv71Vzw8Mmvedo27/ZyRNZ7x7t2DmgGTUt+rdTv1fffzvDDgX/yr4PAFFeHXevvjP/an3z3iad+KN9a1jO6cArm3RQt2pT+3u2/jHD/dfb9xEzU4GVN2nAHHMOjGtcxhz//s9j2jZwk+ob7j7P2rPnR36b8b+3qb78qJ57vFGjeMEjACALBOCGbaqmXW3+XT2BrjA7dkDt5l+w+G/M36/oioAUuOIr7lvAyJzTvk23qKbllFR0qx5rO6T3/8s2LE+9p39pflyBIung9uWqyeNtDVOX7nC/s3HphX1d57m361W9aa8G5lSrof3fY2lthvff/Xf9S2iHNn3vJl1s558Ypir4c2cdE4Jr/zOgfebfrYtv0tSJtcIYNdfrHjd/3qfr7BQgW4Ft/x6t3yJ13CG9um2te0w51XKvvv2Q/xbEXH2sgQ/Mv9tu1eIZl0YmnXfyU76m/tU15u81muarr6fNvVXlA88q9NboXH2oqdMUcK6yy+WQ/bvX9MJTRzXjoftVYfLA0CZS/XO+5LdpqqhdqxmHHtOO0CjtawBAVsYvAPfxuwptuVdL5trbDuYGVNtgTjgTbkvybjlz+qj45J1WPX7HDfqGM//MG8yJ/hs6leo2JrPsWH9Dzu0M9+q5V3+rT+zbo+bP7ZCK3b5lN37Nt30Hkteht0nLzPvVvzqgg7ueVW0wtn3f2ZDuaqKPdazlMVV7/Us48z7UqLa3D+iYFuiGmU5LZ7J0kfl3kfkPjNSxRj3eMGAa03frV/+8Q6tumKaLnfzluPhSXVN+txp3blPQZL2DT21Ra699z/CX4YG3G7XWK8NJZcK5jeRrqnnFGd/k9v3i5m9nsP0N+ZcV72OdCJnyk1Am9iXd5+O7BeizAe1riNVB36x8WM1Hkhuip155WNW3B9w+UyLrY+uU0Lt5CzQe/c2z7i1K9zz2pIIzpsbS2rj40qm6Zs6tWvFUi1bNsRON7NPZJ8t6OMKmsVdHOf3a3PuYmttP2WUn36bnrlNgkzv+ZMB+hxmqdx1Wc6UZL38+9a/v5/bqSaf+vve1zPW2rT+X/SqhprTTv+MEjP3cPo6+rLW/TnHCkVV+OKXQQyu0LNq3jxnsLdihE77c4PaTFdCTzvgrq2x6RYaMt09n+zlnXbc/rO/4jy9bXlMud+zlll/8t859rIPOd9t0iqyX/32PPz+YvLPrsej6fuPGVXrO5Juo4aaXlV0ZHbp+SS3Hzw3s1bZ7vXWZY+qhJh1LuV8S6iy3PD2fos4awoXQlkpw8aXTdN3S+9TY/rbql03VwM5VWptYlh0mrXc85O9bcrke3/Wub/18+y4uX3l1VJbl2WXzeKp9nk2/eCPK46nKl5HYzrTr7nQHkdWx6aJLzB9n8Cm6VZXLpR2hvWn2s29dsqkz/yzhfxaOvdqgkG7SiqXXZ/kjU6r0yaH+8RsyT2UyVH5z5Fbu4+pmpwze8Zja3kld0Q+87et3ztQD1aYN9PZ/2TdTuHhOhVaUS82/eo07FwBgDI1PAO6D11T79zeo+qkmHfRO1HsPqHlDUIvuTf1L5xsbg1pgDprbfv1u5AA7YBqGTy1X9U8Srrb5oFU1802DMtrfkHM7Q5OefNQc4NwZRs919/8+5WXln5iT52VmHZzt2/eOPaq62xdQ1XNH49Z34Ohed71CtQEtWbVJzW/Htq+9YXlyo/OP5gAfnGfS6XmFvP4lnHl/8bBqHn1NmrpA17q/GEauRrnQrxTC2Dj29j+5gZLKp+5Xebofda+o0ENrbzIjb2jX28ml+I0fBvSN4MPa4ZVhr0yYk5asThbSOqeDW0yDeYUpPwllYll50Jxwplj6ySZTT3xNyzbE6qBT7Y2mXro3of8ys6j3GhV664CvXrJ1yoob9O3/k5+OlSf/WaTc/v7/5hBRsbJO55zqYXOiem9ZJI29OspMO9hiGvyVj+mNhDQb2uWav8TklWMNeu3t5P3zSXurnjNfsmrpIn3RTkup6Ouab5Jq39H4E6SBI2+49Wp7xwG7rhEDJ3/r/kgx45qETJx1fvhvnfjFa9oX7dvHsLdgV89fOqqdl6fn3Aq+UMvWNardf3x5aoW+ZdY35Fx9kYOcyuXHe/SUOf4scb7bF2TPLPKZb616Prq+A++06snK76Uum8MwHmU0lVMvrdI3Zwb1eIu3LqdMPXSvFq1JCJyY6dHy5O8nquUxU2etUlu2+/ACaUul9RfXqrJ2rcrNaPv21+KC9U4H/U79vvYX/r4l39C2VTfkcEyZCOV5mJy24PKEdqZd95rAQ9qdTZ08574UV41dqvk3V0ktrZnr9WzrzL+qUGNOXQ6c0m/bTZm97du6Kaur34aSff0zOnkqk1zKve2Gwl83O2Xw18+r5sblCevutIGcetzX75ypB0KmDfTkryIvU5sWOQ6b4+2+rOtzAMBIjUMAbkChpx5S8x9v0sMJt7Htqa+Qdq7Scykuhz54Qgr+OBTtQ+j97hatmmHO354yB47o7B8rVG8OYgNTVb62LdbfkFn2b16+T/PtXH7er8JZDeYAPKRjz6vqtk0aLH9SOw++p/fdy+LN+va06eE5Zjs2/VNc3xqnelrd/1NvqNImX3r85sdO57jmuHjEf2JpTrwe+p6efFvu9v3mpN2+//pQvwk9roAzS2CmrnXnBUbLgN496JzE3qobZma+pWLazAVufy2JARHHwf/5ih5rflv/4SvD9zhlInrFnHMbyb+rwXm4idbqVVt23CFD/ynu7ZpPHTBl6D79qvtDWyZMfbKtWv//9u4GKKrz0Bv4P9O8g5n0qs1tN5hUGjPRxASMBmhEMU5A7WT9mHEpmRdI3gnB3kvE90WDLQZTGaxSTcWPWzHcWwmZG4GZGmBGcTuNLhkLfqSAGCEh1YykmBvNtjd+3DrKNJ19n+d87J79YNmzH6Dx/5tZdjl7dvec83w/55znSXG2Y8vPA4xx0teOwaQK7OvQxmiR62+Vaa4Vbx70brArHe3Gbfnyc/zJsVO92m/3EcOZ7eiZmr5COY4NpfmiMS/HgAu96j/ycZbM5cPOlnIUNA7CsqgM+/VjLI9Dlx1VRQnyetuAlFuG7WXK63V27TfEQ54YSPhRHnLFduzaf9gnrgyidV+9+PAaZM4e6fqHaUjOFk/2XpxVFwhOdNhbkZiYBBwQjWtDY1DJby3zMMO3YRdyfNBvdTI8tGNmQSfefE8rI5RGpx3r5OtlNfjQsH7QkyIhfG6wsRRF+51IyNmJw/3a+4MfYX/ZAlgG6vGaiJOhXa2hCi2+aI6K8vafizzHybBdw+sUYfNjVNk/0srDz/HhO3Jcp15s+a12lU24x0sTWhoNL38x87m+Y39G4oZG/EEPl/42VMrPHahGsyETch6oxGuNN73LcX2b0YSiqhGu/FTcWnWpmJmyEDZ5DPtEPNI7KIZ6UfPzSnRMlrfoe+pZF893Y1+xOrh8nXK8DWHnFa/0TqcQ03M0RBjHfTnf24Mt3Rbk/8YQ9rIu6KhD5QvD58mhGJ+ZhUKR9zUfDdSFqzFRhpriPINjR4H0+alRGt4lhPxHCjlOBRM8vplJ90On96Cish0JK2pEPq+XuSK9dsn8uRNbfmao1/TV4jVRB4IyZIUnb/6s9xiqXtDWGYZaZ2tHX5QmPCEiopGNfgecNiB3/s63UexzG1viC2UonS8anV1n/M40Fe9tRnmOKJC19ljcAwuQ9bxoYOGPOKdXygZa0dAo2ldFNagtnucZb0h8d8LUR4NfSREVg2ioLMdgUTPe3VmA9MkT3JfPx903D8tflFcHDcL53+oyiApA13viSRTUB5t3It9wPBLmL1E71O6b4N7ua6LCVbFfVJ5rficqBPOQcK/2xt1xSLCoY72lJ00bhf2kO8uXcJ6XzwmwjFQjvu9+dbayr67Cd86vddV1KMwU8dOQhteUrhSvjsDRFaSiH9RVdByQt2suQGlVGTIf0L78bpGfLN+CX24QeUR3NRyn1cVu1hrs/81KZOpXQinr5yFfvOw7/+UIjd84jE8U68qVRWNhMJQrDUyKS16JPTvzkKDcziZnQf0+1FvA8lG2tR72Pu30fAAhHWdT+fAgjjTKq2tXorpGNL71YyyPw+RU5G6ogDWcCRXuW4jlxSJCNdaj1djR09eKOgeQWLgU6fpPDSsO05JEo08cp7P6d1w9g64DSciqLFMakcfct0QN4qy8dTk7BXLkIy+RxAflmBXgZfHS2S/yd3VpjPTCvveI0jlZtTUPifdpi+MsSC+uwS9zxDa8/a6p2xhNpUvrTu/jFJI1qG2uQG6yRSsP42BZ9GNkyR7mrrMiVGIh9mk0EOvuFtQWLcBUPVzuE/Ewu0C86BXb4ImHR/Y1wblil1JPcZfj2jaXls4TaaITZ0bqc/9G16WMLEiYLp9bcUGL10Mn38WW7nmo3CVv0ffUs3BvAjJLXhPpvlfk+WHGrFFNz+FzOv8s/ory9mFD2Mu6YOIS5FeFmSfr4n6ITJE3Ow62D58+IypDg/jinHKFZfLU4POehi60/CemcUphJt1rEznM34Ltm7NEPu/eGsRN1vLnviM4o5R5Q6IOVI0+UQeqqla3XRdnmYZpD2r/DGdqktKh3jkQm5yYiIj8jXoH3LVzvUrhWpcrG5S+V5klo+SoeFPUsnzPxdyjVzAMLBY52UAvhrQapvxuZRKC+T/0FJ4j0Ad1D+kx0ixGWsPRWW3DQ3779j08vVo0nMSWjdP35Yuz6OwTDc2Uaf5TrH/1pVIxsE6T+ygNovXtWjgTi/DKcv+KydD5M7CLimp6YrQqLUQeQzFqhcRNnaF0NNsvfKkuMG0QfXbxNH8J0gPcrpI4e6n46xQVVZ8dEGnQ7wqBCRNEc0YI0Hl47dwRNFSXo+R5G7K1MdCWbtXejIk4TM3ZiQ/6j+Fg3U4UvyT2b+5EXD0m8pjtq1GQ+QSefHEP+kKcHdD3OJvKh6+eRZ/8P3sBUt2NhmiIQ/qyIiTiCOrs+hUTnsZEvlV2CozMMnOBaEB4zuBf+0B8n2UpUp5ORfpLQMNRbTwzbT9sMx/1Lx/MxIevr+Kcox41G1cjW8YHZVwhbWynWBON7l552UP2PKT67cQEpIh0ADR5OlLCNGy6vHtcGFfW+IwxpbgflofFU9+QX1oL1+in0QACjLk6/p/Vk2NfXtcqKnp62psTuJ5Q0i7eNJ6oC+xWq0uNpnOfyGPUjrJ03/0WjwQbasS7Hc4Qy5SxTM8RSJz7Y6SIMKvIsaFEnpQ51ovBq77dreESefOPVsDiqIV9uKu+TJahIfuHLLHnISE6l78JoeU/UY1TgZhK99q6R9fhmQDrPvT8HvFmO/7ylbauQ9RvhqkDjShuHCaKp77r0cqJiYhoJKPeAXfzegQF2Aj075747bGpMg6ePuJ/q5svy6PuisXQOdlpBmTO9G9oqmMVJSF1qrayvCxfXhXyvHqLn69zp98Vf5ciMSpjZhAZ3Y/Js+WzqByO1BGndRzLKzfNN9TDISqNcpsmhNMxEAo5ZksyHk3PQcnGPWg42o4O9xhoo+C+aUix5mHd1jrsbz6GD+XtKh2NWLfIAud75Vjzdni3+pjKh69fhbL2t8dFvzGeOE+5EqGv5iA6ZNvxq8NokYO/5eRhSah52ZRpyjhwdT3yJtQhnDlZC0t+umicTkBqZgHw9hF0yl6IgV4cck9SEyY55lb6I3gmdzUqquvRIeODPv7SaPhaazDGIixuW2OcRs3S01OEvsl1KW9ODPbLZ89MmjevR3CLo9FYp+dIJK5E/YEK2O77ExrkSRlbBp6e9n1lgoGaD3y7XcOQvACvJPai6WiUjnWIhm5eEX9F/WGUo17U4tRwTKX7mxgasTGh09aNWR2IiIiibfRvQf2WWqoaxwPye/xGjr8RBu27bwScwS+waI4B53TKM1hLUN0TYJ/0R+8adweaesatAKmPqf97DOHsaTk2nBwsXF2CC+fQLJ70W029DYr1RaXRmgpTdwYRhcSCaSmyk7gVx3qDV+wHe9uVTuiQb4X+h/pk+Va4VUfxOZlZXL3pPpMdTfK2b3XsszWolh1gZz91j5V1sFRbaVTFYfzUBSjeWKbcNtJ3OsSOBt/jbCYfvjtOrdj/TVT05XNUJcG6YoHIPHegxXEVg7+vR4P41eLsESZf8DJDHQeu+ywGh/6IDnmbfvIM5Z3xKenIRS06Tg9h8NwZON2T1ITjKhy789EwYEFmcQ32d3yEP4n4oI4VpI3tFGsxDQuDiNPl6Ln10ugI9DAstXunN69HCIPW32J1qZj5oh2H5KySiamYNlldpE5SM0Jda6Q7Fm6F9Byh8U+vRPXRj/DZ2Y/wB3sdqoqyMOGrJlQsKxT7pa0UtiSkP5+EvprYjHM6nLhx8nqsq7gZ0wzOX3TiVBCm0r1YU26Oz1iBvg85Vqd7XZFWeQ0bEdHtYdQ74CwPz1A6oFqPRmNGIW+WhEeVcsihDBg/Vq7iaki3hQ3i7EmxnfOTAnSaaZefZ4sKp1oP9vg6QBH71Rkcs4v66ewAt7ISRYG83UWm24bS7XAM1wd3oQlbK+Vt1guwfG5oMXHw6LvKVaCLp+vrT4BFaWTdUP4bWQIS5b1yR1sDzuLVd/Kg+GvBjCkyZzDvbF+t+LsE5ZVlsM2dBsuECe6xssbU3ePUDqq40DbG9zibyoctP0CSXHn/EXSGeMurGepkDCJu7SvFVjm+WWIRlsw1c5C1ceCOtqPr911odK70TN5w3w8xdxlQc/Qw+vpblfHfQruxNRCRL78tnqwbUVmWhfSpFowX8WH4Lb0f35svnkw3jIJ8LmhYXEWXSAdAFqZqHRXh8k+XoyG842UujZrNX3Thfi4APQwPdaArgkrQN78uJVw/i4bKDUpctK5SyyApYbocWqAVhz6I5Go1s+lZ0zuoXuVtpHVYjyzcPCG4uAkWTE1egtwNNTi8U445eATHeiO/ki9xUQEynXtxJMBM1THzLRH/3LdXjp7oxKkgTKV7rV7jM4lQYPdjqoxT9nb0hXPMhm5CXnOYeO+tf7KFiOibYvSvgJMDxGaKhvHWl1Cw6wjOfeUpiYauDqKrZQeK/j3MSt/MdLwsao19G0uxxeHUKqVDytgwNeWVSiXOVzTHgJuWKCs+7dhZKn7r3FVPpfj6VQx2N6GmZIen8+LqWXSJDbIE6jTTxoZLnz1DqQQr7rMoV7zY6/bB8YX2zUNy7JI9KLDmo0H8m/4Y5z+lGBFxu7xIxEbnHrzwo3zUHBvEkGhEKPR4mC1nzQNSysqQFeAqo8HeXgzqnQZfD2HQUYmiEnVAeet8vRc6DuO+LZ/r0XwglIrwBKQvWyPSyRGUFFV60sbXV9HXsg6vbRR5SXIRMmeqi80ad686OLnj5FnP/l53Kvv75m+1/0fkRPNP1KtoC1pC2Sex/uoclO1tRdc5J64Zx/URx80p8rNdZbJRakH+snmePEIT0nE2lQ/rV6ntQVHhDtEg0NcVeeuFTjRsLIc9kkHu9ckYHE3KTJHD3WYfjGVqqvhME97cdRDOl+ZhhrsVLfJN6xJgf7kygY01KcD4byEbhzi5YV2HRbgYjpfzLBzVe5Q82Ns4jJOH2/4u7O6JIEIR7HOGsCit9zS4hpzo2FWI1+TA+S/9WLklN1ShpcvREN7xMpdGzeYvunA/F4gWhn2VKFgh6gTGuoLIS2VdYVfhnpGHs7jF6lLo3qHdLbAj4ium5Pb32UWZkjkXJfudsGTXoNwwU+j4+Yshswx74Usoa+z0xF9BSY9716HCPlI4mU3PP8BkObulvRYtx7T4KdPLMbXsC3hM/ISbJ/jrqs7HrhafGbJF/On88Ix4YcG0B01kAsOZMg/WTCd2Of7oiaOx9sBUpa7b0T+6kwJEJ04FYybd6/WaVhStWIeGbkN9S6sD1JXq5a4FKZly7M96vLbBUCZcF3lAYzm21mn/D+cLkdbEU+qU0TzZQkR0Zxv9DjgkIFeUCLlTnHBU5uCZ6Z4BhB+aloylhZVoDnsw0FTkbFanj9+V+4Q20On3lbFh3hT10ChUR4IavygPlXMtcB7bgYL0RzwDrT78CJ62FqLigsVztZsyHhGwONG/00wdG040HI1XH4iK0HJR2ZaV3BdmaccsQY5dIgph5cqfJUiaGn7Tkii4OKSX/Q7VOSJODrSiwpaMhx7U4rchHqasaER1cVLATo6G0gw8/bD2mQe/j6dzZUMtFeveLvGa7TLpaVnxdKLuJ3IwbG39ILd/x80tQW1pqnfaePARLCysRZdlHtb9osB0h44ucemrsFmcaF4117O/Dz8h9rd25AZyJK6LCvb6fCxNfwKPTjMMsi6O25MiP9vynlMc610oXOTfQRLacTaXDyfkbEV1thx3rhLZ+jGWeWuKFSXVgxFezaEN+K28XoD8RWFco5aYiiXiC/r6epGfmep1+6qcpCHTOYhB5zxkzoykFEiCrViUL84mFKUbjlfSXLzwjmz0+hINowzR4MIRVPzoEff6I3fCBv+cOyz2r8bC6ep7kxKeQHblETin5OGXqxaYmqUy1HQZe+EdL7Np1Gz+ogv3c4HIMKwVealMTy8Y6woiL5V1hS0toUxO8c2pS9kLDcdU2/6F+WqZkpCzE+9uzfI+URk3D2veLkO6pRN1q62e+Cs/K9Pj+loMjthjZD49L8guUI7JFpsWP2V6sZWj74FQTxqEmycEMNSKLYX6DNna/ov4k721E5bsjViu3J4YqQQseSEPqG6CY7SuSLPMwNz5QMfRTpHaRlFU4lRwZtK9Uq8pmwdLdy1KrIb6llYHKHvbU+5arK9inQhvrzLhYZEHrG7F4AgTJw2ebEWHMtzNaJ5sISK6s41BB5wweQmqft+NfZsLYE3Wq1UWTJ2bh8KdjfjDS+GPs2BZVoPDypTj6vdaHhMNus3NOLy/DCnKklhKQv5v38f+4farJs9diRzsaxeViyVIme5f6Kljwy1F4iPq/ypR2X6zDZU5qdp3qN9b3twmGmPiXzk+SiTTzhON5O4E2HZ248PmnSjMmQd9fhBYpiE9pwzV9o9wcPMC74aSQe7GGqxzx98EpIjP1Ha0oDjZu5UvK57v1qxE5mPaD0xJhdUSrHIYh5RXRfqqK3One7lNmS9twX5Hs9/3m/LAEmxvrkHhomkixQn69/Z2o/p5ZY0YsMC2+yMcrlOPc7p+HKQQjnWox9lcPizCfvdxHK4xHGPtu6vtW7E40rznyRTkyGczky94mabesoM8pKf4xBV5FYe8RSei8d9UlmW7vOKmXr582FGj3EbrKyGnBgc35CFF+13LYyLdhHAPc/DPyXSoljPGNJJbWoc//H4nrCZvPw05voyCsI6XyTRqPn9Rhfu5wBJg3dmGDxq2IH+ZfuzV/c0t2ol9HS+HVl/5Rtal5Pbrx+FTfLAzD1MDdCLEJa8R+bsd1aUizbvzSBF/lxWgvMaOX1r1ZcMzm57HL6rwWj8hOQ/r6o7h8C5P3W4k4eYJvlJeOoZ9O1ciV952rS1LSF4itt+O9t0+HZYRGD97gTgW9XCcjOyKvdAlYEZmEnDgXRyJeBw7c6IRp4Izk+5FvaZYpDe7zJ8N9S2Z77xU4V3uxiWhuPEYqosWaOtp+fhR0T4IWk8ZRMfBI0BmVngzqBIRUVjucgnaaz/d3d14cLKcnp6IKDxyopMnC1uVwcLVQYMpFm7n43zNvhqP5h9GcfMprDM1/huFi+mSiEY2hI6N30f2JzvxQUPoHY0R+aIJBbMKMVhqR+urqQGvqKfIDXXvwBJrJWbUfYoqa7gnE4iIyIz/uvDnMboCjoiISDGI1n31MD/5AhERxVYcUjPXwOIIPNFRTDywBK+UJqFv63Y0jfJVcHeOQTRVVaIvuQL57HwjIhpV7IAjIqKx09eKOgeQuWJJ2GP1ERFRbMTNXYiXLUdQ916Yk3qYFoeUf61AofjNkqId6DJMiEDRMIS+XYUocSShuDz8MXKJiCg87IAjIqIxMoSOA9XoQx5yfzQqNzcREZEpqSju/QsO/2sYE+SE6955WPd2GVK6K1FQ2oTRnRP1m22wpRh5lZ1IKd2KNU/zqnMiotHGMeCIiIiIiIiIiIhihGPAERERERERERERxRg74IiIiIiIiIiIiGKIHXBEREREREREREQxxA44IiIiIiIiIiKiGGIHHBERERERERERUQyxA46IiIiIiIiIiCiG2AFHREREREREREQUQ+yAIyIiIiIiIiIiiiF2wBEREREREREREcUQO+CIiIiIiIiIiIhiiB1wREREREREREREMcQOOCIiIiIiIiIiohhiBxwREREREREREVEM3eUStNd+zp8/r70iIiIiIiIiIiKicATtgOvu7kZycrL2HxEREREREREREZkh+9d4CyoREREREREREVEMsQOOiIiIiIiIiIgohtgBR0REREREREREFEPsgCMiIiIiIiIiIoohdsARERERERERERHFEDvgiIiIiIiIiIiIYogdcERERERERERERDHEDjgiIiIiIiIiIqIYYgccERERERERERFRDLEDjoiIiIiIiIiIKIbYAUdERERERERERBRD7IAjIiIiIiIiIiKKIXbAERERERERERERxRA74IiIiIiIiIiIiGKIHXBEREREREREREQxNOYdcJfer8aqZY9j0l134a67JuHxsjbc/LQWmfL/DSe0taQrsK8UyyZtRo+2hIjo1nEJDc/LfGwzjDnXN92lxiyxz3dh80ltAZnGY3inGqs84/bMq650VGFF2sNKWrnrrocx59cxrg2e3Kz8VlbjJW0B3RIYLkREdBsb0w64gcY8zMpYheqD/aI6KF3CpClTcLO/B23iv9ykKcpS1QB6WsTTi2mYri4gojFw6f1arH05E49Pko0g8Zj0ODJf3oyGk9GoDAdvGOodFXdWxXsAtYu0Y72oVvx3+xutcByTji2tcXjXL4wx+AQ2y2XPN2hl3Z1MOxZeafwb3Hn9Te8s0OO712MSHs/IxIqf1cL+yRVtxcjc7NoM67y1qD2p54ADOHHlpvZ6NIWblgPF+zvcbZM2mH8TEVH0jF0H3F/tqHpVFGaz1+PQhRtwuVzKw/GTKZi4dLfyuj47XltZ+PQU2kTJZ5v1OMZpi4hoFH09gIaXH8akjBWoqmtDv14TvdSPtrrXkZc2CXP+n/0b0UF0SzndjOrDQHy8yA8PV6P5tLaciOiWdAn977eh9lcrsHj6d/Dwy7Xo/5v2Vlhu4vhvX8cJ2LC757K7vuj6eZr2PhEREdHtYcw64K6csKP6UjzWV74O6/dH7lK7olwVNwtzphs65YholNxEW9kc5NUNAI/YsK3tPG78XWsE3biMj+3bYHsEOPHrxcj7xQmxdmzE5zQpv9mUc+fkAz2H69GDAlS3bIJVvKo/fPvfhP+NDsfZ69k5EFQa1svj41ovXtE3ha3hohrvtceNy+dxvGGTUi4M1K1AxsqGCE7OXMGlz8RTdhayZk5UF912GO+JiIhoTDrg1LHcvrOsWry+hM0Z97hvWdjcJd8/gc3y1raftXk14vs75foZmPWY+r/blX40/2IFMpMmqd8zdQ5W/OqE+BUiiprT1Vj7q0tAfAkOdTah5NkpGHe39t64iZj+XAmaDtcjN16k4A2bUP+p9p5gvA3Qa8xHv7Qqb/OYhLz98vXrmKPkC9pDu51v+FsKr6C/ZbNnfKBJj2PxymrlqllvhltJvr6Etl+twJyp6m88bF2F2i7/nGNg/ypkLZqDh+XnlIe8vWoFNrf0x6yj0aMHbQ09QL4VGbMzYHtOLGloCzgOpvHYXOlrwFr9OItjkfcLOwa+1lYM0ZW+Zmx+Wd9vsc/LVqH6/eA34Cjha9XCIEBerG+j/hgxHOU4Ty9XBQhHlfJ7z3tvY1XjCRG2IqR/cRcm5TYr672e5vnNEW8B08YgzfyNT3eBtnyx7IQ2Ol2Fp8TyVQe1PfW9rerzBmTdNUfEaGF/njbeqfoIdOtVZGE3gOaVWch0Hz/1O+Qt4s2fhBhbb7ZhrfycTxmsL58kx2nVFimu2LFKLH9qhx4rjbdrXcGJX6/CYi2NqfvrezvXyOleZS5u+DPc5qrVG9xpP20FqjrU8POO9/I3qtHjny0II2+PEt/TlJBHc65WR1EeWWj4XFlsIL6vcS0Wa3WZSUl52Py7wF1W5tKm7/dmYsUv6nEq4D5Fz7iJU5CWsx5NPR9j74vxuPROHlb5ph3pUhuqVy52D2kwKWkx1jb2i63WGeKHV/rR07GZOK/FPa94pVHS6TDv6UymZW++8V7jW4fVtl0O6RBq+eKdD8r4nIVVv7aj/6/yXXnyTH73CjQr//saQK1VfG5WladckWWjSLdZxrj9vIhjvxPhEmpeNMJ+hZw2RPyoMqZHuR2Hh+vK9UmT4jeD1gNCiQcRhTkREVEAriC6urq0V9F0yrVtJlzyp70fRa5Dl8Xb5/a6MsT/ub+9qK6uOO/au1Cs82KTy7j0cvsmV0a87/eoj7TKU64b2npEFJlT22cp6aqgWSbS4Z1/y6qsl/Ef57UlLtfFBpuaJmenudOn8ZG28biWVo+7NgV4X3mIdST9uzadUP7V3HAd3xj4uxGfIdY15gTab8zMcGU84rOu8rC56i9oq2qObwy0nvpI235KW0u66KrPlss3iV+JkhObXPHid4oOqMdd3f94n/1XuY/zsxnKZ3y3dZb7OI/shvjdtADfIX87o9L7e0IPX8+6+sN7P867mvKneL3vfsTnuuoHtNUUIswrA++nfMjvHT7cRgqfU65Nslx55ZDLGNvd255d71UOXfxtrlie4dp7Tlsgjp1cz9agrXWh3mXz+n3PQ18nemEXJA0hzbWtR1stqIuuphfF+jO3iSNhoMVFxPscv051ecl7+hZq27Aw11XwbLzXNqj7q73vPo4jp3tzcWM4evqMd8UHrDekuWw5w8QpnzAPdXt847vnoecz+jaluTJ8jpX6mOWTf5lLm3I7618M9L36Iwp5lW98D0TU66zy93zilNyXYetw7jg/XPzQt91MnNfWdccrAz2dGt8LIy0PzzfeC/8jls32/y714V8WBXK+IXfYfFDflxtt65V1rG95ymW3nm2uWeI9T5kdPM4EKnv8hLBfI6eNYHFdfXgf8zDqAaHEg4jCnIiIyJvsXxuDDjjhhsNVIguwnzr8GhVqY2aWd6XpYpMrV6w/y9jYFZUGWTCn5e92OQYuu7/nxl8cWsFf4nL4fjkRhUFvJIqK8UgNXa0yb+y8cFe0H7G5ttk/dl3W0uWNC4dc65W0avV0Xrh/K3DDUP8uYyNAb1zEP7vedeiC9uV/v+w61VCkVt5nGxt9WsVbPKZkb3Md6te2Uq6/R/1ur3wmoBuuyz17Xbmy4ejVGRHtDrgbLsdrsiGknZyQtMZA/GsB8k79OIvGRslbx10XDce5RDnpYfieYET+vF7ZtwzXevtF9+9c7ql3FSnh5d2o1X83/tkC1+4Rw1cVKBxl3h+PeJe10uE6/z/aQuOxzm9yxynZMFPi2ewiV32PZ6duXPzYdeiNXNe2TvX/QL8zMnHcfyr33z9sZ82UHdHeDePjP1fXdceagB0SARrfBlELu0BuiLj9H2ojPT5QgzOA8/+R4b+fG0VcFPs/y6cD+Px/ym3PdTW5d2yYNOYW6FiMkO5NxI3h6b8h42qJEm+UwyzSvsPdcI93Zaypd536ixYAl0+5tj0nlxs6WAVT2xMwPui8t2nvCT293XBdPFDil5eaTZuXmwvU7166yeXQ80a5nQPie+RJzdHqgHPvp6EMuXFKratpaVjfOtf/nHcdek2Gh7EeqH1+mPTjZ9g4b6LjRQojLQ/P/3Nquo93Ff32vOvG37WFf7/hOt/T5Nr9kxJX04gdcOI7ZXx4bpvruB5nhRt/+djlaNjksr2h74t24tu3U10cdbWMMeTRYp+Vzrrtx915uRJn+h2u+o2iDA8hLw15v4LGHf1kfZqrqOGU67L+Pf9z0fXxW2q8Nn4urHpAqPEg7DAnIiLyNnYdcFoj3faf/mfjlMYM1ovizqB9vVLYrm/X/nedd+0VleL4AB14knoVjnfjgYjCpVeEQ+jU1iuvfo2MwJ0gN94rUd7z5AUjNMT9vuuy69Arcn3/Th7p1BuywyTetUnrkHFXpJfXi1zEx+VDriL5ns+VT8NRr7Ay5jPBt900vbHtlc9ddjXli2Xx6/3CQj82nnzSQ72C0efExjAuHyhSvifY1RLxlZ6mjLnwVfl/RrvK+f8eCpynKx1CevzTOsiGCXOjYNsWjPo5Q6eLEjfE8Ws/pJw88lwJqm23MYzCaLRHK+yGZ7IBqTXCPVe1qXlAQfNxZX9nvaGHvxYWC/ca0pOexozLjAJtS7C0YyZuBKP/hk/9QhrQ8q2f+/96ZHFVCNrJEGSb9HzX0GliLm2q9STEi21xdxLqophXBd0/D/2KVP04qnlDhmt3v/q/F+0kreeqLG17TXWABIpn2rJbpAMu4rStl1khdECr9eJ41/o2Q6z9S5OrwOfzehwb6Wr3YELeryBxx33VnuFqeje/z4VZD2AHHBERjTLZvzYmkzBcOncKPYjHU9OnaEt0PTh+UDy9MgfT1QWKnk67+FuEOYnq/8qsgL8T3/OrTNxjGI9Bfzz8slx/nGeMKiKKyM0YDXUybvpTEJVdNH8W7g8MoKdFPC20IeMRdYnRrHlZ4u8lnDrn8/0ib7hHe+k28TuYJJ//esVv7J0rn9hR+6u1WLEoE5kZ6vhcczZob8bIzXY7NsuJap6bY5j5eSIyloom06XNsLcHHiHongD53qR4mdf24GYIgwoN9DWJvxmwzfPNn4WZc6Ac0Z5+73GMhhFy+F7pR89h8fzrxYHz9H9pE28O4JIyhpG27jBhHg3xqVZxBNrQ06+NCybCojo+C3PS5yDjFaD28HF1jCptu3NTozM7d6Rhp/j6Cvp/V4uqn61ApoyvyhhM2hhGoZqZhjzx1NbXr/5/ug31p8XxTk3DU8/NMoxDqO5//LNPwS+23H2PfxoLh6m4EYoAWxUfr27//1L+8xI/5SntlSbq2yMFOlKTMGmqeDp9050fmUqbcjtFPQkvWjHn23LBraW/Tx6nNqya7n8M77onE1Xy3UshlgvRiPNjYNazeUgTKWntc5lYsaEWze/3YOBKqAldmDgH1lfigbosPPX8WlQ32nHik0u4GWCctimi3CgQMWPzO3b3+HoDB2tRK+ri60Uc0ae2mJhmRZH4ylrbU8j6WTUafncC/ZdMbJMQ8X4J/aftYmtFXH82QFz3E2Y9gIiIaAyMSQfcQG+D+JuFWb4F5ef9OH5aVC9nTXdXBmSh2X9CVPUXzsJ0beFAp12r/AcR/zimiEoEEUVqEqbMk8+iUTlS/fWvF8VawncnRqVDYmSiUi+3aWKUGvt+BtD88sP4zvTFWPGzKtQebkPb+6F1PkXmCuyNsglqnKhGfXzHVqusUSUaW7EYR/3m18oBxT2jE4Cqv13BRe3lyG7ipignYhfmwiOPI0OUH9WdsgPqJk61VyN+ZYZoVE7EnOeKgDftOC4P/qc9aBKNxIxZt0hh81kzVkz/Dh63rsDaX9WiTcbXvjBi67jH8VQ20NPer6RnpczNzkLG99XG9azT9WiTYXBpAKfEc16K8ZRZlJmKG2Eadw++o70c0WhszzBMpU19O//pnlHKi4O5JOp98tnmrpfd/NuItbjQRCvOj4WZJbC3b0Pudz9G7S9WICvjKTz8nXuUCTj0SUGCmwjrG22o/6kV2F+FVbmLMWf6JNzzvx7G4p81oP9v2mrSdzNge0U819WiSZkkqQfN/2YX27AWWc8aYsh3rdj2fj1KngOaf7UKedY5eHySKIOmLoacHCOkbrSI90uPH6GWQ7GuBxAREUXPGHTADeBjOfOdoUNNd7P/FJoRj4wkwxmvmx/j1H4gft7j7jPsly7JM6c21F/wTHnv97i4HrPU1YkoIvGYniZTUzPaAk8H6DbQo14Z492JHoR2pj7+7nCbiOJzskF35QZuqAui6srBKmTVDSB+6XrUt32Mi5cv4/INNY85vlFbKRb+2gZ7nfZ6OHV2tJm6yiY04+5WDihumLtgIbBQw1e8r6yx8bh/Xu5+NCH3+3Kl2Ia5ahbSXhRPJz/GwM3jaHsHyJutligT0zJQgGq0dd7EgCizLsVn4PEYXYlnzhXY38hC7afxsL5WD0f/RVwW8fWGcuyOY5O2VmjikbYwA2g5JfZ/AG0tbchYmKYcdszMQN7MHtg7B4BPT6FBlMVPTQ83/YbAVNwYBWO4PabSpr6df1f+G1uft6FJzmI6cw6mP6QuUvdlhHrcz9PUlYcVzTg/Niaml6C+9yJuXL6Ij080Ye9Pc/GdvzZg7bw8sV/aSsF8ezpy3ziE83+/gcsDp3CoYRuKngPsv8pDRqVxxuKJyMheL9KwHdUtPbj5fhO2nQas/8/mV1ce91guttnPw/U/l3G+5xDq3yiCVXyuKjcDm94PrWCIdL/U+CGENOvqaJQJRERE0TH6HXCXetAmb9+Y7elQ06m3JGRh1mPq/4pPxPriKWum7xn2K7hsPLtHRDGjXPUinmtXboJ9uD64zxrwepm8/duK3JBuGwEGDtejWTxnJerrT0S80kALtRo9BbOWi6fDzWgLUKnvaZe3bMXjqalaZd6k/tPV4q8NVf+2SezTdMRPnIiJMexr0F0Sx0XeGrTphE+DVHvcaJMNqVrUH47+lR5TEuXtOm1ofl+5ltHb6eNQjugscSzUJUFdEg0v7/AdRvwUPDVTPDe34cSI7bvgYW408bvq794IqRFnNA6Pz7KJ3xDbc/AEai+VwDpPC/jvzhENWaDqsB09vWLvXkwL4WRPPOIXiiexHbFrIPaj503xtLwKuytzkfFYPCaK+BpudJ2SlCG2ul7Zf/vvMgxpehbm2OLRtl/Ekf4TwEIr0iLubAqS7k3FjVFgdnu+G48M+fx15CFvKm2K7Xxcvjh4fOQ7BmLpb/2oLStR8gHbz9RyRFL3pRlN7ZHkYWHG+Z4B9Upto5DziNik5XET4zF9tg0Fb9Tj1FtFYokdbT0mjs3d4zDxoVmw5pRgt/0QdottvFR3Qhwhj3HPZmGtiLs927eh4M3NuIQCFCwNkjd/eyKmzBTl+U9349DB3SIeX0LtSeM3jizofgVJG5Meke+MfNJPFWY9IOR4MBr5NxER3SlGvwNOOWMOFKX6dqgNoL9dVBN9rowb6JWVxwzMMiycPlMW4m3YtPJ1NH9iGK/pb1cwcLIBVf+yefhOAiIyT6S5bT8VlddLVVicmoUq0QB0jzNzU46/U4WshXloEPXqtMpNyAtwRdBATw8G9E7zr29i4HevI+9f7KJuux62hXr6Hod7/kk+16J+fyiND89Z/RUvvg7751pu8PUV9DSuQtHPRJ4yey2sKepis8Z9WzYXj+NQe79nf/92Sdnfbf+p/T+iS2h4Xr19NKsxlH0awKF3RHN1ptju2doiH+PkVVgiOJrfOeTfgIjQxIU2rBffbf+XPLz+u0vu/PXK6QasemWtyI/TsPY5/y6nUydO+Ifvq2I/vMJ3OLNg+39W4PTrsD0v8m9jvi7il8zXN+dWaR0JxjBfhYbTnsz+5qV+5cqPqi71/3H/pN5YWNvQjEsBG1bDi58+R2xVA7ZVNuHSKxl4yt2qF43G5TbgnbVY+w5gm/V4CJ1c9+AeeQha6tHcFavCaRzGyY6hE4dw4hNPz5B6TLaJFGXSY7OQJeJuU+U2NItG+FOGNJ22cBXiD2/G2jfavK5OD1+wdG8mbowGk9sz7h4RY0VabWxGSH0JQZhLm7OQsVKsfHotisrs0IfxuvlXGR+K8Lq8Is3Xyc1KPnXXXZtxQlsUrptX5LhcolwQ6WPFO5cQ/2I9tuWI7dHo+9Kca8OqOkPeIShx9tersLZlpPzSbJyfginZ4qllNxre1wJD5lXvq+WX7CQcWfTS8olfZWFzY5v3GGsiDh3vOiVexOPxyZ7jFdDnzVj7L9VoPj0A4xBrNz/pwXF5y++8Keq4pm5a3L3UgAYZ/q/YkPFd9R3dpf1rseLXIq5+ZojX4hj1dx7Hx+LlnIcM3zhMfAl5v4Kkjfi0xZDjh9auLEKtnsfLsDpZi7Vlu9X/3czWA8zGg9HIv4mI6I7hCiIWs6CqM4R5T+mv0GZzMs6u557ZKH6TYfpw6ZRr97Ny6nQ561GAh9eMbEQUFX8/76rPnxI4zWmPtP97yC/t6bMIBn6kuTad8J5LUJ/9zGs9bUaywLNa3nAd35jmvb7+iM/w+f5gs5kFeO9CkytXzkRq/E7lMcU15RH5HMosqPrykWcKVJzb6xJNJMNMk4HccDlek3mgZ9a3wMdGFey9QG6c2ORKU/bT9xHvyqg87jX7o9nwlQJvz3lXU9D4ZTyuQcJcPNzfq88k6/V+qDM/ivigfbbogM+MgFoYBSzLhpnZT52F0LgdnnWiFXYXf5vrn3bk4xERX+WzqVn8PPF21nafuGg4rp6ZUnUjzRgY+P1g6d5c3BhOsJk/tW0KNCuiFp7hx1VtNlKv9/V8I9g2BX7PTNocNv+KF/FBWe7zu9q+Bt6eYbg/M/xjSv5e18d+M7Gq+5IRaPu0hycNacciQJwyG+flLJ+B1p/ybIYyi6xXHND2zUxaHp5/vNdnhg30iH8xwEzdvvQZOwM+Aue9ns/4zIiqCZqfzxbxwhiOw8SX0PcrWNq44TpVGTiPnyLCVj57H3Mz9QCT8UAIL8yJiIi8jcEsqFfQ3yNvKE3zHzNHGczadzBnbWajF9O8ZkWVZ/GK3uuB49+KYJutn3uPx/RnC1Dy1iF83FAQhTPyROTl7inIfes8LrbtRUl+BqaL2qsifjoy8jeh/sRFHP8367Bpr2B7PTblp2nvT0Ga+ExTfxvWz/a+fmjcs6+jraEE1kTtBx5Jgy1enn4ezjik/dyOj5s3oUDPD8Q2WV/ZDUePw+/7Tfm+DbVyQOql+m1d2vdePI/6/6OsEXUD7zfALvK4vIX+V5l5jEPGslXKGf+GQLejRWjc7PWw9zYZwkvkr0uLsLtN5LuvpYlf9xWPkv/wWT9HhG+v3cTxnwLbW6dw3r4bRdn694hvSsxAwU/34lB/kSg5dDLM29R19bDRt9H+MYr0Kx3GZeB1Y/jJeJcdr1x1MbLp6m1NKEBGms8nHsmATd6SZGL8tyn59Tj+RgHStPXlfk2P8v3M8dm1XmknPtGKon9z4GJ/vdgLs8TxVMZ+FHHxWZ+4OG4OMuQYeVEc/y14ujcTN0aDme2ZgoL/PI5txrTx7HRMDHNmUlNpU+Rf9SIPdP+2IV/cpEysEytyH/VjcRnn3yrA9AD7K/fF0XMc9RtFGtPDXWxpWnYRtjUcR/VyfdnwzMb5iUu3ea0/ZXYBNjV/jFNiG/VwHEm00nLaKx/j0FslKJDDG2jLpsy2ie0/jv7/zB15e0T4Vp+ox7ZXbO5t0cvjQGWr4vtpsC4Vz76TL2jil1fjuBxHzjdeb2zCx4fXIy2EeBv6fgVLG+Mw6zVRrgcKq7pAIWuuHmA2HoxG/k1ERHeGu2RPnPbaT3d3N5KTk7X/iIjMu9SYhUm5zcp4ZuuHuaWS7iwD72Th4f/DOEFENKpOV+GpWWsx6a3zOJQfqKuJiIiIYkX2r43BLKhERHTH+msbGvbIUXZy3TMiEhFRrN1E22+3oWekyReIiIgoZtgBR0REsfV5A7KUwbrF43uZeP0kEP9KHjL0+5OIiCi2/mpHwy8vIf61XFh9Jl8gIiKi0cEOOCIiiq27J2KKcVyenzYp4wWGNhYbERFFauBgLWoxC2ufzwgwjicRERGNBo4BR0REREREREREFCMcA46IiIiIiIiIiCjG2AFHREREREREREQUQ+yAIyIiIiIiIiIiiiF2wBEREREREREREcUQO+CIiIiIiIiIiIhiiB1wREREREREREREMcQOOCIiIiIiIiIiohhiBxwREREREREREVEMsQOOiIiIiIiIiIgohtgBR0REREREREREFEPsgCMiIiIiIiIiIoohdsARERERERERERHF0F0uQXvt5/z589orIiIiIiIiIiIiCkfQDrju7m48OPkH2n9ERERERERERERkxn9d+DNvQSUiIiIiIiIiIooldsARERERERERERHFEDvgiIiIiIiIiIiIYogdcERERERERERERDHEDjgiIiIiIiIiIqIYYgccERERERERERFRDLEDjoiIiIiIiIiIKIbYAUdERERERERERBRD7IAjIiIiIiIiIiKKIXbAERERERERERERxRA74IiIiIiIiIiIiGKIHXBEREREREREREQxxA44IiIiIiIiIiKiGGIHHBERERERERERUQyxA46IiIiIiIiIiCiGxrwDznmsFmUvzsWT938Pk+5/As9UtmPo6hGUif+f3NWrrRVDp3cov1323lVtARFROJxo/onMx3agS1tCAXTvEMfoeyhocWoL6FYwdK4JFcayuPSIiNHfPFHdT8blb7xrH+xBiTVZCedJ9ydj6V5RLx3FcHe25Cu/tatbWzAqIijLLjShKEl81io+e11bdju43oldticwKakQzRe0Zbec0ahjXEVX9WosnS1/RzxmW1F3Wn3ntikjvmhCgdzG7Z3agtANibS9VHz2yVVNGNSWxYaIb3Ibf9IU42M4CPtqmX9ZRR4ypC273QwfJ2NlbPLdscY2zGga0w64wZZCLLStQ917Z7UMyIn7E36AuIFeHBL/2WZOU5bG0mBfu/jVJUiZPkFbQkTBOI/Vo2K1Dc/ISrYsDJPmInv1DjR3R6MaEbwA0AvFO6vBO4iG57Vj/Xx9WJXCru3a530foiJTUFqLjjvpcN7RtEq/b/r6ohWv2gpRYyiLz31l8qSU1ikRTqMn+qK3n3dcRXwMOxXDPdaxKheGTu9A3rJyNHTrue4guq7d1F6TP1FWlRaiGQXYt28NUu71hE1oj3w0f6F91Wi7NxXFe3chH00o2hjrzpdb1RD6duVg6cZ6dA1oiwY6ce0f4jkaZcSt7no7trxUia7kCtTvzkKCtljuq1ovDfa4VTstEmDd+TbKkzux5WdVUe0UD1ivlO2B51ejovGIiB/aihEJEidH2a1VPt3OcZKkseuA++oIajY0wZm8Bvt6PsfFL/+iPPa/kODuFEuaGqetHCtXca63HUhMxbTJ2iIiCuzrQTSvTsaTttWoaWzHOb0scZ5FR2MliqxPYOn6I3doxTWG+lpRdxSwWCzA0VrY+7Tl0SAqMva31yE7sxD2sWr40JgbbHsLzc4kFL7zET7TyuKLv8mCiHHfKHfKflI0DKHzgGiMi7popeNTdx314qup2vvky9lSjhKHBYW7K5B5n7bwdnLfApTvXgnLgQ2ouRPvihn6I5oqO4FlW3C4X4vv4lGcfCfknUPo+vdy1DgXoKp6JRK1pd8MItyqdyKzbwcq9sX4zjLZHjhaj5rVOXhmejJKGs+KIxuBIHGS6HY2Zh1w17qOoM5pQfH6EmQ+YOxoM3SKPaAtipmz6LOLp/lJmKouIKKAhtBR+RyKGgeBKUtQ3tyNz/5LKwwHP8UfGipgnQJ07c1B0fbOyArcICzL65TfrF1+5zSZ+46+iz7k4ZdvlyETvWg6Gm4FagmqezwVGPn4rL8NVdniWDqb0HSMXafffKkoVsJ+DVK0JZLTKcpcLMXiRRaEfdoreY0ar26JDooY7ifdcmJTLlyFU96KuGwJFifyDokRDXWicXerOF4b8cp8T+rSw8b4+LBmifLeOrv38otf1sEW83p/cHHzi1C+zIm6rfWi3L3D/LdTOYFqtS5Fok8H6jc+7/yiFW9u7UVi6avIEnXZwMpw0Cu+Gh/eZc0tZ8qPsbo0CV0bamGPypVpOp965X99jj912VFdugQJ8orY1cvxaksEdcsgcfJ2Edt2y20cJ+9wY9ABdxWO0u/h0RdrxWsndtm+r10q+QR2Kfd0n0Xn2+LJq1OsF7vk7W4b2/0b9kPtqJCf3+p924uzuwm7DLfJPW3NR1l1K84ZT2oNnFVuvbIm/QBDn7SK9a14Wn5X0ly8sJFX8hC59dWiolokFstK7Pt9HQrnJiDubu29uAmYmrkStftrYBPlS9fW7WjSLxUXjJdte435ONuKkupOXNPWU28bewJFB+TrSmUcDvel1NptbcNfAn4V5+w7PGP1yDQc8NZKw7gbXzvRYRhX4uncdWg47X/We/DAOhQ8r+UNyuMJPGNbjV32CM/shaQXHc29QM4CpCfPgzVTBEVze9QaBnH3JSEr+8fKa/uFL5Vno2vGfFHu94vrUHdsmMvo5fHcuw4vzH9CPU4yfLf75LkjEZX8utIcd7795PwcVLScNcQR1bXuPSh53nAbtHgoefxeY3xSGePMtU8MY9iIOFK0XeTzX2srRkg9Vp5tenK+Tex/E7q+8MSS0NOCwdWzsG/3Hv+kpLpdxF/tfSNt3WxjGGysh2NADwTfcWfU2xiWbpWvjWkuH80f1OMF8XphdeAO36Fjlcq2l9i17w5466L59CY5jxnG3RL7UCD2oWFjhrpdIV2paWI/g3yfvMXmycJW5fUWq/4Z+Qhwa4eIuzXutJIs8h/RgB8m7vuNfftiOZo/MZNQhFDTmxYugW6b8c1Plf+tlcpre6H2vcpDP06e4zroFS+1fTjnkyOa+G1Tx9qH73fpQkmTgcn91MqiA4VaOI2wLSb2VWd2+0LOv8zkGbLsbCl3xyN1G95Fr8noeO1oE7b0WVD80pIIrooyptur6JLxW9sHNV/R3g90m3uwcb9CLFdUFix+aQ0sfdVoPWayhPf5naetaj0hWJk0dE7EgUI9LzBxy5ie/vX8VPxWzQc+gWYmTsp1ZxVCXpPglfa3vxdS3hlanjZS+GrMhJeI680b9XW1utnBM8OE7fD6DlaLfV+A/OWpEXQwDsJemo9s95iR4iFvyVy9A3bfvHE4WrgWGMed/ImodznE/vumX1PxOg4pywuQCVGW/j6Grdu74zB+cipsr9bhDx07RZtAlL2FpWgwtAlUPnV2uZ+r93jX2YeNk2oaN18PDFzeq7fSRrEu4CP65ZM5EbdhzMRJU2XPnW0MOuAGcS5gbF2KRHnWYeAsZBy1zXzUkwleOIszIlFap//AP2M8Jxqo4skm3lMNoWuXDQuthdhiuE1usLsVdRvzseU9T8bj7G1XPut8ZzXmzRfvNXaqnW7Os3BU56BMXu1DROg7Jq/CAnK3vorM4S4GmJyF0rIF4sURtAS4murIz6140jjm40CnaFRbkRfxFXMizW8XlZD8Ss9YPTINK7dW2kShF+Dbz9ejKP0JZBvGlRh01KLkR6v9CmHnp7WwH9XyBoUT547VY0v+XPz432N8OX/3EbwpDny+dR7GIwELspeIwKiGI0CFOlxD19VKcn6i95ibcjDiPGO+KPf7PVHJtj2L7F2+YSZvTxbL19fC8YmW6crw3ZqPZ8QxtYcwqLX8PRleZW8fcefbzk+OoEY0TnzjyM1B8d1HDbdBC0oev96KeaVHAlZAj2y2iXzeMIaNiCPNW3NQ8G+RX7HpOVaebXJ+0i72vxBLy1vV3zMIOS1caBVxci4KtnqPf9KwUZRxq33GKTKs22EMg+rVeKEyjMGyJ2sdvjUH0eF3gK7CsX+H+M6VWD5shmAQcnrTym+bYdwtsQ92sQ8lw3QE3goG3ynE00k2VLjTyqDIf1Zj4Vq9A1Cn758h7MXfc+/tQZFoPIU+SHbk6S0i52tFeBrjpbYPtuJbZgB7s2lytJnOM0LNv8zkGTIerZqDZwr3uOORug3lqDmq/BuiIZw5WQtYVmDB3ChcH3X1MLba5mCpjN/6PoTJTLmii0uZhxyLE7scfwz4fkBy8gmf3xnsVusJC1e3+hx31RnR9ngmXcSBFj0vCNVhVCwT+anh+MjfqlhmJg+JljDytCDhayq85DEX+VBRtb6uVjfbsEdp24VuEGcconxZ9mMsGPbqt1B8iXNvt6LDPWakIG/JbKxEQfpy1Ix45tSTr9uN404eEPWu3Lmo+1BbJIQTrzFFLdMdLe0B42O0xU3NQ2mp2iaosxvLbzkxRIZ3nV3uZ2O52KfQJ0EJpx54qxjN8imyNkzocdJc2UNj0AGXhEJ7Mwrly6Jmz1gCX25RGvZqp1gSkh72nEO71i8q4LBgxlTPkJg65/kz6DOu/8k+VFS2w/JSDQ73e8aW+6z3GPZtWIIZCZ7vGOxvUp9Fw3a14Za6D3aql8c7Tg93JoHoTuLE2S6ZSS/B3KTgje2EpHnK2Bkdvf5pp+ur+1HecAx/GtTSZE+jMo6D54o5edvYR6heJl/7XFYd5La2oWNVIsPvhGWuYTzJ//oUh2sKkOJsx5af1/pfMdYnKiBJFdjXoY3tI9ffKtN9K9486F0gpbxq2A7l8Tn+5JBn9sS27z4S+hlr04bQ8fu94ugXIPNp9bhbnl4Cq1jy1u8DXA0chmt9Tdiyux6W7BoULjKE7VA7dsjBiC3zUNzgGfPlT44a5Cc70VFZjjrDQR1sLEXRficScnZ6xukY/Aj7yxbAMlCP18RxCpqXDvWi5ueV6JhcgGrHp55y4Xw39hWnijhS6vV7gW5r+qxLjU/Ot+txJNBZznOAbacdHxriX6GIrH1bm9Bh8moPb04cqpHHqgC1XZ4yR2774botyJ3k3yAdOS1ITtjFfjdcX4B1Prd8H67KAvYXYpd+9ZlYt3ljPhoGLMgsa3bvo1z3A/tOFE4erlFsge03f8HBUvnamObkrWAJWPJCnvjqHWhx+ByggVY0NIpPFy9Aaijt7VDTm7zSVpTfzmQ1HqjbIsPWjnIlXwhXsP1UVghIpv3At8t539rRd+zPSNzQiD/ocb+/DZVyew9Uo9kQb4dO71H2L2GFT/1EibtykOwAeVUAEae3YSjpyl6mvLbWfOTePr/j1PdnjFu+Ewf1+C7DU8RJi7MJFe+ElzeFeqxDYz5NejOURctq8GFE2xJIGHlGSPmXmTxD5P/27Uo8siwqw373WMzyFrJmFM/XVgrJWXTvF0/ZKaI2HgVHxT79c5EnvxCPsG7fMlmuuMXNQKpVPB/thTjsIdAmn3AmIHdnG/6kHffPepqxbpFFSa+BxpSzOwZhNYRp6PFLpL/pW5Tjo+7T5/iwQX5W5CFV74bX0JVDCPTUiPqFT9p/dVHQvDOsPG248DUVXldhr5LHPECZ99s1SNfWConzDI4dBdLnp0Zw9aakD31geGhpzyLC5s33AlydadQt8k+RHjM32t11AyU9djQrt3S6c4Vw47Vo686YL1KojNf+0TEmEjJ+rMSpvq6z7njpPFCJ1xpvKuH2wXnDfsp6tZwEpapVLb+GjZNqeyCcemC4bq3yyZyI2jChxkmTZQ+N1Rhw2lVrga5oUzvFFiDFMALmYP9B8Ve7Qs6Hur5o9Gv3qzr7O5TIlLpoCRLv83x7nGUaMovqUPy0tgC96HpPPInK1cHmncg33FKXMF82coX7JmC8soToTvYlnOflcwLkPABB3Xe/WEv46ip854pbV12HwsxpGK8ly7gHFmBN6Urx6ggcXeGeG7mKjgPySpwFKK0q84wnefcEJC7fgl9uEJWN7mo4fKcst9Zg/29WInOq1umkrJ+HfPGy7/yXIzRe4zA+UawrVxYVt8EoFvJehv6IjkYnULQY6XrfmDhmWTniZxvb0Wm6lduKoln6Jejq49HMQtRdK0D5qgVquGmuHT2EXeKnM8t2Yl2mZ8yX8YlZqHyjAomyMinPGCt6Yd97RNSG1qBqa55nnI44C9KLa/BLub1vvxt0ptWhk+9iS/c8VO7aAlviBE+5cG8CMkteQ6H4Dcfp4HEkbvICvPwTtVPnwkV1mVHx3maU54gKtiH+ZT0vm4t/xLmIrtrR0oclAQnGji6x7YnWAlRt9L8lK6S0MHAYdaLik7/zbRT73PKd+EIZSkUDuaHrjNrZIdZtPCA2oagGtcXz3Pso101IzkP5hvBuCxufmYVi8cGGfd5XcPTZa+EQTe1Xls3zK8MDCim9DYm0XC3KbzkIthoPdHGTU5EyXfvnFmTd3YLaogWYqsd95dbuAvGiV+QPeqVTG9R//hZs35zlXT8RcVcJ/74jOONzRYi/yNNbxJZtRPXGPKTo8V2GpxYnnbvaxRaONfNpcnSZ376Q8i8zeYZI0a376sU2rER1zRqku8dilreQPYpphvMxI3L+GWdFfAt4l0o4rDu984swhV+uTMDUpHkiPQ7iy1DajHKiJIc4lMU7UZmThPHacY97YB6Kd21Frqih1B2Qk8t5K67xDtPQrRD1nQLl+KgfjYMlswSlReKlQzSoR+0q1DDztGHC11R46SeBApV5Ux8113b74pzSJk0OcJGHN5+hUdyPILchKmmvAC+Ll87+Qb84YHTtv0W+IJ7vn+ypG8iwHT91nnJLZ2GyuiSS+tLUx0S8jrjOY8IDCZghn+36vg/iyL4mOFfsUsIt4V5loaDWq0tLxfY1duJMmGeYR6oH3hqiWT6FESe1Yx1KGybUOGmu7CFpTDrg1KvWAl3RpnWKvfRDeG6GGsTZ0yL45ZhwfmWxeE/eipWdimlaxJhgmapE3LrVOSjZ24quc04MBbr3+Iuz6OxTz3j4Zblffak0NqzT9Ntaie5sQ8FqDRGImzpD6ewONP5YaAa1iVSWID1AB33i7KXir1NUAH12QBQO47SXbhMm4H75HKDz8Nq5I2ioLlfGm8i2qeOcqGOixM7QySPY5bSgOPOHngqWaBikL1KvSnKcjFJRdq4WRfMfwdOG22TUkx7zYJ0doEKamApZvXH26bdC/Rm98mxr9rwAV0NNQIoIG6ApaIXv3CdygOd2lKUHqEgk2FAj3u1weseRoS860by3EmU/EWGijW+hj9ERyD16hcDAYpF5fC+GIjqUSUh/PlU0NMqRZ1uNLY2t6BANt2smv9M3LVzTTlTV5erjpBofySiRt4hdkCPpeNa1zTfGlSiIm4clhaKR76j1zL471I7Wml4gswDWUKeKCym9nUWfQ5b1gdPyLe1uv73D+H9W9g5fXtcjgtg/GWZH1+EZv/D8Hh56fo94sx1/GWmA7Cikt9hIwLTZ8vlc7E5KhCw6aTJ2zG9fKPmXmTxDjtXT5xDP2QuQ6m4Eh+nrISUNJ1jUOB8xkZ78U5R54ZQrunH3ygbHl7h6Xf0/GLVNI/LfuQHy3/t+iLnySsr9Il2oS9zuicZOusVhWpLW8RCj+pq/MPO0YcLXTHjJuC6jb1TKvH+IMBT1nYRo9Mp/fRXnHPWo2bha1EtE3UQZW9GKLdrbwYxPWYB8sQ0N+Rko2FiLZkcnzjn9M4VI4nXctyeKv5HWeSIg8x0ZZ/bm4CHfbRePp0vkvg3C+d/K2iMyWw+8NYx++RRuGybUOGmq7CHFmHTAqVetBbiiTe8US5rmOXsxJCqbsoGdPM2/o0xLyIlJP3D3FsfNLcG7NSuReW87GtbnY2n6E3jowSeQvUFUSA0F6dC5M8rAjoHOeOi3taZOjUZuTHS7ux+TlYaVKBRHqthpndfy6tGo1i2HJar9cpsmRKfC7k+OVZGMR9NzULJxjzLeRMcxs+O1hOMqHC2y8mqcqEZ9PJpfr6xR03LY5G1m/rOgysdnXfptMvnucS9v/kM5qBgXSs1Wa3zh2+PCrgjfvG7mmhl1zJkfzrKiaP0O5cqCDq/xLUZf4r824uCGLEw4V49dq/ORnSniTMITythKXWHOOHbzeuAKdCD6uhO/HXFTxE/i/B8jUVTY3xTHWVa7rjmalKsjc1+Qs5xF000MyVZszNLyWNP2L1JRSG93glikyWga6zwD169CWTsa8WhIxG3xFIv8JxLmypUI/ENtkN5q+x97UcrTNGbCK5pl3tDNK+JvKPWd4Wac1G5DlGNgpT+CZ3JXo6K6XtRLRN1EH6MzFPctQHlzDQozAXv1OhTlWvFMkqj/zVYnV9C7PUYtXkfDF4M4I5+tCWo7Xc93Inbr1QPNiF7+P0KcjLQNE3KcjE6o3knGZBIG5aq1AFe0qZ1iFqRPN1Tr9TP77kkWDD7txSHxlP6YcfDwOExdXoF9J0XDsvcYDtbtROGycej490L8eJdnbBL1DEIBUh9T//cYwtnT3re1Et3ZLJiWIm91acWxEaZGG+xtV84Ee3WiB/MP9cnyrXCb3OJzslS/elNtlEbZtff2oKBxEJZFa1DdfAwfnv3UPQ6COiZKjHzVDkej9no4jUfQEYWGZNzkeSjeWKaMmeI4dkYpmMd9SzmouKlnmMHcHad2mPxNbYSFQ/29wB2E7oc+DmBfLV5TxgnLQ2VdGz6QYaKNI6KP0TH6JiClqAZ/6P0cf9LLneUTcbWlHEtX1YdWKfRNC99SWwPe4434PH4jx5bxrHvlb+GGQBCJS5AvKl/OXU1wfKXftrYmtMkXwvG1bNZ9E2l5ldeYYv4POX5NUFFIbzHzd/lHbF+Aq7VGXxTSZEzFYPvM5Bl6PFLCLEJxaideTPKfCJgqVyIRy/zXhJvK3T5in7+l/DsKopSnaUyFl3bMb0RhdsW4cfKqsBDrO8O6CsdubRzW4hrs7/gIfxJ1E3V8NjvWaWuNJG5qFsobunHx/Kf4QFQCqzfImUvl5ArLsUOblXfU4nUUOD9oVS52SZytXUSj5zul9sDbrTyCj82quCXrgWaMTvkUjTZMKHHSVNlDitHvgNMGuwx0RZvaKbYUiY+o/0v6pd3THvQPtnM9ckyFJUh6WA14X3LctxRrHsp3blXGmnF+cVW7/HEQZ0/2DnNbq3Z5rOG2VqI7XeJceRUM0FC6Hb7jsbtdaMLWyiPixQIsnxvatTGDR99VCufF7k73CbBMls83lP9GJsdMEE9HW9ERYOykvpPyVkoLZkwJL9s/Kwp5WdEpryyDbe40WCZMMIyDEDvOo01oENs9XGH2WfMa8W49mo6aOLsazPWrkOeAca969VHCdHnrbjvsAWazRV8n5AX+lkRxPOT/lh8gSUaO/UfQ6Xe7zlV0ibABsjBVCdfA1N9rxaEPRt4f57lOpUwoLt+JfGsSEmSYRHoLVdTEYbxe7tS0YfsKscjRjr4Qgsk3LVgenqGkudajw8xoZqCv23zUxKx9IdMmYxDxrWFDpTLWUWLhUqRHPR38AFOzxZNdHK9b4Aol3YT71PCIvKGn5VUHRF4VyS2aYaa3M+f907LaYPdxn0UdwPxrk92g19txaJ94TpzhdytXqL8dvWNtFH6aDEfIx9ktettnJs+Q8WiaDKf31Pw0IlqjevCrUbrBqHfQv4GqncAwMlOu+LqpzA5+PyaEULYEzX+/+iOOHRDP2VP92jzR5UTXezLt+99dZD5OhipKeZrGTHhZEh5V6h8OZYKwCH1LfF+gW2VNEW3Ht8WTdSMqy7KQPtWC8aJuEnYxee8EJCQugK1oC/a9s0XkyU40dp1V3ookXg/9Tdb0khA3CvXYoXP1qNgg4+QSvLJUnsQX9PLrUAe6IqishFcPbMXZQEMzhHgS4nYsn6LahgkSJ02VPaQY/Q64gTNoFk/5s4xXrUnDdIppl3a3HmnHNS3Sy3uZa36SjGfWt4tQn4FpWkVzsGUdSvbKKZkNwX/dib6Wd5Ur5TLnzlAbjFfPoku0dCx6j7yRfhvsbG1dIhKNqgKUF4kU4dyDF36Uj5pjg56xFYfkmBd7UJAtZ6QCUsrKkBVowpTeXgzqDcavhzDoqERRiTqYuHW+nuhFRf7b8rkezQdCKYEmIH2Z7Iw6gpKiSji+0NL+11dFul+H1zaKPCW5CJkz1cVmjbtXHeTacfKsZ39FniL3983fav+PyInmn6i3jxa0hLJPgziyX1RaEsV2D3PmOC5lHnJEcNj3H47sTJkIB2dfE8p+Vq5UZqwi35NXLo6fv1gZfN9RUogtDqe7QJWzpqrrpuKVTK1CJSpz1hULlLhRVFrv6TwZcqJjVyFekwMlv/RjpAfJUPXfsxe+hLLGTk88EYacZ+HYuw4VdvXYjbtXHWfo2DFRJugbJuLgYHc93nznj9qCyPT9e4YSXgurQ6ncd4ryaAea5WX9xu0WDa++HvHCIhoKPvseUlrQrjzr2/oSCnaJcu0rT7k2dHUQXS07UKRPIa9fpVZdKNZth7sI1I5LxcbIprXXJ2Nw7G8SYZ+ELDmTWtRZkDhXxCOR9t+sasWgvg/Xxb42lmNrnfb/KFPHzAEam8UxjKjiredVrShasQ4N3YY8VKZDUa+pKy2HfcSGrMn0NilBHVuwrgnuK2bFMe2ozkf2Ktk48hE3TskD7C2t6BuuP+Xqn9B77qo7Xxj6qleZBbJGRLLMFUuUirjC5G9H71ibT5MRM7WvMdo+M3mGiEdz5eA+feV4rfKIO88Y+krkt9Wl2Co7jUKldebZe/8U48bXDzBZjqdmr0XLMS1yyvzzmFr/kCcwjMyUK97Ed54X7YvEBNwfyoW+hvz31X297rbK0Bft2FVcqpxMy182L4ptijPoMuYfIp45thaiQk7EU2yYtMls2jctWnmaylR4zUzHyzL6biw11FGG1PZheaVfXAjqganKSYeO/khqU+MQJzO+rsPoOmdId3K7q/eIODAy54FyZezyvguevFUex3OnOyG7OVIS1LpP+PEa+PKCTP8/9DtB07VdG+Zk+wgztY5EbO818Rt2EceeSV+tzFJrq6kwXNGmlV99lShYsQMOQzmi1leasKtwz4gnBczWAy0Japu+8Z0md91CllvNG2wo2K7+P5LbsXyKtA0Tapw0V/aQNOodcIPn5Lwc8vZOn1JN7xSbO8OrU8wyNVWpzPVtt+HRB7UxkNJzUHHyplqYyZ5v+SyixmBvLRrW56j3J8uMRD4efgILS5qA7BpU5mjfPKDeuro40bcTUHxLoNtgie54cUgv+x2qZRoaaEWFLRkPaelxUoIc80JUsgZEZryiEdXFSQHP+jWUZuDph7XPPPh9PJ0rZ+lJxbq3S7yupkl6WlbonKj7iRy8Vls/SKVAjvtYW5oKdO/AC7O0tP/gI1hYWIsuyzys+0WBp0FoUuLSV2GzONG8aq5nf0We8kxugKn1o2WgHXZ5lZFN5JPaIj9xP0S67IFztAa88i8w/1lQZTg8KWdC7QYScupQvlwr9ePmYc3bZUgRFYVduU+4B8tVZk3tFvljWQXyDRuXkLMV1dki1PavxsLp2ncnPIFs2bCbkodfrloQ/JZk7ffSLZ2oW231xBPxeChpLl5YX+uuNI2fn4d1yaLCuFWUCQn6bz2Cp62i0h2Vwd8HcUaZ4XWBcmY1FEMHKlEkB7Y1bvd0G7aIY2XbmOU3TX1oaSEBuVvrkDvFCUelKNeme8q1h6YlY2lhJZqv61cpyXVrlLjqqLThSa/jsho1FzyVobCI8FkgG+uSmckXTEqwlalhuzcfT+v78LDY19XvKpW9MZGYojR2nG/n40k9Dwg6w9jwlLyqTDTEu2tRYjXkoTIdinpN2duDId1+ayq9PbAAuS+JHeiuRLa+rjim2RvPIGFugPj9QCoyRUUajnIsnKatf38+mo1p66jIa9MfcecLD03PQMl+JyzGepZk9rejeKzNpsmImdzX2GyfmTxDlNf/e6vIM0R625XjzjMemi7y25ozovKtrRSSaUiWV6/u70Jsm1gWLMguEH87scX2iLpvMv+0laPvgQDlpYlyxYucgXy/eJYXBKhLRuDJf5tLMtxtlYdmifB8z6mk18JFofTkhUrUwYz5h4hnL2yXt+OVKTNLuosQs+kvDNHK0xSmwisVOZvlLW3GOsr3lfbhmyISmoq+lhmYOx/KGGLhn6hKgq1YbI+zCUXphnQnt/sdZRS0kf1jUBm7fGGKJ2+Vx/GZVU1K2L6ySNurcOO1qNt02NuHufsrXD71SrG9j6bIAfvlpF4iXexswfbl3u1pmR5qRTnhfK/SqxxR6yuF2NKijXMahOl6YPICvCLWd+4vdNctZLlV1CJyL7E8JLdh+RRxGybUOGmy7KFR74C7inO98jbTFEzzvUJG6xSzzfTpFEsswB45qYK2vuWxecgtrcMfGmXj0DjWVBzSC+2oLs1D+mOeCJGyrADldcfQvjtL/Kca7FNvXU2Z7p8DBboNloiEuxNg29mND5t3ojBnHtxzlFimIT2nDNX2j3Bw8wJ3OvOVu7EG63L0WYdF2hSfqe1oQXGyd3edeyIVPR1PSYXVEqy2EIeUVxvxh7oy5CZrvy62KfOlLdjvaPb7flMeWILtcgDSRfrtltr39naj+nlljagbPNYEx4hXGYn87kcrxDYdQUug20RDJcNO5JGVDd04vNN7UP245DWoP1pnCDMLpi4S6za/j/3FqT6drDJuiOWbC7zCTcmrf78T1iC3n+rk7+13DJOH19jxS6u2LC4JxfvsKPeNS0ePY3/pD5UlEfmiEw45DEFOHpYEuJLTXyryOxpRVeS/3ZUHjqPap/IphZoWMHkJqn7fjX3iuFr1uC3DYW4eCneKOP+SYZyXyVmoPtqmHL8UfbuVMKjBwQoz09oHlvK0vA01FpMvGMiwbTyG6qIFWv4i49xKsV/HUSvHkQjxlrCoko0dYx6ghK0F4bVfRF5V3IzDdhn+hjxU5nEvVYg8dCsWjzT2jcJMepuAzA0thmOqp5c2VL0YaKZ3UZHebUxfMr5N9T7u89egyvDblscWIH+z3auepTL521E71ubTZOTM7GsMt89MniHKt2pRRrrD2l1utqBUmXgpVHGYMbtAtEz34og+JlCMjF9U4VU/SEgWDXFRxz+8K0/dBx8hlysGQ13taPSbgXwEMv8Vx7LyJT38DdvmU7ZGzLISVT71HZvSLlqDFK/80WzaD0e08jSVmfCyLKvB4eYK93FQ8yGxLfvV9mHoEjBDXtF/4F0cCfmEpj/Lsl1ecVPfng87apCrLAnOYt2KgzUVyF+m573yO7Q2737vsA0nXusndzOXz3N/f9TJOuV8La/p70ZVzrQAaSgB1p1t+KBhi/++Fu3Evo6XRw4/0/XAJBQa13fndc0olRfeh+J2LJ8ibMOYiZOmyh7CXS5Be+2nu7sbD06OViZNRHciZ0u+Mi24HM8s1MF4icbKtffW4dEX/yji6+8i67wN4PZNC1dhX/0IChyi0t9VFoPx30ai/X5vBQ47VoZ9RStFqhO77rdiixx0nQMqk9GQiBtWETcevt3jhhwy4gkUnWdec0f5ogkFswoxWGpH66u+Jxi/CYbQtf05LN06A7X9O2G9T1tMRKPuvy78eSxmQSUiIroVDeHMyVrlNsvlUe58u60NtKKhETGafGEEQ3I8x1/iTfn7wW7LJqKxE5eKnFVLgAMb8ObR2F4FF0tDR6tRccCC/NI85jV3kgeW4JXSJPRt3Y6mCK6Cu2UNvIudW3uRsrGAnW9EtwB2wBERESnOoHt/jG+zvA312WvhMDEmXvg8E5a4HwnaeI5TCrAuJ9a/T0ThsiyvQFWmEzWritEcaLbBW90XrXh11R44l21EdMdso1tfHFL+tQKFFjmh1w50GQbHv+0N9WJX0Wo4Eteg/AWWoUS3AnbAERERKVJR3PsXVFnZ+HIbakdrTa+JMfEiEQfL9CVId48fYhhv5PdbkMkz90S3MG0yAjSh6F9vs06M653YtSIfzchC9QbfsQzpjnDvPKx7uwwp3ZUoKG2KbIb5W8Ygmkv+N7Z0p2LdGyU+YwQS0VjhGHBEREREREREREQxwjHgiIiIiIiIiIiIYowdcERERERERERERDHEDjgiIiIiIiIiIqIYYgccERERERERERFRDLEDjoiIiIiIiIiIKIbYAUdERERERERERBRD7IAjIiIiIiIiIiKKIXbAERERERERERERxRA74IiIiIiIiIiIiGKIHXBEREREREREREQxxA44IiIiIiIiIiKiGGIHHBERERERERERUQzd5RK0137Onz+vvSIiIiIiIiIiIqJwBO2AIyIiIiIiIiIiosjwFlQiIiIiIiIiIqIYYgccERERERERERFRDLEDjoiIiIiIiIiIKGaA/w9zKt3LJxp3SQAAAABJRU5ErkJggg==)"
      ],
      "metadata": {
        "id": "aVGDhiFxxgqO"
      }
    },
    {
      "cell_type": "markdown",
      "source": [
        "### object(s)\n",
        "\n",
        "(s)  สามารถ input object ได้มากกว่า 1 ตัว"
      ],
      "metadata": {
        "id": "jaxpUZhaiP4H"
      }
    },
    {
      "cell_type": "code",
      "source": [
        "print(text1,text2, text3)"
      ],
      "metadata": {
        "colab": {
          "base_uri": "https://localhost:8080/"
        },
        "id": "BsXZG3Xk6vZK",
        "outputId": "05b728ac-f603-4e26-f617-7b70e5f72491"
      },
      "execution_count": null,
      "outputs": [
        {
          "output_type": "stream",
          "name": "stdout",
          "text": [
            "Stat ม.ขอนแก่น 123456\n"
          ]
        }
      ]
    },
    {
      "cell_type": "markdown",
      "source": [
        "### separator (sep) คือการแบ่งข้อมูลด้วยคำสั่ง ทั้งช่องว่างและ /\n",
        "\n",
        "\n",
        "```\n",
        "Default is ' '\n",
        "```\n",
        "for example\n"
      ],
      "metadata": {
        "id": "VPmUaNBN-oDq"
      }
    },
    {
      "cell_type": "code",
      "source": [
        "print(text1,text2, text3) #ถ้าไม่กำหนด set จะใช้ ' ' แบ่ง"
      ],
      "metadata": {
        "colab": {
          "base_uri": "https://localhost:8080/"
        },
        "id": "58d2OykL9uLV",
        "outputId": "f5f62f79-4d88-4031-a370-0e8fb7099fbe"
      },
      "execution_count": null,
      "outputs": [
        {
          "output_type": "stream",
          "name": "stdout",
          "text": [
            "Stat ม.ขอนแก่น 123456\n"
          ]
        }
      ]
    },
    {
      "cell_type": "code",
      "source": [
        "print(text1,text2, text3 ,sep='+')  #กำหนด sep เป็น +"
      ],
      "metadata": {
        "colab": {
          "base_uri": "https://localhost:8080/"
        },
        "id": "JKDXwhUu98g8",
        "outputId": "8f626673-fd9a-44d7-829d-32290920611f"
      },
      "execution_count": null,
      "outputs": [
        {
          "output_type": "stream",
          "name": "stdout",
          "text": [
            "Stat+ม.ขอนแก่น+123456\n"
          ]
        }
      ]
    },
    {
      "cell_type": "markdown",
      "source": [
        "### end (end)  ไว้สำหรับการขึ้นบรรทัดใหม่หรือการเพิ่มตัวอักษร\n",
        "\n",
        "\n",
        "\n",
        "```\n",
        "Default is '\\n' ## ขึ้นบรรทัดใหม่\n",
        "```\n",
        "for example\n",
        "\n",
        "\n"
      ],
      "metadata": {
        "id": "SjbKTyhO-sXc"
      }
    },
    {
      "cell_type": "code",
      "source": [
        "print('stat')\n",
        "print('KKU')"
      ],
      "metadata": {
        "colab": {
          "base_uri": "https://localhost:8080/"
        },
        "id": "kBaAmiq_-Dtl",
        "outputId": "885567b4-3d04-413b-f12a-1b719059a758"
      },
      "execution_count": null,
      "outputs": [
        {
          "output_type": "stream",
          "name": "stdout",
          "text": [
            "stat\n",
            "KKU\n"
          ]
        }
      ]
    },
    {
      "cell_type": "code",
      "source": [
        "print('stat',end='+-+')\n",
        "print('KKU')"
      ],
      "metadata": {
        "colab": {
          "base_uri": "https://localhost:8080/"
        },
        "id": "PUhgDUJC-mGu",
        "outputId": "a5829c54-8e83-45b3-96e0-3f3e92ac38ae"
      },
      "execution_count": null,
      "outputs": [
        {
          "output_type": "stream",
          "name": "stdout",
          "text": [
            "stat+-+KKU\n"
          ]
        }
      ]
    },
    {
      "cell_type": "markdown",
      "source": [
        "# Variable (ตัวแปร)\n",
        "\n",
        "ใช้สำหรับการเก็บข้อมูลไว้ในตัวแปรนั้นๆไว้"
      ],
      "metadata": {
        "id": "pnuKktZj_aYP"
      }
    },
    {
      "cell_type": "markdown",
      "source": [
        "### ข้อกำหนดในการตั้งชื่อตัวแปร\n",
        "1. ตั้งให้สื่อความหมาย\n",
        "2. ตั้งให้เป็นภาษาอังกฤษ\n",
        "3. ใช้ตัวเลขผสมกับตัวหนังสือได้ แต่ห้ามขึ้นต้นด้วยตัวเลข\n",
        "4. ห้ามมีเว้นวรรคในชื่อตัวแปร bc การเว้นวรรคมีความหมาย\n",
        "5. ตัวใหญ่ ตัวเล็กค่าไม่เท่ากัน\n",
        "\n",
        "\n",
        "## variable naming rules\n",
        "1. Try to use meaningful word\n",
        "2. Do it in English\n",
        "3. You can use number in variable name the name connot start with number\n",
        "4. there should be no space in the name\n",
        "5. variable name is case-sensitive (Abc is not equal to ABC)"
      ],
      "metadata": {
        "id": "gpFS32AkjHqx"
      }
    },
    {
      "cell_type": "code",
      "source": [
        "a = 5 #int\n",
        "print(a)"
      ],
      "metadata": {
        "colab": {
          "base_uri": "https://localhost:8080/"
        },
        "outputId": "2a6b95aa-3689-4306-8e80-1a6c59830ed6",
        "id": "yeKgjO3ojHqx"
      },
      "execution_count": null,
      "outputs": [
        {
          "output_type": "stream",
          "name": "stdout",
          "text": [
            "5\n"
          ]
        }
      ]
    },
    {
      "cell_type": "code",
      "source": [
        "b = 5.7 #float\n",
        "print(b)"
      ],
      "metadata": {
        "colab": {
          "base_uri": "https://localhost:8080/"
        },
        "outputId": "bf013d17-5aa7-42be-bb83-756f22840bd5",
        "id": "gpSG76TXjHqx"
      },
      "execution_count": null,
      "outputs": [
        {
          "output_type": "stream",
          "name": "stdout",
          "text": [
            "5.7\n"
          ]
        }
      ]
    },
    {
      "cell_type": "code",
      "source": [
        "c = a-b\n",
        "print(c)"
      ],
      "metadata": {
        "colab": {
          "base_uri": "https://localhost:8080/"
        },
        "outputId": "eb7d589c-79a5-4199-b20f-5ee215a13720",
        "id": "aZHAYeaSjHqx"
      },
      "execution_count": null,
      "outputs": [
        {
          "output_type": "stream",
          "name": "stdout",
          "text": [
            "-0.7000000000000002\n"
          ]
        }
      ]
    },
    {
      "cell_type": "markdown",
      "source": [
        "## end 19 June 2024"
      ],
      "metadata": {
        "id": "m38mfgA67qW7"
      }
    },
    {
      "cell_type": "markdown",
      "source": [
        "## char (character : ตัวอักษร)"
      ],
      "metadata": {
        "id": "DoYZ4x93_er8"
      }
    },
    {
      "cell_type": "markdown",
      "source": [
        "####  ```String + String``` mean plus char and another char ตัวอักษร + ตัวอักษรได้\n",
        "\n"
      ],
      "metadata": {
        "id": "SrLiANLPAk9U"
      }
    },
    {
      "cell_type": "code",
      "source": [
        "a = 'C'"
      ],
      "metadata": {
        "id": "CdjcqOHG_kv8"
      },
      "execution_count": 1,
      "outputs": []
    },
    {
      "cell_type": "code",
      "source": [
        "b = 'hatacter'"
      ],
      "metadata": {
        "id": "uhJO9m9C_mCK"
      },
      "execution_count": 2,
      "outputs": []
    },
    {
      "cell_type": "code",
      "source": [
        "print(f'a={a} b={b}, then {a}+{b} = {a+b}') #string + string = เอามารวมกัน"
      ],
      "metadata": {
        "colab": {
          "base_uri": "https://localhost:8080/"
        },
        "id": "CkA49ZQk_wXs",
        "outputId": "3328975a-84dd-4a26-e1f6-42b62d3b144a"
      },
      "execution_count": 3,
      "outputs": [
        {
          "output_type": "stream",
          "name": "stdout",
          "text": [
            "a=C b=hatacter, then C+hatacter = Chatacter\n"
          ]
        }
      ]
    },
    {
      "cell_type": "code",
      "source": [
        "A ='ccccc'\n",
        "B = 'a'"
      ],
      "metadata": {
        "id": "vBanCSC2_6hf"
      },
      "execution_count": 55,
      "outputs": []
    },
    {
      "cell_type": "code",
      "source": [
        "print(A+B)"
      ],
      "metadata": {
        "colab": {
          "base_uri": "https://localhost:8080/"
        },
        "id": "Dtg2uAdX_-jp",
        "outputId": "4a137828-2235-4d3c-fe65-da008efe0e4d"
      },
      "execution_count": 5,
      "outputs": [
        {
          "output_type": "stream",
          "name": "stdout",
          "text": [
            "ca\n"
          ]
        }
      ]
    },
    {
      "cell_type": "code",
      "source": [
        "A = '1'\n",
        "B = 2"
      ],
      "metadata": {
        "id": "nsmsrAQuezYO"
      },
      "execution_count": 7,
      "outputs": []
    },
    {
      "cell_type": "code",
      "source": [
        "print(A,B) # print แล้วไม่เห็นความต่างระหว่างตัวเลขหรือตัวอักษร"
      ],
      "metadata": {
        "colab": {
          "base_uri": "https://localhost:8080/"
        },
        "id": "hed00Pu9e7kC",
        "outputId": "9f6d0d23-d3aa-4031-de19-6f463ee8f992"
      },
      "execution_count": 8,
      "outputs": [
        {
          "output_type": "stream",
          "name": "stdout",
          "text": [
            "1 2\n"
          ]
        }
      ]
    },
    {
      "cell_type": "code",
      "source": [
        "A"
      ],
      "metadata": {
        "colab": {
          "base_uri": "https://localhost:8080/",
          "height": 36
        },
        "id": "Lb2zhhyZfAc2",
        "outputId": "1f33b36c-4269-415b-97a8-9a9f446fdb77"
      },
      "execution_count": 9,
      "outputs": [
        {
          "output_type": "execute_result",
          "data": {
            "text/plain": [
              "'1'"
            ],
            "application/vnd.google.colaboratory.intrinsic+json": {
              "type": "string"
            }
          },
          "metadata": {},
          "execution_count": 9
        }
      ]
    },
    {
      "cell_type": "code",
      "source": [
        "B"
      ],
      "metadata": {
        "colab": {
          "base_uri": "https://localhost:8080/"
        },
        "id": "u0Vs_DjofCZ5",
        "outputId": "73bfe491-c3f0-4df3-ff23-a886bd163458"
      },
      "execution_count": 10,
      "outputs": [
        {
          "output_type": "execute_result",
          "data": {
            "text/plain": [
              "2"
            ]
          },
          "metadata": {},
          "execution_count": 10
        }
      ]
    },
    {
      "cell_type": "code",
      "source": [
        "# operater หน้าตาเหมือนกันแต่ถ้าทำงานกับตัวแปรต่่างชนิดกันก็จะได้ผลลัพธ์ต่างกัน\n",
        "A+B"
      ],
      "metadata": {
        "colab": {
          "base_uri": "https://localhost:8080/",
          "height": 165
        },
        "id": "kfs0eu_3fYUS",
        "outputId": "f6cf2b86-db55-4a74-b3f6-efdf0a944c98"
      },
      "execution_count": 11,
      "outputs": [
        {
          "output_type": "error",
          "ename": "TypeError",
          "evalue": "can only concatenate str (not \"int\") to str",
          "traceback": [
            "\u001b[0;31m---------------------------------------------------------------------------\u001b[0m",
            "\u001b[0;31mTypeError\u001b[0m                                 Traceback (most recent call last)",
            "\u001b[0;32m<ipython-input-11-889414030cdc>\u001b[0m in \u001b[0;36m<cell line: 2>\u001b[0;34m()\u001b[0m\n\u001b[1;32m      1\u001b[0m \u001b[0;31m# operater หน้าตาเหมือนกันแต่ถ้าทำงานกับตัวแปรต่่างชนิดกันก็จะได้ผลลัพธ์ต่างกัน\u001b[0m\u001b[0;34m\u001b[0m\u001b[0;34m\u001b[0m\u001b[0m\n\u001b[0;32m----> 2\u001b[0;31m \u001b[0mA\u001b[0m\u001b[0;34m+\u001b[0m\u001b[0mB\u001b[0m\u001b[0;34m\u001b[0m\u001b[0;34m\u001b[0m\u001b[0m\n\u001b[0m",
            "\u001b[0;31mTypeError\u001b[0m: can only concatenate str (not \"int\") to str"
          ]
        }
      ]
    },
    {
      "cell_type": "markdown",
      "source": [
        "####```integer * char```mean multiple copies of the char หรือสามารถคูณตัวอักษรเพื่อแสดงผลเท่าผลคูณได้"
      ],
      "metadata": {
        "id": "Oni4-2pSAaFj"
      }
    },
    {
      "cell_type": "code",
      "source": [
        "print(5*'T')"
      ],
      "metadata": {
        "colab": {
          "base_uri": "https://localhost:8080/"
        },
        "id": "3lnB0SYRAFtJ",
        "outputId": "2b57738a-8351-4ba0-ed7e-6feb963743e4"
      },
      "execution_count": 6,
      "outputs": [
        {
          "output_type": "stream",
          "name": "stdout",
          "text": [
            "TTTTT\n"
          ]
        }
      ]
    },
    {
      "cell_type": "code",
      "source": [
        "print(100*'Ha')"
      ],
      "metadata": {
        "colab": {
          "base_uri": "https://localhost:8080/"
        },
        "id": "YJ9QmnLnBqba",
        "outputId": "6d94b705-1f2e-4891-e00a-6e66f13fb354"
      },
      "execution_count": 12,
      "outputs": [
        {
          "output_type": "stream",
          "name": "stdout",
          "text": [
            "HaHaHaHaHaHaHaHaHaHaHaHaHaHaHaHaHaHaHaHaHaHaHaHaHaHaHaHaHaHaHaHaHaHaHaHaHaHaHaHaHaHaHaHaHaHaHaHaHaHaHaHaHaHaHaHaHaHaHaHaHaHaHaHaHaHaHaHaHaHaHaHaHaHaHaHaHaHaHaHaHaHaHaHaHaHaHaHaHaHaHaHaHaHaHaHaHaHaHaHa\n"
          ]
        }
      ]
    },
    {
      "cell_type": "markdown",
      "source": [
        "# List() โครงสร้างข้อมูล"
      ],
      "metadata": {
        "id": "DkzeOOYAgv-q"
      }
    },
    {
      "cell_type": "markdown",
      "source": [
        "เป็นแนวทางในการจัดเก็บข้อมูลให้อยู่ในที่เดียวกัน ลำดับใน list มีความสำคัญ"
      ],
      "metadata": {
        "id": "0wKAxmP3iG1q"
      }
    },
    {
      "cell_type": "code",
      "source": [
        "list_a = [1,2,3]"
      ],
      "metadata": {
        "id": "uAILNwujg9HR"
      },
      "execution_count": 13,
      "outputs": []
    },
    {
      "cell_type": "code",
      "source": [
        "list_b = list()"
      ],
      "metadata": {
        "id": "UM6ffgVKhdhY"
      },
      "execution_count": 14,
      "outputs": []
    },
    {
      "cell_type": "code",
      "source": [
        "list_b"
      ],
      "metadata": {
        "colab": {
          "base_uri": "https://localhost:8080/"
        },
        "id": "jNcMJrrfhkb_",
        "outputId": "46a33a6d-049c-4153-efab-f1e1f6808e35"
      },
      "execution_count": 15,
      "outputs": [
        {
          "output_type": "execute_result",
          "data": {
            "text/plain": [
              "[]"
            ]
          },
          "metadata": {},
          "execution_count": 15
        }
      ]
    },
    {
      "cell_type": "code",
      "source": [
        "list_b.append(1) # การเอาสมาชิกไปต่อคิว\n",
        "list_b.append(2)\n",
        "list_b"
      ],
      "metadata": {
        "colab": {
          "base_uri": "https://localhost:8080/"
        },
        "id": "SIDkL0_Fh0As",
        "outputId": "0be139f8-4473-464c-da7f-12a9d6a6db32"
      },
      "execution_count": 16,
      "outputs": [
        {
          "output_type": "execute_result",
          "data": {
            "text/plain": [
              "[1, 2]"
            ]
          },
          "metadata": {},
          "execution_count": 16
        }
      ]
    },
    {
      "cell_type": "code",
      "source": [
        "#เพิ่มสมาชิกใน list"
      ],
      "metadata": {
        "id": "__94tKgCir8x"
      },
      "execution_count": null,
      "outputs": []
    },
    {
      "cell_type": "code",
      "source": [
        "list_b.append('f') # การเอาสมาชิกไปต่อคิว\n",
        "list_b.append([12,6,'a'])\n",
        "list_b"
      ],
      "metadata": {
        "colab": {
          "base_uri": "https://localhost:8080/"
        },
        "id": "Xk4oBng2iYES",
        "outputId": "e5e5cb4c-53ab-4331-f12e-1ce4f0772f2d"
      },
      "execution_count": 17,
      "outputs": [
        {
          "output_type": "execute_result",
          "data": {
            "text/plain": [
              "[1, 2, 'f', [12, 6, 'a']]"
            ]
          },
          "metadata": {},
          "execution_count": 17
        }
      ]
    },
    {
      "cell_type": "code",
      "source": [
        "# ชี้สมาชิกใน list by index"
      ],
      "metadata": {
        "id": "igjAZdP_io5V"
      },
      "execution_count": null,
      "outputs": []
    },
    {
      "cell_type": "code",
      "source": [
        "list_b[3]  # index"
      ],
      "metadata": {
        "colab": {
          "base_uri": "https://localhost:8080/"
        },
        "id": "40PfoO-Ci0u_",
        "outputId": "f8be0571-7f11-40b7-b361-abff39b11383"
      },
      "execution_count": 18,
      "outputs": [
        {
          "output_type": "execute_result",
          "data": {
            "text/plain": [
              "[12, 6, 'a']"
            ]
          },
          "metadata": {},
          "execution_count": 18
        }
      ]
    },
    {
      "cell_type": "markdown",
      "source": [
        "# For วนซ้ำ\n",
        "\n",
        "```\n",
        "for สมาชิกแต่ละตัว in list:\n",
        "    ทำอะไรซักอย่าง\n",
        "```"
      ],
      "metadata": {
        "id": "_ewvL_V6g1Tt"
      }
    },
    {
      "cell_type": "code",
      "source": [
        "for i in [1, 2, 3, 5, 7] : # print สมาชิกใน list\n",
        "  print(i,end=' ')"
      ],
      "metadata": {
        "colab": {
          "base_uri": "https://localhost:8080/"
        },
        "id": "EN3BysRwkKEe",
        "outputId": "3f2bfed3-cfb1-4f2d-c29a-6cb3f7164142"
      },
      "execution_count": 19,
      "outputs": [
        {
          "output_type": "stream",
          "name": "stdout",
          "text": [
            "1 2 3 5 7 "
          ]
        }
      ]
    },
    {
      "cell_type": "code",
      "source": [
        "for i in [1, 2, 3, 5, 7] : # print สมาชิกใน list\n",
        "  print(i*2,end=' ')"
      ],
      "metadata": {
        "colab": {
          "base_uri": "https://localhost:8080/"
        },
        "id": "hdGe32ORkkCf",
        "outputId": "7acd61aa-5680-4ac9-de6b-f9de5b6fb310"
      },
      "execution_count": 20,
      "outputs": [
        {
          "output_type": "stream",
          "name": "stdout",
          "text": [
            "2 4 6 10 14 "
          ]
        }
      ]
    },
    {
      "cell_type": "markdown",
      "source": [
        "***\n",
        "**Quiz 1**\n",
        "\n",
        "print Ka 5 ครั้ง ต่อด้วย Ga 10 ครั้ง แบบใช้ loop\n",
        "และขั้น Ka แต่ละตัวด้วย + ขั้น Ga แต่ละตัวด้วย x (อยู่บบทัดเดียวกันทั้งหมด)"
      ],
      "metadata": {
        "id": "APmqR1RdBgya"
      }
    },
    {
      "cell_type": "code",
      "source": [
        "for i in ['Ka','Ga'] :\n",
        "  print(i,end='+')"
      ],
      "metadata": {
        "colab": {
          "base_uri": "https://localhost:8080/"
        },
        "id": "ZgJHyGjqlPvO",
        "outputId": "125f0332-72d8-406f-eed0-4c28e56ee588"
      },
      "execution_count": 25,
      "outputs": [
        {
          "output_type": "stream",
          "name": "stdout",
          "text": [
            "K+aaaaa\n",
            "G+aaaaa\n"
          ]
        }
      ]
    },
    {
      "cell_type": "code",
      "source": [
        "for j in range (5):\n",
        "        Ha='Ka'\n",
        "        print(Ha,end='+')"
      ],
      "metadata": {
        "colab": {
          "base_uri": "https://localhost:8080/"
        },
        "id": "lTiJ_Xv-mwf7",
        "outputId": "6f53e899-1d23-46a7-c308-6c4f46a76710"
      },
      "execution_count": 56,
      "outputs": [
        {
          "output_type": "stream",
          "name": "stdout",
          "text": [
            "Ka+Ka+Ka+Ka+Ka+"
          ]
        }
      ]
    },
    {
      "cell_type": "code",
      "source": [
        "for j in range (10):\n",
        "        Ha='Ga'\n",
        "        print(Ha,end='x')"
      ],
      "metadata": {
        "colab": {
          "base_uri": "https://localhost:8080/"
        },
        "id": "bDY2hGB3nLdK",
        "outputId": "99f2a74d-0e88-4455-ec31-685669268791"
      },
      "execution_count": 31,
      "outputs": [
        {
          "output_type": "stream",
          "name": "stdout",
          "text": [
            "GaxGaxGaxGaxGaxGaxGaxGaxGaxGax"
          ]
        }
      ]
    },
    {
      "cell_type": "code",
      "source": [
        "# Initialize empty strings for the sequences\n",
        "ka_sequence = ''\n",
        "ga_sequence = ''\n",
        "\n",
        "# Loop to add 'Ka' 5 times separated by '+'\n",
        "for i in range(5):\n",
        "    if i == 0:\n",
        "        ka_sequence += 'Ka'\n",
        "    else:\n",
        "        ka_sequence += '+Ka'\n",
        "\n",
        "# Loop to add 'Ga' 10 times separated by 'x'\n",
        "for i in range(10):\n",
        "    if i == 0:\n",
        "        ga_sequence += 'Ga'\n",
        "    else:\n",
        "        ga_sequence += 'xGa'\n",
        "\n",
        "# Concatenate both sequences\n",
        "result = ka_sequence + ga_sequence\n",
        "print(f'{ka_sequence} % {ga_sequence}')"
      ],
      "metadata": {
        "colab": {
          "base_uri": "https://localhost:8080/"
        },
        "id": "wrsnqgVjnrp6",
        "outputId": "7c514009-6d21-4b5e-9c6e-4ace9e209132"
      },
      "execution_count": 33,
      "outputs": [
        {
          "output_type": "stream",
          "name": "stdout",
          "text": [
            "Ka+Ka+Ka+Ka+Ka % GaxGaxGaxGaxGaxGaxGaxGaxGaxGa\n"
          ]
        }
      ]
    },
    {
      "cell_type": "markdown",
      "source": [
        "## อ.เฉลย"
      ],
      "metadata": {
        "id": "-emgrQWEpTgM"
      }
    },
    {
      "cell_type": "code",
      "source": [
        "for i in range(5):\n",
        "  print('Ka',end='')\n",
        "  if i!=4:\n",
        "    print('+',end='')\n",
        "print('%', end='')\n",
        "for i in range(10):\n",
        "  print('Ga',end='')\n",
        "  if i!=9:\n",
        "    print('x',end='')"
      ],
      "metadata": {
        "colab": {
          "base_uri": "https://localhost:8080/"
        },
        "id": "sHbUArJFmht8",
        "outputId": "110476e8-0f26-4f1e-bd5f-0301ed06924f"
      },
      "execution_count": 34,
      "outputs": [
        {
          "output_type": "stream",
          "name": "stdout",
          "text": [
            "Ka+Ka+Ka+Ka+Ka%GaxGaxGaxGaxGaxGaxGaxGaxGaxGa"
          ]
        }
      ]
    },
    {
      "cell_type": "markdown",
      "source": [
        "***"
      ],
      "metadata": {
        "id": "lCDC9HlrGtxM"
      }
    },
    {
      "cell_type": "markdown",
      "source": [
        "### Int(eger) (จำนวนเต็ม)\n",
        "\n",
        "สำหรับการแสดงข้อมูลจำนวนเต็มเท่านั้น"
      ],
      "metadata": {
        "id": "nm_V6REpF_rN"
      }
    },
    {
      "cell_type": "code",
      "source": [
        "int_a = 7\n",
        "int_b = 2"
      ],
      "metadata": {
        "id": "WfDIV_xGFupZ"
      },
      "execution_count": 38,
      "outputs": []
    },
    {
      "cell_type": "code",
      "source": [
        "print(type(int_a),type(int_b))"
      ],
      "metadata": {
        "id": "KbcyJutkGOdt",
        "outputId": "411ed9f0-bb0d-45ab-9803-f0ec26f52322",
        "colab": {
          "base_uri": "https://localhost:8080/"
        }
      },
      "execution_count": 39,
      "outputs": [
        {
          "output_type": "stream",
          "name": "stdout",
          "text": [
            "<class 'int'> <class 'int'>\n"
          ]
        }
      ]
    },
    {
      "cell_type": "code",
      "source": [
        "int_c = int_a + int_b #assign the value as the output of operation\n",
        "print(int_c)"
      ],
      "metadata": {
        "id": "u7nN1IsnGW3Q",
        "outputId": "37fa69f2-ad57-4b9a-8c29-9a7326f15a6f",
        "colab": {
          "base_uri": "https://localhost:8080/"
        }
      },
      "execution_count": 40,
      "outputs": [
        {
          "output_type": "stream",
          "name": "stdout",
          "text": [
            "9\n"
          ]
        }
      ]
    },
    {
      "cell_type": "code",
      "source": [
        "6**3 # คูณ"
      ],
      "metadata": {
        "colab": {
          "base_uri": "https://localhost:8080/"
        },
        "id": "ioiXVrDJqaWL",
        "outputId": "d385dc73-26a2-4194-d509-99ac4e922869"
      },
      "execution_count": 37,
      "outputs": [
        {
          "output_type": "execute_result",
          "data": {
            "text/plain": [
              "216"
            ]
          },
          "metadata": {},
          "execution_count": 37
        }
      ]
    },
    {
      "cell_type": "code",
      "source": [
        "2**0.5 #sqrt"
      ],
      "metadata": {
        "colab": {
          "base_uri": "https://localhost:8080/"
        },
        "id": "f9cVH92cq993",
        "outputId": "4b5b2c90-9b6e-4deb-b401-de4562bea459"
      },
      "execution_count": 42,
      "outputs": [
        {
          "output_type": "execute_result",
          "data": {
            "text/plain": [
              "1.4142135623730951"
            ]
          },
          "metadata": {},
          "execution_count": 42
        }
      ]
    },
    {
      "cell_type": "markdown",
      "source": [
        "### Float (จำนวนจริง ทศนิยม)\n",
        "\n",
        "สำหรับการแสดงข้อมูลที่เป็นทศนิยมได้"
      ],
      "metadata": {
        "id": "mPMNOOD3GmWo"
      }
    },
    {
      "cell_type": "code",
      "source": [
        "fl_a = 7. #ใส่ . สามารถทำให้เป็นค่าทศนิยมได้\n",
        "fl_b = 2.571"
      ],
      "metadata": {
        "id": "7XZPSOy_GdgY"
      },
      "execution_count": 66,
      "outputs": []
    },
    {
      "cell_type": "code",
      "source": [
        "print(type(fl_a),type(fl_b))"
      ],
      "metadata": {
        "id": "HYRCz1iAG-vm",
        "outputId": "a6640b70-f89f-4093-d23c-351610d6f3d8",
        "colab": {
          "base_uri": "https://localhost:8080/"
        }
      },
      "execution_count": 67,
      "outputs": [
        {
          "output_type": "stream",
          "name": "stdout",
          "text": [
            "<class 'float'> <class 'float'>\n"
          ]
        }
      ]
    },
    {
      "cell_type": "code",
      "source": [
        "fl_a"
      ],
      "metadata": {
        "id": "DPRki3o2HKJz",
        "outputId": "29b33f55-6e28-4794-956f-c4c567cdc8cd",
        "colab": {
          "base_uri": "https://localhost:8080/"
        }
      },
      "execution_count": 68,
      "outputs": [
        {
          "output_type": "execute_result",
          "data": {
            "text/plain": [
              "7.0"
            ]
          },
          "metadata": {},
          "execution_count": 68
        }
      ]
    },
    {
      "cell_type": "code",
      "source": [
        "fl_b"
      ],
      "metadata": {
        "id": "JS_6KNb8HNGG",
        "outputId": "56f1175b-2bfe-4262-a060-6ba797011d64",
        "colab": {
          "base_uri": "https://localhost:8080/"
        }
      },
      "execution_count": 69,
      "outputs": [
        {
          "output_type": "execute_result",
          "data": {
            "text/plain": [
              "2.571"
            ]
          },
          "metadata": {},
          "execution_count": 69
        }
      ]
    },
    {
      "cell_type": "markdown",
      "source": [
        "###Boolean (ตัวแปรที่มีค่า true หรือ False) ตรรกศาสตร์มีแค่ 2 ค่าเท่านั้นคือ True และ False"
      ],
      "metadata": {
        "id": "BbsoMwn1HT7p"
      }
    },
    {
      "cell_type": "code",
      "source": [
        "b_T = True"
      ],
      "metadata": {
        "id": "AHwxT4uuHnO9"
      },
      "execution_count": 44,
      "outputs": []
    },
    {
      "cell_type": "code",
      "source": [
        "b_F = False"
      ],
      "metadata": {
        "id": "tRFaz9SHHtfE"
      },
      "execution_count": 45,
      "outputs": []
    },
    {
      "cell_type": "markdown",
      "source": [
        "all of equation (สัญลักษณ์สำหรับตรรกศาสตร์)\n",
        "\n",
        "```\n",
        "#numeric operands\n",
        "== is equal  # == ตรวจสอบว่าเป็นค่าเดียวกัน\n",
        "\n",
        "!= is not equal\n",
        "\n",
        "> is geater than\n",
        "\n",
        "<= is less than or equal\n",
        "\n",
        "#logic operands\n",
        "\n",
        "| is or\n",
        "\n",
        "& is and\n",
        "\n",
        "#other operands\n",
        "in  ตรวจสอบสมาชิกใน  list\n",
        "is ตรวจสอบชนิดตัแปร\n",
        "```\n",
        "\n"
      ],
      "metadata": {
        "id": "kg8dghdFHwPx"
      }
    },
    {
      "cell_type": "code",
      "source": [
        "b_T | b_F"
      ],
      "metadata": {
        "id": "VYPNz4_1Hvj6",
        "outputId": "70a26fb9-fb1d-4f55-a71d-a28e0064f534",
        "colab": {
          "base_uri": "https://localhost:8080/"
        }
      },
      "execution_count": 46,
      "outputs": [
        {
          "output_type": "execute_result",
          "data": {
            "text/plain": [
              "True"
            ]
          },
          "metadata": {},
          "execution_count": 46
        }
      ]
    },
    {
      "cell_type": "code",
      "source": [
        "b_T & b_F"
      ],
      "metadata": {
        "colab": {
          "base_uri": "https://localhost:8080/"
        },
        "id": "ZWUonfzptW8d",
        "outputId": "491f7a79-cad4-4709-a1fd-15d2e47f28e0"
      },
      "execution_count": 47,
      "outputs": [
        {
          "output_type": "execute_result",
          "data": {
            "text/plain": [
              "False"
            ]
          },
          "metadata": {},
          "execution_count": 47
        }
      ]
    },
    {
      "cell_type": "code",
      "source": [
        "name = 'Khon Kaen University'\n",
        "print('T' in name)\n",
        "print('t' in name)"
      ],
      "metadata": {
        "colab": {
          "base_uri": "https://localhost:8080/"
        },
        "id": "JTCUvm1atdIK",
        "outputId": "b6bcf760-acbc-48d2-d97f-6fbe228dba47"
      },
      "execution_count": 48,
      "outputs": [
        {
          "output_type": "stream",
          "name": "stdout",
          "text": [
            "False\n",
            "True\n"
          ]
        }
      ]
    },
    {
      "cell_type": "markdown",
      "source": [
        "### Complex number (จำนวนเชิงซ้อน)"
      ],
      "metadata": {
        "id": "nKDDMUcrIUiU"
      }
    },
    {
      "cell_type": "code",
      "source": [
        "x = 1+ 2j #j จน จินตภาพ"
      ],
      "metadata": {
        "id": "cvZgCS4SIScD"
      },
      "execution_count": 50,
      "outputs": []
    },
    {
      "cell_type": "code",
      "source": [
        "x"
      ],
      "metadata": {
        "colab": {
          "base_uri": "https://localhost:8080/"
        },
        "id": "xh4WjV7ZuJ1I",
        "outputId": "a3d4ea8a-3352-4798-cb59-13f5dd8fd560"
      },
      "execution_count": 52,
      "outputs": [
        {
          "output_type": "execute_result",
          "data": {
            "text/plain": [
              "(1+2j)"
            ]
          },
          "metadata": {},
          "execution_count": 52
        }
      ]
    },
    {
      "cell_type": "markdown",
      "source": [
        "we can check the datatype with type()"
      ],
      "metadata": {
        "id": "j0KZNNl6IdSS"
      }
    },
    {
      "cell_type": "code",
      "source": [
        "print (f'variable x value is {x} and datatype is {type(x)}')"
      ],
      "metadata": {
        "id": "b5x8UpvwIbxY",
        "outputId": "c638e1f0-ca8d-4603-83e8-ee0dfd64550f",
        "colab": {
          "base_uri": "https://localhost:8080/"
        }
      },
      "execution_count": 51,
      "outputs": [
        {
          "output_type": "stream",
          "name": "stdout",
          "text": [
            "variable x value is (1+2j) and datatype is <class 'complex'>\n"
          ]
        }
      ]
    },
    {
      "cell_type": "code",
      "source": [
        "print (f'ตัวแปร A ค่าคือ {A} ชนิด {type(A)}')"
      ],
      "metadata": {
        "id": "XQQqGZLcIxxM",
        "outputId": "3471d687-997f-4d48-bd69-b508d9fb1300",
        "colab": {
          "base_uri": "https://localhost:8080/"
        }
      },
      "execution_count": 57,
      "outputs": [
        {
          "output_type": "stream",
          "name": "stdout",
          "text": [
            "ตัวแปร A ค่าคือ ccccc ชนิด <class 'str'>\n"
          ]
        }
      ]
    },
    {
      "cell_type": "code",
      "source": [
        "print (f'ตัวแปร a ค่าคือ {a} ชนิด {type(a)}')"
      ],
      "metadata": {
        "id": "ItVhvTShI5ek",
        "outputId": "5208cfac-214d-46c6-e59b-2f63ed2a263e",
        "colab": {
          "base_uri": "https://localhost:8080/"
        }
      },
      "execution_count": 58,
      "outputs": [
        {
          "output_type": "stream",
          "name": "stdout",
          "text": [
            "ตัวแปร a ค่าคือ C ชนิด <class 'str'>\n"
          ]
        }
      ]
    },
    {
      "cell_type": "markdown",
      "source": [
        "##การแปลงชนิดของตัวแปร (Variable Casting)"
      ],
      "metadata": {
        "id": "joXu_ngYJQJ3"
      }
    },
    {
      "cell_type": "code",
      "source": [
        "print(f'int a = {int_a} int_b = {int_b} Fl_a {fl_a} Fl_b={fl_b}')"
      ],
      "metadata": {
        "id": "j5Pej_rkJPwh",
        "outputId": "43a2bb62-0b65-4636-d109-60ad31fda7be",
        "colab": {
          "base_uri": "https://localhost:8080/"
        }
      },
      "execution_count": 70,
      "outputs": [
        {
          "output_type": "stream",
          "name": "stdout",
          "text": [
            "int a = 7 int_b = 2 Fl_a 7.0 Fl_b=2.571\n"
          ]
        }
      ]
    },
    {
      "cell_type": "code",
      "source": [
        "str_a = '6'\n",
        "str_b = '-2'"
      ],
      "metadata": {
        "id": "4m5QSvrVJ5TR"
      },
      "execution_count": 59,
      "outputs": []
    },
    {
      "cell_type": "code",
      "source": [
        "str_a2int = int(str_a) # Transform string into int แปลงค่าจาก String เป็น int\n",
        "print(f'ตัวแปร str_a2int ค่าคือ {str_a2int} ชนิด {type(str_a2int)}')"
      ],
      "metadata": {
        "id": "G2S-qjanJ_4A",
        "outputId": "ef423dc6-2b87-46d3-cdc4-1de0d71396f9",
        "colab": {
          "base_uri": "https://localhost:8080/"
        }
      },
      "execution_count": 60,
      "outputs": [
        {
          "output_type": "stream",
          "name": "stdout",
          "text": [
            "ตัวแปร str_a2int ค่าคือ 6 ชนิด <class 'int'>\n"
          ]
        }
      ]
    },
    {
      "cell_type": "code",
      "source": [
        "str_a2int + int_a"
      ],
      "metadata": {
        "id": "_KFJn3ZvKWuz",
        "outputId": "7248201d-cc3d-455d-b11d-854fc2c7d922",
        "colab": {
          "base_uri": "https://localhost:8080/"
        }
      },
      "execution_count": 61,
      "outputs": [
        {
          "output_type": "execute_result",
          "data": {
            "text/plain": [
              "13"
            ]
          },
          "metadata": {},
          "execution_count": 61
        }
      ]
    },
    {
      "cell_type": "code",
      "source": [
        "str_a + int_a #ไม่สามารถนำ string + int ได้"
      ],
      "metadata": {
        "id": "NyZfTn8DKibW",
        "outputId": "cddce200-97a0-4411-8b1b-d0e40e16670f",
        "colab": {
          "base_uri": "https://localhost:8080/",
          "height": 146
        }
      },
      "execution_count": 71,
      "outputs": [
        {
          "output_type": "error",
          "ename": "TypeError",
          "evalue": "can only concatenate str (not \"int\") to str",
          "traceback": [
            "\u001b[0;31m---------------------------------------------------------------------------\u001b[0m",
            "\u001b[0;31mTypeError\u001b[0m                                 Traceback (most recent call last)",
            "\u001b[0;32m<ipython-input-71-155156bbe683>\u001b[0m in \u001b[0;36m<cell line: 1>\u001b[0;34m()\u001b[0m\n\u001b[0;32m----> 1\u001b[0;31m \u001b[0mstr_a\u001b[0m \u001b[0;34m+\u001b[0m \u001b[0mint_a\u001b[0m \u001b[0;31m#ไม่สามารถนำ string + int ได้\u001b[0m\u001b[0;34m\u001b[0m\u001b[0;34m\u001b[0m\u001b[0m\n\u001b[0m",
            "\u001b[0;31mTypeError\u001b[0m: can only concatenate str (not \"int\") to str"
          ]
        }
      ]
    },
    {
      "cell_type": "code",
      "source": [
        "str(fl_b) #transform float to string แปลงค่าจาก Float เป็น string ได้"
      ],
      "metadata": {
        "id": "JeVH4S4AKq6S",
        "outputId": "c6e14091-c4a2-477e-b1ce-eb1d6e1700ef",
        "colab": {
          "base_uri": "https://localhost:8080/",
          "height": 36
        }
      },
      "execution_count": 72,
      "outputs": [
        {
          "output_type": "execute_result",
          "data": {
            "text/plain": [
              "'2.571'"
            ],
            "application/vnd.google.colaboratory.intrinsic+json": {
              "type": "string"
            }
          },
          "metadata": {},
          "execution_count": 72
        }
      ]
    },
    {
      "cell_type": "code",
      "source": [
        "int(fl_b) #transform float to int (but it will cut te floating point) แปลงค่าจาก float เป็น int ได้แต่จะตัดจุดทศนิยมออกไป"
      ],
      "metadata": {
        "id": "QTiKLXKSLPHu",
        "outputId": "6b75e61c-1346-412f-ecca-8f50bb11213e",
        "colab": {
          "base_uri": "https://localhost:8080/"
        }
      },
      "execution_count": 73,
      "outputs": [
        {
          "output_type": "execute_result",
          "data": {
            "text/plain": [
              "2"
            ]
          },
          "metadata": {},
          "execution_count": 73
        }
      ]
    },
    {
      "cell_type": "markdown",
      "source": [
        "# More about string"
      ],
      "metadata": {
        "id": "ITh167pN7Yw5"
      }
    },
    {
      "cell_type": "markdown",
      "source": [
        "## Replace() แทนที่ character ใน String"
      ],
      "metadata": {
        "id": "8YFNUDO4LmdQ"
      }
    },
    {
      "cell_type": "markdown",
      "source": [
        "การแปลงค่าด้วยข้อมูล String"
      ],
      "metadata": {
        "id": "cmoF4NRwRRtl"
      }
    },
    {
      "cell_type": "code",
      "source": [
        "st_test1 = 'Department of Statistics,'"
      ],
      "metadata": {
        "id": "CL-j3LuCLVn9"
      },
      "execution_count": 64,
      "outputs": []
    },
    {
      "cell_type": "code",
      "source": [
        "st_test1.replace('e',' ') #replace e with space แทน e ด้วยช่องว่าง  #แสดงผลแล้วไม่เก็บค่า ไม่สามารถนำค่ามาใช้ต่อได้"
      ],
      "metadata": {
        "id": "JnP8RDvtMPEY",
        "outputId": "ed918eb4-841f-4a26-cb57-e893391fb880",
        "colab": {
          "base_uri": "https://localhost:8080/",
          "height": 36
        }
      },
      "execution_count": 77,
      "outputs": [
        {
          "output_type": "execute_result",
          "data": {
            "text/plain": [
              "'D partm nt of Statistics,'"
            ],
            "application/vnd.google.colaboratory.intrinsic+json": {
              "type": "string"
            }
          },
          "metadata": {},
          "execution_count": 77
        }
      ]
    },
    {
      "cell_type": "code",
      "source": [
        "'Department of Statistics,'.replace('e',' ')"
      ],
      "metadata": {
        "colab": {
          "base_uri": "https://localhost:8080/",
          "height": 36
        },
        "id": "GQDGmri3weEk",
        "outputId": "08654a37-2957-4c13-eae1-2af306f73dfa"
      },
      "execution_count": 75,
      "outputs": [
        {
          "output_type": "execute_result",
          "data": {
            "text/plain": [
              "'D partm nt of Statistics,'"
            ],
            "application/vnd.google.colaboratory.intrinsic+json": {
              "type": "string"
            }
          },
          "metadata": {},
          "execution_count": 75
        }
      ]
    },
    {
      "cell_type": "code",
      "source": [
        "st_test1"
      ],
      "metadata": {
        "id": "ID_umjiYNGjY",
        "outputId": "1cc08b63-40ad-4361-b375-650de0117bda",
        "colab": {
          "base_uri": "https://localhost:8080/",
          "height": 36
        }
      },
      "execution_count": 76,
      "outputs": [
        {
          "output_type": "execute_result",
          "data": {
            "text/plain": [
              "'Department of Statistics,'"
            ],
            "application/vnd.google.colaboratory.intrinsic+json": {
              "type": "string"
            }
          },
          "metadata": {},
          "execution_count": 76
        }
      ]
    },
    {
      "cell_type": "code",
      "source": [
        "st_test2 = st_test1.replace('e',' ') #เอาตัวแปรมารับ ไม่มี output"
      ],
      "metadata": {
        "id": "rYUU_OLcMZJt"
      },
      "execution_count": 78,
      "outputs": []
    },
    {
      "cell_type": "code",
      "source": [
        "st_test2"
      ],
      "metadata": {
        "id": "NCY7ZBvFMrvi",
        "outputId": "122fc8b5-f742-45d7-a161-445e643a836a",
        "colab": {
          "base_uri": "https://localhost:8080/",
          "height": 36
        }
      },
      "execution_count": 79,
      "outputs": [
        {
          "output_type": "execute_result",
          "data": {
            "text/plain": [
              "'D partm nt of Statistics,'"
            ],
            "application/vnd.google.colaboratory.intrinsic+json": {
              "type": "string"
            }
          },
          "metadata": {},
          "execution_count": 79
        }
      ]
    },
    {
      "cell_type": "code",
      "source": [
        "st_test1.replace('ti','TI') # Modify ti to TI เปลี่ยน ti เป็น TI"
      ],
      "metadata": {
        "id": "rXQkaJW_ND8e",
        "outputId": "694f8616-4110-461d-9a61-022dcdc76f8d",
        "colab": {
          "base_uri": "https://localhost:8080/",
          "height": 36
        }
      },
      "execution_count": 80,
      "outputs": [
        {
          "output_type": "execute_result",
          "data": {
            "text/plain": [
              "'Department of StaTIsTIcs,'"
            ],
            "application/vnd.google.colaboratory.intrinsic+json": {
              "type": "string"
            }
          },
          "metadata": {},
          "execution_count": 80
        }
      ]
    },
    {
      "cell_type": "markdown",
      "source": [
        "## split() แยก string"
      ],
      "metadata": {
        "id": "E29yNtS1OM3S"
      }
    },
    {
      "cell_type": "markdown",
      "source": [
        "การแยกข้อมูลไว้สำหรับตัดข้อมูลออกซึ่งจะเก็บในรูปแบบ list"
      ],
      "metadata": {
        "id": "JNejsy9MRcOQ"
      }
    },
    {
      "cell_type": "code",
      "source": [
        "a = 'a b c d e f g'"
      ],
      "metadata": {
        "id": "TAVcerUKx8BN"
      },
      "execution_count": 81,
      "outputs": []
    },
    {
      "cell_type": "code",
      "source": [
        "a.split()"
      ],
      "metadata": {
        "colab": {
          "base_uri": "https://localhost:8080/"
        },
        "id": "wVCd936cx_nO",
        "outputId": "fc2c84a5-22b1-4854-dddc-a14f453c1b85"
      },
      "execution_count": 83,
      "outputs": [
        {
          "output_type": "execute_result",
          "data": {
            "text/plain": [
              "['a', 'b', 'c', 'd', 'e', 'f', 'g']"
            ]
          },
          "metadata": {},
          "execution_count": 83
        }
      ]
    },
    {
      "cell_type": "code",
      "source": [
        "'a b c d e f g'.split() #ตัด string ที่ช่องว่าง"
      ],
      "metadata": {
        "id": "sSInuCufNrJ8",
        "outputId": "ec63bba4-0290-4b4a-ecc5-8360258b21f0",
        "colab": {
          "base_uri": "https://localhost:8080/"
        }
      },
      "execution_count": 84,
      "outputs": [
        {
          "output_type": "execute_result",
          "data": {
            "text/plain": [
              "['a', 'b', 'c', 'd', 'e', 'f', 'g']"
            ]
          },
          "metadata": {},
          "execution_count": 84
        }
      ]
    },
    {
      "cell_type": "code",
      "source": [
        "'abc de fg'.split() # แยกด้วย ช่องว่าง"
      ],
      "metadata": {
        "id": "QnXAFBSzObln",
        "outputId": "06293e65-bc5a-4d7d-e9b9-72e198d296dc",
        "colab": {
          "base_uri": "https://localhost:8080/"
        }
      },
      "execution_count": 85,
      "outputs": [
        {
          "output_type": "execute_result",
          "data": {
            "text/plain": [
              "['abc', 'de', 'fg']"
            ]
          },
          "metadata": {},
          "execution_count": 85
        }
      ]
    },
    {
      "cell_type": "code",
      "source": [
        "'a,b/c,d e/f g'.split('/') # แยกด้วย /"
      ],
      "metadata": {
        "id": "LAj0aYmuOs4O",
        "outputId": "2326fb3d-2a8a-49b5-aa91-d74eb2451273",
        "colab": {
          "base_uri": "https://localhost:8080/"
        }
      },
      "execution_count": 86,
      "outputs": [
        {
          "output_type": "execute_result",
          "data": {
            "text/plain": [
              "['a,b', 'c,d e', 'f g']"
            ]
          },
          "metadata": {},
          "execution_count": 86
        }
      ]
    },
    {
      "cell_type": "markdown",
      "source": [
        "# Quiz 3\n",
        "\n",
        "แยก 'a,b/c,d e/f g' ออกมาเป็น list--> ['a','b','c','d','e','f','g']"
      ],
      "metadata": {
        "id": "OJICkMGMyLJA"
      }
    },
    {
      "cell_type": "code",
      "source": [
        "split_1 = 'a,b/c,d e/f g'.replace(',',' ')\n",
        "split_1"
      ],
      "metadata": {
        "colab": {
          "base_uri": "https://localhost:8080/",
          "height": 36
        },
        "id": "lbiPwBd60NU6",
        "outputId": "8149e41a-5f85-4164-d8bd-46db0ee4d456"
      },
      "execution_count": 99,
      "outputs": [
        {
          "output_type": "execute_result",
          "data": {
            "text/plain": [
              "'a b/c d e/f g'"
            ],
            "application/vnd.google.colaboratory.intrinsic+json": {
              "type": "string"
            }
          },
          "metadata": {},
          "execution_count": 99
        }
      ]
    },
    {
      "cell_type": "code",
      "source": [
        "split_2 = split_1.replace('/',' ')\n",
        "split_2"
      ],
      "metadata": {
        "colab": {
          "base_uri": "https://localhost:8080/",
          "height": 36
        },
        "id": "rT2E8tDI0cgm",
        "outputId": "ff8a4ced-93af-4db1-a0a4-63ec6af7790a"
      },
      "execution_count": 101,
      "outputs": [
        {
          "output_type": "execute_result",
          "data": {
            "text/plain": [
              "'a b c d e f g'"
            ],
            "application/vnd.google.colaboratory.intrinsic+json": {
              "type": "string"
            }
          },
          "metadata": {},
          "execution_count": 101
        }
      ]
    },
    {
      "cell_type": "code",
      "source": [
        "split_text = split_2.split()\n",
        "split_text"
      ],
      "metadata": {
        "colab": {
          "base_uri": "https://localhost:8080/"
        },
        "id": "LCUBe3vk0ouu",
        "outputId": "921541c9-94f4-403f-9eb3-a813b49a31a1"
      },
      "execution_count": 103,
      "outputs": [
        {
          "output_type": "execute_result",
          "data": {
            "text/plain": [
              "['a', 'b', 'c', 'd', 'e', 'f', 'g']"
            ]
          },
          "metadata": {},
          "execution_count": 103
        }
      ]
    },
    {
      "cell_type": "code",
      "source": [
        " split_text = 'a,b/c,d e/f g'.replace(',',' ').replace('/',' ').split()\n",
        " split_text"
      ],
      "metadata": {
        "colab": {
          "base_uri": "https://localhost:8080/"
        },
        "id": "xivxyTvQzXoX",
        "outputId": "05c1992e-1956-450b-8030-6376f99607b2"
      },
      "execution_count": 94,
      "outputs": [
        {
          "output_type": "execute_result",
          "data": {
            "text/plain": [
              "['a', 'b', 'c', 'd', 'e', 'f', 'g']"
            ]
          },
          "metadata": {},
          "execution_count": 94
        }
      ]
    }
  ]
}